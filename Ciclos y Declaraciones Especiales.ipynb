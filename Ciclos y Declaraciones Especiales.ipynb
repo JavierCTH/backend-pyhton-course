{
 "cells": [
  {
   "cell_type": "markdown",
   "id": "b3d8f297",
   "metadata": {},
   "source": [
    "# Ciclos\n",
    "- Declaraciones iterativas\n",
    "- Usados para repetir un bloque específico de código\n",
    "- Repetir procesos\n",
    "\n",
    "- Tipos\n",
    "    - for\n",
    "    - while"
   ]
  },
  {
   "cell_type": "markdown",
   "id": "5d5d3123",
   "metadata": {},
   "source": [
    "## for\n",
    "- Iterar los valores \"n\" número de veces\n",
    "- palabra reservada for\n",
    "- Iterar valores de estructuras de datos (listas, tuplas, sets, diccionarios)\n",
    "- Iterar sobre cada letra de una cadena\n",
    "- Iterar en una secuencia en orden mientrasejecuta un bloque de código"
   ]
  },
  {
   "cell_type": "code",
   "execution_count": 2,
   "id": "7d017b13",
   "metadata": {},
   "outputs": [
    {
     "name": "stdout",
     "output_type": "stream",
     "text": [
      "Backend Python\n",
      "B\n",
      "a\n",
      "c\n",
      "k\n",
      "e\n",
      "n\n",
      "d\n",
      " \n",
      "P\n",
      "y\n",
      "t\n",
      "h\n",
      "o\n",
      "n\n"
     ]
    }
   ],
   "source": [
    "str1 = \"Backend Python\"\n",
    "print(str1)\n",
    "\n",
    "for letter in str1:\n",
    "    print(letter)"
   ]
  },
  {
   "cell_type": "code",
   "execution_count": 3,
   "id": "32ac203c",
   "metadata": {},
   "outputs": [
    {
     "name": "stdout",
     "output_type": "stream",
     "text": [
      "Backend Python\n",
      "ciclo for iterando con la letra:  B\n",
      "ciclo for iterando con la letra:  a\n",
      "ciclo for iterando con la letra:  c\n",
      "ciclo for iterando con la letra:  k\n",
      "ciclo for iterando con la letra:  e\n",
      "ciclo for iterando con la letra:  n\n",
      "ciclo for iterando con la letra:  d\n",
      "ciclo for iterando con la letra:   \n",
      "ciclo for iterando con la letra:  P\n",
      "ciclo for iterando con la letra:  y\n",
      "ciclo for iterando con la letra:  t\n",
      "ciclo for iterando con la letra:  h\n",
      "ciclo for iterando con la letra:  o\n",
      "ciclo for iterando con la letra:  n\n"
     ]
    }
   ],
   "source": [
    "str1 = \"Backend Python\"\n",
    "print(str1)\n",
    "\n",
    "for letter in str1:\n",
    "    print(\"ciclo for iterando con la letra: \", letter)"
   ]
  },
  {
   "cell_type": "code",
   "execution_count": 4,
   "id": "d442b8fa",
   "metadata": {},
   "outputs": [
    {
     "name": "stdout",
     "output_type": "stream",
     "text": [
      "[1, 2, 3, 4, 5]\n",
      "ciclo for iterando con el número:  1\n",
      "ciclo for iterando con el número:  2\n",
      "ciclo for iterando con el número:  3\n",
      "ciclo for iterando con el número:  4\n",
      "ciclo for iterando con el número:  5\n"
     ]
    }
   ],
   "source": [
    "my_list = [1,2,3,4,5]\n",
    "print(my_list)\n",
    "\n",
    "for char in my_list:\n",
    "    print(\"ciclo for iterando con el número: \", char)"
   ]
  },
  {
   "cell_type": "code",
   "execution_count": 6,
   "id": "bac6aaf6",
   "metadata": {},
   "outputs": [
    {
     "name": "stdout",
     "output_type": "stream",
     "text": [
      "ciclo for iterando con el número:  1\n",
      "ciclo for iterando con el número:  2\n",
      "ciclo for iterando con el número:  3\n",
      "ciclo for iterando con el número:  4\n",
      "ciclo for iterando con el número:  5\n"
     ]
    }
   ],
   "source": [
    "for char in range(1,6): # 6-1 = 5\n",
    "    print(\"ciclo for iterando con el número: \", char)"
   ]
  },
  {
   "cell_type": "code",
   "execution_count": 9,
   "id": "d50ea4e1",
   "metadata": {},
   "outputs": [
    {
     "name": "stdout",
     "output_type": "stream",
     "text": [
      "ciclo for iterando con el número:  1\n",
      "ciclo for iterando con el número:  2\n"
     ]
    }
   ],
   "source": [
    "for char in range(1,3): # 3-1 = 2\n",
    "    print(\"ciclo for iterando con el número: \", char)"
   ]
  },
  {
   "cell_type": "markdown",
   "id": "808300e0",
   "metadata": {},
   "source": [
    "### Número pares e impares con ciclo \"for\""
   ]
  },
  {
   "cell_type": "code",
   "execution_count": 18,
   "id": "ee4ff192",
   "metadata": {},
   "outputs": [
    {
     "name": "stdout",
     "output_type": "stream",
     "text": [
      "2 es un numero par\n",
      "4 es un numero par\n",
      "6 es un numero par\n",
      "8 es un numero par\n",
      "10 es un numero par\n",
      "12 es un numero par\n",
      "14 es un numero par\n",
      "16 es un numero par\n",
      "18 es un numero par\n",
      "20 es un numero par\n",
      "22 es un numero par\n",
      "24 es un numero par\n",
      "26 es un numero par\n",
      "28 es un numero par\n",
      "30 es un numero par\n"
     ]
    }
   ],
   "source": [
    "#Pares\n",
    "\n",
    "for char in range(1,30+1): # 31-1 = 30\n",
    "    #print(\"ciclo for iterando con el número: \", char)\n",
    "    if char % 2 == 0:\n",
    "        print(char, \"es un numero par\")"
   ]
  },
  {
   "cell_type": "code",
   "execution_count": 21,
   "id": "9ac2b83c",
   "metadata": {},
   "outputs": [
    {
     "name": "stdout",
     "output_type": "stream",
     "text": [
      "1 es un numero impar\n",
      "3 es un numero impar\n",
      "5 es un numero impar\n",
      "7 es un numero impar\n",
      "9 es un numero impar\n",
      "11 es un numero impar\n",
      "13 es un numero impar\n",
      "15 es un numero impar\n",
      "17 es un numero impar\n",
      "19 es un numero impar\n",
      "21 es un numero impar\n",
      "23 es un numero impar\n",
      "25 es un numero impar\n",
      "27 es un numero impar\n",
      "29 es un numero impar\n"
     ]
    }
   ],
   "source": [
    "#Impares\n",
    "\n",
    "for char in range(1,30+1): # 31-1 = 30\n",
    "    #print(\"ciclo for iterando con el número: \", char)\n",
    "    if char % 2 == 1:\n",
    "        print(char, \"es un numero impar\")"
   ]
  },
  {
   "cell_type": "markdown",
   "id": "62fc8cf3",
   "metadata": {},
   "source": [
    "### for anidado\n",
    "- Ciclo dentro de otro ciclo for\n",
    "- Usamos el ciclo for para hacer una tarea cierta cantidad de veces basado en una condicion\n",
    "\n",
    "\n",
    "- Principal\n",
    "    - Anidado"
   ]
  },
  {
   "cell_type": "code",
   "execution_count": 23,
   "id": "0f48ce8f",
   "metadata": {},
   "outputs": [
    {
     "name": "stdout",
     "output_type": "stream",
     "text": [
      "balón pequeño\n",
      "balón grande\n",
      "balón redondo\n",
      "balón cuadrado\n",
      "balón rojo\n",
      "balón azul\n",
      "bote pequeño\n",
      "bote grande\n",
      "bote redondo\n",
      "bote cuadrado\n",
      "bote rojo\n",
      "bote azul\n",
      "celular pequeño\n",
      "celular grande\n",
      "celular redondo\n",
      "celular cuadrado\n",
      "celular rojo\n",
      "celular azul\n",
      "libro pequeño\n",
      "libro grande\n",
      "libro redondo\n",
      "libro cuadrado\n",
      "libro rojo\n",
      "libro azul\n"
     ]
    }
   ],
   "source": [
    "nouns = (\"balón\", \"bote\", \"celular\", \"libro\")\n",
    "adjectives = [\"pequeño\", \"grande\", \"redondo\", \"cuadrado\", \"rojo\", \"azul\"]\n",
    "\n",
    "for noun in nouns:\n",
    "    for adjective in adjectives:\n",
    "        print(\"{} {}\".format(noun, adjective))"
   ]
  },
  {
   "cell_type": "markdown",
   "id": "554d6abd",
   "metadata": {},
   "source": [
    "## while\n",
    "- Solo se ejecuta si la condición es verdadera\n",
    "- Se puede usar para correr un proceso de manera perpétua\n",
    "- Condicion + bloque\n",
    "- Valida la condición antes de que el bloque sea ejecutado"
   ]
  },
  {
   "cell_type": "code",
   "execution_count": null,
   "id": "32974a2c",
   "metadata": {},
   "outputs": [],
   "source": [
    "my_number = 5\n",
    "while my_number < 5:\n",
    "    print(\"El valor es: \", my_number)"
   ]
  },
  {
   "cell_type": "code",
   "execution_count": 2,
   "id": "0a320e1b",
   "metadata": {},
   "outputs": [
    {
     "name": "stdout",
     "output_type": "stream",
     "text": [
      "Previo al ciclo while\n",
      "\n",
      " Fin\n"
     ]
    }
   ],
   "source": [
    "my_number = 5\n",
    "print(\"Previo al ciclo while\")\n",
    "while my_number < 5:\n",
    "    print(\"Dentro del ciclo while\")\n",
    "    print(\"El valor es: \", my_number)\n",
    "print(\"\\n Fin\")"
   ]
  },
  {
   "cell_type": "code",
   "execution_count": 4,
   "id": "00aa581e",
   "metadata": {},
   "outputs": [
    {
     "name": "stdout",
     "output_type": "stream",
     "text": [
      "Previo al ciclo while\n",
      "\n",
      "Dentro del ciclo while\n",
      "El valor es:  0\n",
      "Dentro del ciclo while\n",
      "El valor es:  1\n",
      "Dentro del ciclo while\n",
      "El valor es:  2\n",
      "Dentro del ciclo while\n",
      "El valor es:  3\n",
      "Dentro del ciclo while\n",
      "El valor es:  4\n",
      "\n",
      " Fin\n"
     ]
    }
   ],
   "source": [
    "my_number = 0\n",
    "print(\"Previo al ciclo while\\n\")\n",
    "while my_number < 5:\n",
    "    print(\"Dentro del ciclo while\")\n",
    "    print(\"El valor es: \", my_number)\n",
    "    my_number += 1 \n",
    "print(\"\\n Fin\")"
   ]
  },
  {
   "cell_type": "code",
   "execution_count": 4,
   "id": "a9f019c8",
   "metadata": {},
   "outputs": [
    {
     "name": "stdout",
     "output_type": "stream",
     "text": [
      "Previo al ciclo while\n",
      "\n",
      "Dentro del ciclo while\n",
      "El valor es:  0\n",
      "Dentro del ciclo while\n",
      "El valor es:  1\n",
      "Dentro del ciclo while\n",
      "El valor es:  2\n",
      "Dentro del ciclo while\n",
      "El valor es:  3\n",
      "Dentro del ciclo while\n",
      "El valor es:  4\n",
      "5 es un numero negativo o mayor a 4\n",
      "\n",
      " Fin\n"
     ]
    }
   ],
   "source": [
    "my_number = 0\n",
    "print(\"Previo al ciclo while\\n\")\n",
    "while my_number >= 0 and my_number < 5:\n",
    "    print(\"Dentro del ciclo while\")\n",
    "    print(\"El valor es: \", my_number)\n",
    "    my_number += 1 \n",
    "\n",
    "else:\n",
    "    print(my_number, \"es un numero negativo o mayor a 4\")\n",
    "print(\"\\n Fin\")"
   ]
  },
  {
   "cell_type": "code",
   "execution_count": 5,
   "id": "f4a5cc4c",
   "metadata": {},
   "outputs": [
    {
     "name": "stdout",
     "output_type": "stream",
     "text": [
      "Previo al ciclo while\n",
      "\n",
      "-6 es un numero negativo o mayor a 4\n",
      "\n",
      " Fin\n"
     ]
    }
   ],
   "source": [
    "my_number = -6\n",
    "print(\"Previo al ciclo while\\n\")\n",
    "while my_number >= 0 and my_number < 5:\n",
    "    print(\"Dentro del ciclo while\")\n",
    "    print(\"El valor es: \", my_number)\n",
    "    my_number += 1 \n",
    "\n",
    "else:\n",
    "    print(my_number, \"es un numero negativo o mayor a 4\")\n",
    "print(\"\\n Fin\")"
   ]
  },
  {
   "cell_type": "markdown",
   "id": "94fb39a8",
   "metadata": {},
   "source": [
    "## Iterando en Estructuras de Datos"
   ]
  },
  {
   "cell_type": "code",
   "execution_count": 9,
   "id": "614101da",
   "metadata": {},
   "outputs": [
    {
     "name": "stdout",
     "output_type": "stream",
     "text": [
      "test@test.com\n",
      "example@test.com\n",
      "sample@test.com\n"
     ]
    }
   ],
   "source": [
    "# List\n",
    "\n",
    "emails = [\"test@test.com\", \"example@test.com\", \"sample@test.com\"]\n",
    "\n",
    "for email in emails:\n",
    "    print(email)"
   ]
  },
  {
   "cell_type": "code",
   "execution_count": 8,
   "id": "77bbd4fc",
   "metadata": {},
   "outputs": [
    {
     "name": "stdout",
     "output_type": "stream",
     "text": [
      "1234\n",
      "3245\n",
      "9876\n"
     ]
    }
   ],
   "source": [
    "# Listas\n",
    "userIds = [1234, 3245, 9876]\n",
    "\n",
    "for userId in userIds:\n",
    "    print(userId)"
   ]
  },
  {
   "cell_type": "code",
   "execution_count": 10,
   "id": "3074ea67",
   "metadata": {},
   "outputs": [
    {
     "name": "stdout",
     "output_type": "stream",
     "text": [
      "{1234: 'test@test.com', 3245: 'example@test.com', 9876: 'sample@test.com'}\n",
      "El user 1234 tiene el correo test@test.com\n",
      "El user 3245 tiene el correo example@test.com\n",
      "El user 9876 tiene el correo sample@test.com\n"
     ]
    }
   ],
   "source": [
    "# Dictionary\n",
    "\n",
    "emails = [\"test@test.com\", \"example@test.com\", \"sample@test.com\"]\n",
    "userIds = [1234, 3245, 9876]\n",
    "my_dict = dict(zip(userIds, emails))\n",
    "\n",
    "print(my_dict)\n",
    "\n",
    "for userId, email in my_dict.items():\n",
    "    print(\"El user {} tiene el correo {}\".format(userId, email))"
   ]
  },
  {
   "cell_type": "code",
   "execution_count": 11,
   "id": "84fd27b2",
   "metadata": {},
   "outputs": [
    {
     "name": "stdout",
     "output_type": "stream",
     "text": [
      "1234\n",
      "3245\n",
      "9876\n"
     ]
    }
   ],
   "source": [
    "# Tuple\n",
    "userIds = (1234, 3245, 9876)\n",
    "\n",
    "for userId in userIds:\n",
    "    print(userId)"
   ]
  },
  {
   "cell_type": "code",
   "execution_count": 12,
   "id": "de793c88",
   "metadata": {},
   "outputs": [
    {
     "name": "stdout",
     "output_type": "stream",
     "text": [
      "1234\n",
      "9876\n",
      "3245\n",
      "4567\n"
     ]
    }
   ],
   "source": [
    "# Set\n",
    "userIds = {1234, 3245, 9876, 1234, 4567, 9876}\n",
    "\n",
    "for userId in userIds:\n",
    "    print(userId)"
   ]
  },
  {
   "cell_type": "markdown",
   "id": "560024a3",
   "metadata": {},
   "source": [
    "## Declaraciones especiales\n",
    "- break : detiene el ciclo\n",
    "- continue : se salta la iteración actual (sin ejecutar el código posterior) y pasar a la siguiente iteración\n",
    "- pass : escribe ciclos vacios o fuunciones/clases vacias"
   ]
  },
  {
   "cell_type": "markdown",
   "id": "31a859d4",
   "metadata": {},
   "source": [
    "### break\n",
    "- Detiene ciclo basado en ciertas condiciones\n",
    "- Ayuda a detener iteraciones innecesarias"
   ]
  },
  {
   "cell_type": "code",
   "execution_count": 14,
   "id": "5b338ec4",
   "metadata": {},
   "outputs": [
    {
     "name": "stdout",
     "output_type": "stream",
     "text": [
      "Previo al ciclo while\n",
      "\n",
      "Dentro del ciclo while\n",
      "El valor es:  0\n",
      "\n",
      " Fin\n"
     ]
    }
   ],
   "source": [
    "my_number = 0\n",
    "past_number = None\n",
    "print(\"Previo al ciclo while\\n\")\n",
    "while my_number < 5:\n",
    "    if past_number == my_number:\n",
    "        break\n",
    "    print(\"Dentro del ciclo while\")\n",
    "    print(\"El valor es: \", my_number)\n",
    "    past_number = my_number\n",
    "print(\"\\n Fin\")"
   ]
  },
  {
   "cell_type": "code",
   "execution_count": 16,
   "id": "fdc0a541",
   "metadata": {},
   "outputs": [
    {
     "name": "stdout",
     "output_type": "stream",
     "text": [
      "El valor es:  0\n",
      "El valor es:  1\n",
      "El valor es:  2\n",
      "El valor es:  3\n",
      "El valor es:  4\n",
      "\n",
      "Fin\n"
     ]
    }
   ],
   "source": [
    "my_number = 0\n",
    "while my_number < 5:\n",
    "    print(\"El valor es: \", my_number)\n",
    "    my_number += 1 \n",
    "print(\"\\nFin\")"
   ]
  },
  {
   "cell_type": "code",
   "execution_count": 18,
   "id": "24dcf1d1",
   "metadata": {},
   "outputs": [
    {
     "name": "stdout",
     "output_type": "stream",
     "text": [
      "El valor es:  0\n",
      "El valor es:  1\n",
      "El valor es:  2\n",
      "antes del break\n",
      "\n",
      "Fin\n"
     ]
    }
   ],
   "source": [
    "my_number = 0\n",
    "while my_number < 5:\n",
    "    if my_number == 3:\n",
    "        print(\"antes del break\")\n",
    "        break\n",
    "        print(\"despues del break\")\n",
    "    print(\"El valor es: \", my_number)\n",
    "    my_number += 1 \n",
    "print(\"\\nFin\")"
   ]
  },
  {
   "cell_type": "markdown",
   "id": "5791ce03",
   "metadata": {},
   "source": [
    "### continue\n",
    "- Salta la iteración actual y pasa a la siguiente\n",
    "- Usable en for y while"
   ]
  },
  {
   "cell_type": "code",
   "execution_count": 20,
   "id": "f142e956",
   "metadata": {},
   "outputs": [
    {
     "name": "stdout",
     "output_type": "stream",
     "text": [
      "El valor es:  0\n",
      "El valor es:  1\n",
      "El valor es:  2\n",
      "antes del continue\n",
      "El valor es:  4\n",
      "\n",
      "Fin\n"
     ]
    }
   ],
   "source": [
    "my_number = 0\n",
    "while my_number < 5:\n",
    "    if my_number == 3:\n",
    "        my_number += 1\n",
    "        print(\"antes del continue\")\n",
    "        continue\n",
    "        print(\"despues del continue\")\n",
    "    print(\"El valor es: \", my_number)\n",
    "    my_number += 1 \n",
    "print(\"\\nFin\")"
   ]
  },
  {
   "cell_type": "code",
   "execution_count": 22,
   "id": "567a7fb6",
   "metadata": {},
   "outputs": [
    {
     "name": "stdout",
     "output_type": "stream",
     "text": [
      "Cliclo for iterando con el número:  1\n",
      "Cliclo for iterando con el número:  2\n",
      "Cliclo for iterando con el número:  3\n",
      "Cliclo for iterando con el número:  4\n",
      "Cliclo for iterando con el número:  5\n",
      "Cliclo for iterando con el número:  6\n",
      "Cliclo for iterando con el número:  7\n",
      "Cliclo for iterando con el número:  8\n",
      "Cliclo for iterando con el número:  9\n",
      "antes\n",
      "Cliclo for iterando con el número:  11\n",
      "Cliclo for iterando con el número:  12\n",
      "Cliclo for iterando con el número:  13\n",
      "Cliclo for iterando con el número:  14\n",
      "Cliclo for iterando con el número:  15\n",
      "Cliclo for iterando con el número:  16\n",
      "Cliclo for iterando con el número:  17\n",
      "Cliclo for iterando con el número:  18\n",
      "Cliclo for iterando con el número:  19\n",
      "Cliclo for iterando con el número:  20\n"
     ]
    }
   ],
   "source": [
    "for number in range(1,20+1):\n",
    "    if number == 10:\n",
    "        print(\"antes\")\n",
    "        continue\n",
    "    print(\"Cliclo for iterando con el número: \", number)"
   ]
  },
  {
   "cell_type": "markdown",
   "id": "2a738dd3",
   "metadata": {},
   "source": [
    "### pass\n",
    "- Escribe ciclos vacios o fuunciones/clases vacias"
   ]
  },
  {
   "cell_type": "code",
   "execution_count": 23,
   "id": "026b0a27",
   "metadata": {},
   "outputs": [
    {
     "name": "stdout",
     "output_type": "stream",
     "text": [
      "Cliclo for iterando con el número:  1\n",
      "Cliclo for iterando con el número:  2\n",
      "Cliclo for iterando con el número:  3\n",
      "Cliclo for iterando con el número:  4\n",
      "Cliclo for iterando con el número:  5\n",
      "Cliclo for iterando con el número:  6\n",
      "Cliclo for iterando con el número:  7\n",
      "Cliclo for iterando con el número:  8\n",
      "Cliclo for iterando con el número:  9\n",
      "pass\n",
      "Cliclo for iterando con el número:  10\n",
      "Cliclo for iterando con el número:  11\n",
      "Cliclo for iterando con el número:  12\n",
      "Cliclo for iterando con el número:  13\n",
      "Cliclo for iterando con el número:  14\n",
      "Cliclo for iterando con el número:  15\n",
      "Cliclo for iterando con el número:  16\n",
      "Cliclo for iterando con el número:  17\n",
      "Cliclo for iterando con el número:  18\n",
      "Cliclo for iterando con el número:  19\n",
      "Cliclo for iterando con el número:  20\n"
     ]
    }
   ],
   "source": [
    "for number in range(1,20+1):\n",
    "    if number == 10:\n",
    "        # TODO : agregar comportamiento especial cuando number es 10\n",
    "        print(\"pass\")\n",
    "        pass\n",
    "    print(\"Cliclo for iterando con el número: \", number)"
   ]
  },
  {
   "cell_type": "code",
   "execution_count": 24,
   "id": "b4d928bf",
   "metadata": {},
   "outputs": [],
   "source": [
    "def my_function():\n",
    "    # TODO : agregar código del método/función my_function\n",
    "    pass\n",
    "\n",
    "my_function()"
   ]
  },
  {
   "cell_type": "code",
   "execution_count": 26,
   "id": "88499cb5",
   "metadata": {},
   "outputs": [
    {
     "ename": "IndentationError",
     "evalue": "expected an indented block after function definition on line 1 (1596845483.py, line 3)",
     "output_type": "error",
     "traceback": [
      "\u001b[0;36m  Cell \u001b[0;32mIn[26], line 3\u001b[0;36m\u001b[0m\n\u001b[0;31m    my_function()\u001b[0m\n\u001b[0m    ^\u001b[0m\n\u001b[0;31mIndentationError\u001b[0m\u001b[0;31m:\u001b[0m expected an indented block after function definition on line 1\n"
     ]
    }
   ],
   "source": [
    "def my_function():\n",
    "\n",
    "my_function()"
   ]
  },
  {
   "cell_type": "code",
   "execution_count": 27,
   "id": "2f55791a",
   "metadata": {},
   "outputs": [],
   "source": [
    "# Las clases son como moldes - permiten crear varios elementos que tengan ciertos atributos y métodos\n",
    "\n",
    "class myclass:\n",
    "    pass\n",
    "\n",
    "my_object = myclass()"
   ]
  },
  {
   "cell_type": "code",
   "execution_count": null,
   "id": "64daadd7",
   "metadata": {},
   "outputs": [],
   "source": []
  }
 ],
 "metadata": {
  "kernelspec": {
   "display_name": "Python 3 (ipykernel)",
   "language": "python",
   "name": "python3"
  },
  "language_info": {
   "codemirror_mode": {
    "name": "ipython",
    "version": 3
   },
   "file_extension": ".py",
   "mimetype": "text/x-python",
   "name": "python",
   "nbconvert_exporter": "python",
   "pygments_lexer": "ipython3",
   "version": "3.11.5"
  }
 },
 "nbformat": 4,
 "nbformat_minor": 5
}

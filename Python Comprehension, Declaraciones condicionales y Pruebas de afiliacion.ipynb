{
 "cells": [
  {
   "cell_type": "markdown",
   "id": "366e0567",
   "metadata": {},
   "source": [
    "# Comprehension\n",
    "- Permite construir lógica de manera corta y concisa\n",
    "- Forma de escribir un bloque de código para generar una secuencia que puede ser lista, diccionario, set o un generador usando otra secuencia\n",
    "- Puede involucrar múltiples pasos de conversión entre los diferentis tipos de secuencias"
   ]
  },
  {
   "cell_type": "markdown",
   "id": "580eb5a3",
   "metadata": {},
   "source": [
    "## Propósito\n",
    "- Construcciones que permiten crear secuencias de otras secuencias\n",
    "- Trabajan más rápido que un ciclo for equivalente\n",
    "- Se puede incorporar múltiples ciclos for y condicionales if"
   ]
  },
  {
   "cell_type": "markdown",
   "id": "1a0495d5",
   "metadata": {},
   "source": [
    "## List Comprehensions\n",
    "- Usados para crear nuevas listas de otros iterables\n",
    "- Regresan listas\n",
    "- Consisten en expresiones en medio de corchetes\n",
    "- La expresión es usada por cada elemento junto con un ciclo for para iterar en cada elemento\n",
    "- Pueden contener múltiples list comprehensions anidadas"
   ]
  },
  {
   "cell_type": "code",
   "execution_count": 2,
   "id": "cb01afb4",
   "metadata": {},
   "outputs": [
    {
     "name": "stdout",
     "output_type": "stream",
     "text": [
      "1\n",
      "3\n",
      "5\n",
      "7\n",
      "9\n",
      "11\n",
      "13\n",
      "15\n",
      "17\n",
      "19\n",
      "21\n",
      "23\n",
      "25\n",
      "27\n",
      "29\n"
     ]
    }
   ],
   "source": [
    "# Ciclo for convencional\n",
    "# Número impares\n",
    "\n",
    "for number in range(30):\n",
    "    if number%2==1:\n",
    "        print(number)"
   ]
  },
  {
   "cell_type": "code",
   "execution_count": 3,
   "id": "ca009a66",
   "metadata": {},
   "outputs": [
    {
     "name": "stdout",
     "output_type": "stream",
     "text": [
      "[1, 3, 5, 7, 9, 11, 13, 15, 17, 19]\n"
     ]
    }
   ],
   "source": [
    "# List Comprehension\n",
    "# Número impares\n",
    "\n",
    "odd_numbers = [x for x in range(20) if x%2==1]\n",
    "print(odd_numbers)"
   ]
  },
  {
   "cell_type": "code",
   "execution_count": 4,
   "id": "e2d4aa9e",
   "metadata": {},
   "outputs": [
    {
     "name": "stdout",
     "output_type": "stream",
     "text": [
      "B\n",
      "a\n",
      "c\n",
      "k\n",
      "e\n",
      "n\n",
      "d\n",
      " \n",
      "P\n",
      "y\n",
      "t\n",
      "h\n",
      "o\n",
      "n\n"
     ]
    }
   ],
   "source": [
    "# Ciclo for convencional\n",
    "# Caracteres en una cadena\n",
    "\n",
    "my_string = \"Backend Python\"\n",
    "for letter in my_string:\n",
    "    print (letter)"
   ]
  },
  {
   "cell_type": "code",
   "execution_count": 5,
   "id": "d68eadc8",
   "metadata": {},
   "outputs": [
    {
     "name": "stdout",
     "output_type": "stream",
     "text": [
      "['B', 'a', 'c', 'k', 'e', 'n', 'd', ' ', 'P', 'y', 't', 'h', 'o', 'n']\n"
     ]
    }
   ],
   "source": [
    "# List Comprehension\n",
    "# Caracteres en una cadena\n",
    "\n",
    "my_string = \"Backend Python\"\n",
    "letters = [letter for letter in my_string]\n",
    "print(letters)"
   ]
  },
  {
   "cell_type": "markdown",
   "id": "cdaa42c4",
   "metadata": {},
   "source": [
    "## Dict Comprehensions\n",
    "- Prácticamente a list comprehensions\n",
    "- Operan de la misma forma pero usamos dos variables, llave y valor, en lugar de un solo valor para la iteración de listas"
   ]
  },
  {
   "cell_type": "code",
   "execution_count": 6,
   "id": "d98a78ca",
   "metadata": {},
   "outputs": [
    {
     "name": "stdout",
     "output_type": "stream",
     "text": [
      "{0: 1, 1: 1, 2: 2, 3: 6, 4: 24, 5: 120}\n"
     ]
    }
   ],
   "source": [
    "import math\n",
    "factorials = {x:math.factorial(x) for x in range(6)}\n",
    "print(factorials)"
   ]
  },
  {
   "cell_type": "code",
   "execution_count": 8,
   "id": "de241551",
   "metadata": {},
   "outputs": [
    {
     "name": "stdout",
     "output_type": "stream",
     "text": [
      "{1: 1, 3: 6, 5: 120}\n"
     ]
    }
   ],
   "source": [
    "import math\n",
    "odd_factorials = {x:math.factorial(x) for x in range(6) if x%2==1}\n",
    "print(odd_factorials)"
   ]
  },
  {
   "cell_type": "code",
   "execution_count": 9,
   "id": "617d8472",
   "metadata": {},
   "outputs": [
    {
     "name": "stdout",
     "output_type": "stream",
     "text": [
      "{0: 1, 2: 2, 4: 24}\n"
     ]
    }
   ],
   "source": [
    "import math\n",
    "even_factorials = {x:math.factorial(x) for x in range(6) if x%2==0}\n",
    "print(even_factorials)"
   ]
  },
  {
   "cell_type": "markdown",
   "id": "4123b2b6",
   "metadata": {},
   "source": [
    "## Declaraciones Condicionales\n",
    "- Controlan el flujo del programa\n",
    "- Condición verdadera, programa ejecuta una acción\n",
    "- Condición falsa, programa ejecuta otra acción\n",
    "- Evaluar si ciertas condiciones son verdaderas o falsas y decidir qué bloque de código ejecutar\n",
    "- Tipos\n",
    "    - if\n",
    "    - if else\n",
    "    - if elif else"
   ]
  },
  {
   "cell_type": "markdown",
   "id": "9993de73",
   "metadata": {},
   "source": [
    "### Por qué usarlas\n",
    "- Son un concepto central común en cualquier tipo de programaciión\n",
    "- Se pueden usar para validaciones condicionales\n",
    "- \"if\" para revisar si una condición es True o False\n",
    "- Las declaraciones condicionales incluyen una condición y el bloque de código para esa condición\n",
    "- Dependerá del resultado de una condición si se hace la validación de la siguiente condición\n",
    "- Si una condición es True, pasará a validar la siguiente condición\n",
    "- Si la condición es False irá directo al bloque correspondiente o al bloque default"
   ]
  },
  {
   "cell_type": "markdown",
   "id": "f1b7ac3b",
   "metadata": {},
   "source": [
    "## if"
   ]
  },
  {
   "cell_type": "code",
   "execution_count": 11,
   "id": "69855e65",
   "metadata": {},
   "outputs": [
    {
     "name": "stdout",
     "output_type": "stream",
     "text": [
      "Dentro del bloque if\n",
      "Final del ejemplo\n"
     ]
    }
   ],
   "source": [
    "num = 3\n",
    "if num > 1 and num < 10:\n",
    "    print(\"Dentro del bloque if\")\n",
    "print(\"\\nFinal del ejemplo\")"
   ]
  },
  {
   "cell_type": "code",
   "execution_count": 6,
   "id": "a5893222",
   "metadata": {},
   "outputs": [
    {
     "name": "stdout",
     "output_type": "stream",
     "text": [
      "\n",
      "Final del ejemplo\n"
     ]
    }
   ],
   "source": [
    "num = 3\n",
    "if num > 5 and num < 10:\n",
    "    print(\"Dentro del bloque if\")\n",
    "    print(\"Hola\")\n",
    "    print(\"test\")\n",
    "print(\"\\nFinal del ejemplo\")"
   ]
  },
  {
   "cell_type": "markdown",
   "id": "87c736df",
   "metadata": {},
   "source": [
    "### if else"
   ]
  },
  {
   "cell_type": "code",
   "execution_count": 7,
   "id": "3792cdcd",
   "metadata": {},
   "outputs": [
    {
     "name": "stdout",
     "output_type": "stream",
     "text": [
      "Dentro del bloque if\n",
      "Hola\n",
      "test\n",
      "\n",
      "Final del ejemplo\n"
     ]
    }
   ],
   "source": [
    "num = 3\n",
    "if num > 1 and num < 10:\n",
    "    print(\"Dentro del bloque if\")\n",
    "    print(\"Hola\")\n",
    "    print(\"test\")\n",
    "else:\n",
    "    print(\"Dentro del bloque else\")\n",
    "    print(\"else...\")\n",
    "    print(\"La condición no se cumplió\")\n",
    "print(\"\\nFinal del ejemplo\")"
   ]
  },
  {
   "cell_type": "code",
   "execution_count": 8,
   "id": "5fbb73a6",
   "metadata": {},
   "outputs": [
    {
     "name": "stdout",
     "output_type": "stream",
     "text": [
      "Dentro del bloque else\n",
      "else...\n",
      "La condición no se cumplió\n",
      "\n",
      "Final del ejemplo\n"
     ]
    }
   ],
   "source": [
    "num = 3\n",
    "if num > 5 and num < 10:\n",
    "    print(\"Dentro del bloque if\")\n",
    "    print(\"Hola\")\n",
    "    print(\"test\")\n",
    "else:\n",
    "    print(\"Dentro del bloque else\")\n",
    "    print(\"else...\")\n",
    "    print(\"La condición no se cumplió\")\n",
    "print(\"\\nFinal del ejemplo\")"
   ]
  },
  {
   "cell_type": "markdown",
   "id": "f3d982a7",
   "metadata": {},
   "source": [
    "### if / elif / else"
   ]
  },
  {
   "cell_type": "code",
   "execution_count": 10,
   "id": "13feb33b",
   "metadata": {},
   "outputs": [
    {
     "name": "stdout",
     "output_type": "stream",
     "text": [
      "Dentro del bloque if\n",
      "Hola\n",
      "test\n",
      "\n",
      "Final del ejemplo\n"
     ]
    }
   ],
   "source": [
    "num = 4\n",
    "if num > 1 and num < 10:\n",
    "    print(\"Dentro del bloque if\")\n",
    "    print(\"Hola\")\n",
    "    print(\"test\")\n",
    "elif num == 2:\n",
    "    print(\"Dentro del bloque elif\")\n",
    "    print(\"El valor de num es 2\")\n",
    "else:\n",
    "    print(\"Dentro del bloque else\")\n",
    "    print(\"else...\")\n",
    "    print(\"La condición no se cumplió\")\n",
    "print(\"\\nFinal del ejemplo\")"
   ]
  },
  {
   "cell_type": "code",
   "execution_count": 13,
   "id": "af6a8c4c",
   "metadata": {},
   "outputs": [
    {
     "name": "stdout",
     "output_type": "stream",
     "text": [
      "Dentro del bloque elif\n",
      "El valor de num es 11\n",
      "\n",
      "Final del ejemplo\n"
     ]
    }
   ],
   "source": [
    "num = 11\n",
    "if num > 1 and num < 10:\n",
    "    print(\"Dentro del bloque if\")\n",
    "    print(\"Hola\")\n",
    "    print(\"test\")\n",
    "elif num == 11:\n",
    "    print(\"Dentro del bloque elif\")\n",
    "    print(\"El valor de num es 11\")\n",
    "else:\n",
    "    print(\"Dentro del bloque else\")\n",
    "    print(\"else...\")\n",
    "    print(\"La condición no se cumplió\")\n",
    "print(\"\\nFinal del ejemplo\")"
   ]
  },
  {
   "cell_type": "markdown",
   "id": "f07014e9",
   "metadata": {},
   "source": [
    "### if anidado\n",
    "- if dentro de otro if\n",
    "- bastante comunes\n",
    "- anidados solo se evaluan si el if exterior es verdadero"
   ]
  },
  {
   "cell_type": "code",
   "execution_count": 19,
   "id": "151ee238",
   "metadata": {},
   "outputs": [
    {
     "name": "stdout",
     "output_type": "stream",
     "text": [
      "Dentro del bloque if\n",
      "num mayor o igual que 1\n",
      "\n",
      "Final del ejemplo\n"
     ]
    }
   ],
   "source": [
    "num = 3\n",
    "if num >= 1:\n",
    "    print(\"Dentro del bloque if\")\n",
    "    print(\"num mayor o igual que 1\")\n",
    "    if num >= 10:\n",
    "        print(\"Dentro del bloque if anidado\")\n",
    "        print(\"num mayor o igual que 10\")\n",
    "print(\"\\nFinal del ejemplo\")"
   ]
  },
  {
   "cell_type": "code",
   "execution_count": 21,
   "id": "676d2bcf",
   "metadata": {},
   "outputs": [
    {
     "name": "stdout",
     "output_type": "stream",
     "text": [
      "Dentro del bloque if\n",
      "num mayor o igual que 1\n",
      "\n",
      "Dentro del bloque if anidado\n",
      "num mayor o igual que 10\n",
      "\n",
      "Final del ejemplo\n"
     ]
    }
   ],
   "source": [
    "num = 33\n",
    "if num >= 1:\n",
    "    print(\"Dentro del bloque if\")\n",
    "    print(\"num mayor o igual que 1\")\n",
    "    if num >= 10:\n",
    "        print(\"\\nDentro del bloque if anidado\")\n",
    "        print(\"num mayor o igual que 10\")\n",
    "print(\"\\nFinal del ejemplo\")"
   ]
  },
  {
   "cell_type": "code",
   "execution_count": 23,
   "id": "8a474bc1",
   "metadata": {},
   "outputs": [
    {
     "name": "stdout",
     "output_type": "stream",
     "text": [
      "\n",
      "Final del ejemplo\n"
     ]
    }
   ],
   "source": [
    "num = 33\n",
    "if num >= 100:\n",
    "    print(\"Dentro del bloque if\")\n",
    "    print(\"num mayor o igual que 1\")\n",
    "    if num >= 10:\n",
    "        print(\"\\nDentro del bloque if anidado\")\n",
    "        print(\"num mayor o igual que 10\")\n",
    "print(\"\\nFinal del ejemplo\")"
   ]
  },
  {
   "cell_type": "markdown",
   "id": "48f00d5c",
   "metadata": {},
   "source": [
    "## Pruebas de afiliación\n",
    "- Usados para verificar si un valor esta presente o no en una secuencia\n",
    "- Aplicable a todas las estructuras de datos (listas, tuplas, sets, diccionario)\n",
    "- Se pueden hacer para cadenas Python (str)\n",
    "- Encontrar rápidamente si ciertos valores están disponibles o no\n",
    "    - \"in\"\n",
    "    - \"not in\""
   ]
  },
  {
   "cell_type": "markdown",
   "id": "64ca6a18",
   "metadata": {},
   "source": [
    "### string"
   ]
  },
  {
   "cell_type": "code",
   "execution_count": 24,
   "id": "771adb5a",
   "metadata": {},
   "outputs": [
    {
     "name": "stdout",
     "output_type": "stream",
     "text": [
      "True\n"
     ]
    }
   ],
   "source": [
    "str1 = \"Backend Python\"\n",
    "print(\"a\" in str1)"
   ]
  },
  {
   "cell_type": "code",
   "execution_count": 25,
   "id": "83d7e19e",
   "metadata": {},
   "outputs": [
    {
     "name": "stdout",
     "output_type": "stream",
     "text": [
      "False\n"
     ]
    }
   ],
   "source": [
    "str1 = \"Backend Python\"\n",
    "print(\"3\" in str1)"
   ]
  },
  {
   "cell_type": "code",
   "execution_count": 26,
   "id": "ac24a7eb",
   "metadata": {},
   "outputs": [
    {
     "name": "stdout",
     "output_type": "stream",
     "text": [
      "False\n"
     ]
    }
   ],
   "source": [
    "str1 = \"Backend Python\"\n",
    "print(\"a\" not in str1)"
   ]
  },
  {
   "cell_type": "code",
   "execution_count": 27,
   "id": "66e77459",
   "metadata": {},
   "outputs": [
    {
     "name": "stdout",
     "output_type": "stream",
     "text": [
      "True\n"
     ]
    }
   ],
   "source": [
    "str1 = \"Backend Python\"\n",
    "print(\"3\" not in str1)"
   ]
  },
  {
   "cell_type": "code",
   "execution_count": 29,
   "id": "ceddf06b",
   "metadata": {},
   "outputs": [
    {
     "name": "stdout",
     "output_type": "stream",
     "text": [
      "False\n",
      "True\n"
     ]
    }
   ],
   "source": [
    "str1 = \"Backend Python\"\n",
    "print(\"backend\" in str1)\n",
    "print(\"Backend\" in str1)"
   ]
  },
  {
   "cell_type": "markdown",
   "id": "a964e887",
   "metadata": {},
   "source": [
    "### tuple"
   ]
  },
  {
   "cell_type": "code",
   "execution_count": 30,
   "id": "5e6d75d3",
   "metadata": {},
   "outputs": [
    {
     "name": "stdout",
     "output_type": "stream",
     "text": [
      "True\n"
     ]
    }
   ],
   "source": [
    "my_tuple = (\"a\", \"b\", \"c\", \"d\", \"e\")\n",
    "print(\"c\" in my_tuple)"
   ]
  },
  {
   "cell_type": "code",
   "execution_count": 31,
   "id": "19393c49",
   "metadata": {},
   "outputs": [
    {
     "name": "stdout",
     "output_type": "stream",
     "text": [
      "False\n"
     ]
    }
   ],
   "source": [
    "my_tuple = (\"a\", \"b\", \"c\", \"d\", \"e\")\n",
    "print(\"k\" in my_tuple)"
   ]
  },
  {
   "cell_type": "code",
   "execution_count": 32,
   "id": "c729e2b9",
   "metadata": {},
   "outputs": [
    {
     "name": "stdout",
     "output_type": "stream",
     "text": [
      "False\n"
     ]
    }
   ],
   "source": [
    "my_tuple = (1,2,3,4,5)\n",
    "print(6 in my_tuple)"
   ]
  },
  {
   "cell_type": "code",
   "execution_count": 33,
   "id": "ab5e4f13",
   "metadata": {},
   "outputs": [
    {
     "name": "stdout",
     "output_type": "stream",
     "text": [
      "True\n"
     ]
    }
   ],
   "source": [
    "my_tuple = (1,2,3,4,5)\n",
    "print(6 not in my_tuple)"
   ]
  },
  {
   "cell_type": "markdown",
   "id": "8e9035f1",
   "metadata": {},
   "source": [
    "### list"
   ]
  },
  {
   "cell_type": "code",
   "execution_count": 35,
   "id": "7f313118",
   "metadata": {},
   "outputs": [
    {
     "name": "stdout",
     "output_type": "stream",
     "text": [
      "True\n"
     ]
    }
   ],
   "source": [
    "my_list = [\"a\", \"b\", \"c\", \"d\", \"e\"]\n",
    "print(\"c\" in my_list)"
   ]
  },
  {
   "cell_type": "markdown",
   "id": "43b8e76c",
   "metadata": {},
   "source": [
    "### set"
   ]
  },
  {
   "cell_type": "code",
   "execution_count": 37,
   "id": "8d54c895",
   "metadata": {},
   "outputs": [
    {
     "name": "stdout",
     "output_type": "stream",
     "text": [
      "True\n"
     ]
    }
   ],
   "source": [
    "my_set = {\"a\", \"b\", \"c\", \"d\", \"e\"}\n",
    "print(\"c\" in my_set)"
   ]
  },
  {
   "cell_type": "markdown",
   "id": "4af1df63",
   "metadata": {},
   "source": [
    "### dictionary\n",
    "- Valida si esta presente en las llaves, no valores"
   ]
  },
  {
   "cell_type": "code",
   "execution_count": 38,
   "id": "708fe876",
   "metadata": {},
   "outputs": [
    {
     "name": "stdout",
     "output_type": "stream",
     "text": [
      "True\n"
     ]
    }
   ],
   "source": [
    "my_dict = {\"a\":100, \"b\":200, \"c\":150, \"d\":149, \"e\":95}\n",
    "print(\"c\" in my_set)"
   ]
  },
  {
   "cell_type": "code",
   "execution_count": 39,
   "id": "40958a2d",
   "metadata": {},
   "outputs": [
    {
     "name": "stdout",
     "output_type": "stream",
     "text": [
      "False\n"
     ]
    }
   ],
   "source": [
    "my_dict = {\"a\":100, \"b\":200, \"c\":150, \"d\":149, \"e\":95}\n",
    "print(100 in my_dict)"
   ]
  },
  {
   "cell_type": "code",
   "execution_count": 41,
   "id": "b52c6718",
   "metadata": {},
   "outputs": [
    {
     "name": "stdout",
     "output_type": "stream",
     "text": [
      "True\n"
     ]
    }
   ],
   "source": [
    "my_dict = {\"a\":100, \"b\":200, \"c\":150, \"d\":149, \"e\":95}\n",
    "print(100 in my_dict.values())"
   ]
  },
  {
   "cell_type": "code",
   "execution_count": null,
   "id": "a385d7ec",
   "metadata": {},
   "outputs": [],
   "source": []
  }
 ],
 "metadata": {
  "kernelspec": {
   "display_name": "Python 3 (ipykernel)",
   "language": "python",
   "name": "python3"
  },
  "language_info": {
   "codemirror_mode": {
    "name": "ipython",
    "version": 3
   },
   "file_extension": ".py",
   "mimetype": "text/x-python",
   "name": "python",
   "nbconvert_exporter": "python",
   "pygments_lexer": "ipython3",
   "version": "3.11.5"
  }
 },
 "nbformat": 4,
 "nbformat_minor": 5
}

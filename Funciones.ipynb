{
 "cells": [
  {
   "cell_type": "markdown",
   "id": "fe8b79aa",
   "metadata": {},
   "source": [
    "# Funciones (Python)\n",
    "- Conjunto de operacions\n",
    "- Puede ser usada como un molde reutilizable\n",
    "- Puede regresar un valor : return\n",
    "- Ahorra tiempo de desarrollo\n",
    "- Acepta parámetros para mandar valores al programa/función"
   ]
  },
  {
   "cell_type": "markdown",
   "id": "eb2478a3",
   "metadata": {},
   "source": [
    "## Funciones definidas por el usuario\n",
    "- Comunmente usadas en todos los programas\n",
    "- Código reutilizable para ejecutar tareas específicas\n",
    "- Regresa valores\n",
    "- Actúan como molde para tareas repetidas\n",
    "- Creadas con la palabra clave \"def\"\n",
    "- \"return\" regresa valor"
   ]
  },
  {
   "cell_type": "markdown",
   "id": "fd067058",
   "metadata": {},
   "source": [
    "NB : \n",
    "- \"def\" obligatoria para definir función\n",
    "- \"parameters\" opcionales\n",
    "- instrucciones dentro de la funcion obligatorias - en caso de especificar instrucciones, sustituir con \"pass\"\n",
    "- \"return\" opcional"
   ]
  },
  {
   "cell_type": "code",
   "execution_count": 1,
   "id": "4e603d5e",
   "metadata": {},
   "outputs": [],
   "source": [
    "def my_function(parameters):\n",
    "    print(\"Paso 1\")\n",
    "    print(\"Paso 2\")\n",
    "    print(\"Paso 3\")\n",
    "    return \"Completed\""
   ]
  },
  {
   "cell_type": "markdown",
   "id": "2ccd2f88",
   "metadata": {},
   "source": [
    "## Parameters\n",
    "- Opcionales\n",
    "- Se pueden declarar en la def\n",
    "- Llamados \"argumentos\"\n",
    "- Pasan valores dinámica a la función\n",
    "- Dos tipos\n",
    "    - Formales\n",
    "    - Reales"
   ]
  },
  {
   "cell_type": "markdown",
   "id": "fc043820",
   "metadata": {},
   "source": [
    "### Formales\n",
    "- Usados en la creación/definición de la función"
   ]
  },
  {
   "cell_type": "markdown",
   "id": "cbaaad86",
   "metadata": {},
   "source": [
    "### Reales\n",
    "- Usados al llamar/invocar la función"
   ]
  },
  {
   "cell_type": "code",
   "execution_count": 2,
   "id": "522bafa2",
   "metadata": {},
   "outputs": [],
   "source": [
    "def print_number(number): # Parámetros formales\n",
    "    print(\"El valor de num es: \", number)"
   ]
  },
  {
   "cell_type": "code",
   "execution_count": 3,
   "id": "0f301b52",
   "metadata": {},
   "outputs": [
    {
     "name": "stdout",
     "output_type": "stream",
     "text": [
      "El valor de num es:  3800\n"
     ]
    }
   ],
   "source": [
    "print_number(3800) # Parámetro real"
   ]
  },
  {
   "cell_type": "markdown",
   "id": "72148bb6",
   "metadata": {},
   "source": [
    "## Invocando Funciones"
   ]
  },
  {
   "cell_type": "code",
   "execution_count": 4,
   "id": "e55bfdca",
   "metadata": {},
   "outputs": [],
   "source": [
    "def plus_ten(number):\n",
    "    return number + 10\n",
    "\n",
    "def minus_ten(number):\n",
    "    return number - 10\n",
    "\n",
    "def another_function(f, number):\n",
    "    result = f(number)\n",
    "    return result"
   ]
  },
  {
   "cell_type": "code",
   "execution_count": 5,
   "id": "43039442",
   "metadata": {},
   "outputs": [
    {
     "data": {
      "text/plain": [
       "210"
      ]
     },
     "execution_count": 5,
     "metadata": {},
     "output_type": "execute_result"
    }
   ],
   "source": [
    "plus_ten(200)"
   ]
  },
  {
   "cell_type": "code",
   "execution_count": 6,
   "id": "1abd627e",
   "metadata": {},
   "outputs": [
    {
     "data": {
      "text/plain": [
       "190"
      ]
     },
     "execution_count": 6,
     "metadata": {},
     "output_type": "execute_result"
    }
   ],
   "source": [
    "minus_ten(200)"
   ]
  },
  {
   "cell_type": "code",
   "execution_count": 7,
   "id": "e245cfe6",
   "metadata": {},
   "outputs": [
    {
     "data": {
      "text/plain": [
       "210"
      ]
     },
     "execution_count": 7,
     "metadata": {},
     "output_type": "execute_result"
    }
   ],
   "source": [
    "another_function(plus_ten, 200)"
   ]
  },
  {
   "cell_type": "markdown",
   "id": "83ebeefc",
   "metadata": {},
   "source": [
    "## Funciones anidadas\n",
    "- Función dentro de otra función\n",
    "- Ejecutar tareas complejas más de una vez dentro de una función\n",
    "- Ayuda a evitar ciclos o códifo duplicado\n",
    "\n",
    "Usos:\n",
    "- Simplifica la lógica y estructura\n",
    "- Construir nuevas funciones basadas en parámetros\n",
    "- Pasar funciones a otras funciones para generar resultados precisos"
   ]
  },
  {
   "cell_type": "code",
   "execution_count": 1,
   "id": "f940c163",
   "metadata": {},
   "outputs": [],
   "source": [
    "def my_function():\n",
    "    def nested_function():\n",
    "        print(\"Función anidada\")\n",
    "    return nested_function"
   ]
  },
  {
   "cell_type": "code",
   "execution_count": 2,
   "id": "6afed80f",
   "metadata": {},
   "outputs": [],
   "source": [
    "result = my_function()"
   ]
  },
  {
   "cell_type": "raw",
   "id": "a6d1aaae",
   "metadata": {},
   "source": [
    "result()"
   ]
  },
  {
   "cell_type": "code",
   "execution_count": 3,
   "id": "f1876215",
   "metadata": {},
   "outputs": [
    {
     "data": {
      "text/plain": [
       "<function __main__.my_function()>"
      ]
     },
     "execution_count": 3,
     "metadata": {},
     "output_type": "execute_result"
    }
   ],
   "source": [
    "my_function"
   ]
  },
  {
   "cell_type": "code",
   "execution_count": 4,
   "id": "4da70694",
   "metadata": {},
   "outputs": [
    {
     "ename": "NameError",
     "evalue": "name 'nested_function' is not defined",
     "output_type": "error",
     "traceback": [
      "\u001b[0;31m---------------------------------------------------------------------------\u001b[0m",
      "\u001b[0;31mNameError\u001b[0m                                 Traceback (most recent call last)",
      "Cell \u001b[0;32mIn[4], line 1\u001b[0m\n\u001b[0;32m----> 1\u001b[0m nested_function\n",
      "\u001b[0;31mNameError\u001b[0m: name 'nested_function' is not defined"
     ]
    }
   ],
   "source": [
    "nested_function"
   ]
  },
  {
   "cell_type": "code",
   "execution_count": 5,
   "id": "ce890b42",
   "metadata": {},
   "outputs": [],
   "source": [
    "# Caso realista"
   ]
  },
  {
   "cell_type": "code",
   "execution_count": 2,
   "id": "8026dfee",
   "metadata": {},
   "outputs": [],
   "source": [
    "def logger(func):\n",
    "    def log_func(*args):\n",
    "        print(\"Corriendo '{}' con los parámetros {}\".format(func.__name__, args))\n",
    "        print(func(*args))\n",
    "    return log_func\n",
    "\n",
    "def add(x, y):\n",
    "    return x + y\n",
    "\n",
    "def sub(x, y):\n",
    "    return x - y\n",
    "\n",
    "add_logger = logger(add)\n",
    "sub_logger = logger(sub)"
   ]
  },
  {
   "cell_type": "code",
   "execution_count": 3,
   "id": "cf93d337",
   "metadata": {},
   "outputs": [
    {
     "data": {
      "text/plain": [
       "5"
      ]
     },
     "execution_count": 3,
     "metadata": {},
     "output_type": "execute_result"
    }
   ],
   "source": [
    "add(3,2)"
   ]
  },
  {
   "cell_type": "code",
   "execution_count": 4,
   "id": "9fcd3fe0",
   "metadata": {},
   "outputs": [
    {
     "name": "stdout",
     "output_type": "stream",
     "text": [
      "Corriendo 'add' con los parámetros (3, 2)\n",
      "5\n"
     ]
    }
   ],
   "source": [
    "add_logger(3,2)"
   ]
  },
  {
   "cell_type": "code",
   "execution_count": 6,
   "id": "1919b6d3",
   "metadata": {},
   "outputs": [
    {
     "data": {
      "text/plain": [
       "7"
      ]
     },
     "execution_count": 6,
     "metadata": {},
     "output_type": "execute_result"
    }
   ],
   "source": [
    "sub(9,2)"
   ]
  },
  {
   "cell_type": "code",
   "execution_count": 7,
   "id": "b7a1cc71",
   "metadata": {},
   "outputs": [
    {
     "name": "stdout",
     "output_type": "stream",
     "text": [
      "Corriendo 'sub' con los parámetros (9, 2)\n",
      "7\n"
     ]
    }
   ],
   "source": [
    "sub_logger(9,2)"
   ]
  },
  {
   "cell_type": "markdown",
   "id": "c48e3653",
   "metadata": {},
   "source": [
    "## dir"
   ]
  },
  {
   "cell_type": "code",
   "execution_count": 8,
   "id": "01da57c7",
   "metadata": {},
   "outputs": [
    {
     "data": {
      "text/plain": [
       "['__annotations__',\n",
       " '__builtins__',\n",
       " '__call__',\n",
       " '__class__',\n",
       " '__closure__',\n",
       " '__code__',\n",
       " '__defaults__',\n",
       " '__delattr__',\n",
       " '__dict__',\n",
       " '__dir__',\n",
       " '__doc__',\n",
       " '__eq__',\n",
       " '__format__',\n",
       " '__ge__',\n",
       " '__get__',\n",
       " '__getattribute__',\n",
       " '__getstate__',\n",
       " '__globals__',\n",
       " '__gt__',\n",
       " '__hash__',\n",
       " '__init__',\n",
       " '__init_subclass__',\n",
       " '__kwdefaults__',\n",
       " '__le__',\n",
       " '__lt__',\n",
       " '__module__',\n",
       " '__name__',\n",
       " '__ne__',\n",
       " '__new__',\n",
       " '__qualname__',\n",
       " '__reduce__',\n",
       " '__reduce_ex__',\n",
       " '__repr__',\n",
       " '__setattr__',\n",
       " '__sizeof__',\n",
       " '__str__',\n",
       " '__subclasshook__']"
      ]
     },
     "execution_count": 8,
     "metadata": {},
     "output_type": "execute_result"
    }
   ],
   "source": [
    "dir(add)"
   ]
  },
  {
   "cell_type": "code",
   "execution_count": 9,
   "id": "5b469645",
   "metadata": {},
   "outputs": [
    {
     "data": {
      "text/plain": [
       "<function function.__new__(*args, **kwargs)>"
      ]
     },
     "execution_count": 9,
     "metadata": {},
     "output_type": "execute_result"
    }
   ],
   "source": [
    "add.__new__"
   ]
  },
  {
   "cell_type": "code",
   "execution_count": 10,
   "id": "375c037d",
   "metadata": {},
   "outputs": [
    {
     "data": {
      "text/plain": [
       "'add'"
      ]
     },
     "execution_count": 10,
     "metadata": {},
     "output_type": "execute_result"
    }
   ],
   "source": [
    "add.__name__"
   ]
  },
  {
   "cell_type": "code",
   "execution_count": 11,
   "id": "062dda4d",
   "metadata": {},
   "outputs": [
    {
     "name": "stdout",
     "output_type": "stream",
     "text": [
      "<class 'dict'>\n",
      "['__class__', '__class_getitem__', '__contains__', '__delattr__', '__delitem__', '__dir__', '__doc__', '__eq__', '__format__', '__ge__', '__getattribute__', '__getitem__', '__getstate__', '__gt__', '__hash__', '__init__', '__init_subclass__', '__ior__', '__iter__', '__le__', '__len__', '__lt__', '__ne__', '__new__', '__or__', '__reduce__', '__reduce_ex__', '__repr__', '__reversed__', '__ror__', '__setattr__', '__setitem__', '__sizeof__', '__str__', '__subclasshook__', 'clear', 'copy', 'fromkeys', 'get', 'items', 'keys', 'pop', 'popitem', 'setdefault', 'update', 'values']\n"
     ]
    }
   ],
   "source": [
    "my_dict = {\n",
    "    \"a\":100,\n",
    "    \"b\":200,\n",
    "    \"c\":300\n",
    "}\n",
    "\n",
    "print(type(my_dict))\n",
    "print(dir(my_dict))"
   ]
  },
  {
   "cell_type": "code",
   "execution_count": 12,
   "id": "a05d4c76",
   "metadata": {},
   "outputs": [
    {
     "name": "stdout",
     "output_type": "stream",
     "text": [
      "<class 'list'>\n",
      "['__add__', '__class__', '__class_getitem__', '__contains__', '__delattr__', '__delitem__', '__dir__', '__doc__', '__eq__', '__format__', '__ge__', '__getattribute__', '__getitem__', '__getstate__', '__gt__', '__hash__', '__iadd__', '__imul__', '__init__', '__init_subclass__', '__iter__', '__le__', '__len__', '__lt__', '__mul__', '__ne__', '__new__', '__reduce__', '__reduce_ex__', '__repr__', '__reversed__', '__rmul__', '__setattr__', '__setitem__', '__sizeof__', '__str__', '__subclasshook__', 'append', 'clear', 'copy', 'count', 'extend', 'index', 'insert', 'pop', 'remove', 'reverse', 'sort']\n"
     ]
    }
   ],
   "source": [
    "my_list = [120, 53, 28]\n",
    "\n",
    "print(type(my_list))\n",
    "print(dir(my_list))"
   ]
  },
  {
   "cell_type": "code",
   "execution_count": 13,
   "id": "b064f1c1",
   "metadata": {},
   "outputs": [
    {
     "name": "stdout",
     "output_type": "stream",
     "text": [
      "<class 'tuple'>\n",
      "['__add__', '__class__', '__class_getitem__', '__contains__', '__delattr__', '__dir__', '__doc__', '__eq__', '__format__', '__ge__', '__getattribute__', '__getitem__', '__getnewargs__', '__getstate__', '__gt__', '__hash__', '__init__', '__init_subclass__', '__iter__', '__le__', '__len__', '__lt__', '__mul__', '__ne__', '__new__', '__reduce__', '__reduce_ex__', '__repr__', '__rmul__', '__setattr__', '__sizeof__', '__str__', '__subclasshook__', 'count', 'index']\n"
     ]
    }
   ],
   "source": [
    "my_tuple = (120, 53, 28)\n",
    "\n",
    "print(type(my_tuple))\n",
    "print(dir(my_tuple))"
   ]
  },
  {
   "cell_type": "code",
   "execution_count": 14,
   "id": "934415c1",
   "metadata": {},
   "outputs": [
    {
     "name": "stdout",
     "output_type": "stream",
     "text": [
      "<class 'set'>\n",
      "['__and__', '__class__', '__class_getitem__', '__contains__', '__delattr__', '__dir__', '__doc__', '__eq__', '__format__', '__ge__', '__getattribute__', '__getstate__', '__gt__', '__hash__', '__iand__', '__init__', '__init_subclass__', '__ior__', '__isub__', '__iter__', '__ixor__', '__le__', '__len__', '__lt__', '__ne__', '__new__', '__or__', '__rand__', '__reduce__', '__reduce_ex__', '__repr__', '__ror__', '__rsub__', '__rxor__', '__setattr__', '__sizeof__', '__str__', '__sub__', '__subclasshook__', '__xor__', 'add', 'clear', 'copy', 'difference', 'difference_update', 'discard', 'intersection', 'intersection_update', 'isdisjoint', 'issubset', 'issuperset', 'pop', 'remove', 'symmetric_difference', 'symmetric_difference_update', 'union', 'update']\n"
     ]
    }
   ],
   "source": [
    "my_set = {120, 53, 28}\n",
    "\n",
    "print(type(my_set))\n",
    "print(dir(my_set))"
   ]
  },
  {
   "cell_type": "code",
   "execution_count": 15,
   "id": "3a635ff8",
   "metadata": {},
   "outputs": [
    {
     "name": "stdout",
     "output_type": "stream",
     "text": [
      "Requirement already satisfied: requests in /Users/javier/anaconda3/lib/python3.11/site-packages (2.31.0)\r\n",
      "Requirement already satisfied: charset-normalizer<4,>=2 in /Users/javier/anaconda3/lib/python3.11/site-packages (from requests) (2.0.4)\r\n",
      "Requirement already satisfied: idna<4,>=2.5 in /Users/javier/anaconda3/lib/python3.11/site-packages (from requests) (3.4)\r\n",
      "Requirement already satisfied: urllib3<3,>=1.21.1 in /Users/javier/anaconda3/lib/python3.11/site-packages (from requests) (1.26.16)\r\n",
      "Requirement already satisfied: certifi>=2017.4.17 in /Users/javier/anaconda3/lib/python3.11/site-packages (from requests) (2023.7.22)\r\n"
     ]
    }
   ],
   "source": [
    "! pip install requests"
   ]
  },
  {
   "cell_type": "code",
   "execution_count": 16,
   "id": "985f4842",
   "metadata": {},
   "outputs": [
    {
     "name": "stdout",
     "output_type": "stream",
     "text": [
      "['ConnectTimeout', 'ConnectionError', 'DependencyWarning', 'FileModeWarning', 'HTTPError', 'JSONDecodeError', 'NullHandler', 'PreparedRequest', 'ReadTimeout', 'Request', 'RequestException', 'RequestsDependencyWarning', 'Response', 'Session', 'Timeout', 'TooManyRedirects', 'URLRequired', '__author__', '__author_email__', '__build__', '__builtins__', '__cached__', '__cake__', '__copyright__', '__description__', '__doc__', '__file__', '__license__', '__loader__', '__name__', '__package__', '__path__', '__spec__', '__title__', '__url__', '__version__', '_check_cryptography', '_internal_utils', 'adapters', 'api', 'auth', 'certs', 'chardet_version', 'charset_normalizer_version', 'check_compatibility', 'codes', 'compat', 'cookies', 'delete', 'exceptions', 'get', 'head', 'hooks', 'logging', 'models', 'options', 'packages', 'patch', 'post', 'put', 'request', 'session', 'sessions', 'ssl', 'status_codes', 'structures', 'urllib3', 'utils', 'warnings']\n"
     ]
    }
   ],
   "source": [
    "import requests\n",
    "print(dir(requests))"
   ]
  },
  {
   "cell_type": "markdown",
   "id": "6721c1a2",
   "metadata": {},
   "source": [
    "## format"
   ]
  },
  {
   "cell_type": "code",
   "execution_count": 17,
   "id": "c8dd7023",
   "metadata": {},
   "outputs": [
    {
     "name": "stdout",
     "output_type": "stream",
     "text": [
      "El tipo de dato de my_variable es <class 'int'>\n",
      "El valor de dato de my_variable es 10\n"
     ]
    }
   ],
   "source": [
    "my_variable = 10\n",
    "print(\"El tipo de dato de my_variable es {}\".format(type(my_variable)))\n",
    "print(\"El valor de dato de my_variable es {}\".format(my_variable))"
   ]
  },
  {
   "cell_type": "code",
   "execution_count": 18,
   "id": "4a883448",
   "metadata": {},
   "outputs": [
    {
     "name": "stdout",
     "output_type": "stream",
     "text": [
      "El tipo de dato de my_variable es <class 'str'>\n",
      "El valor de dato de my_variable es test\n"
     ]
    }
   ],
   "source": [
    "my_variable = \"test\"\n",
    "print(\"El tipo de dato de my_variable es {}\".format(type(my_variable)))\n",
    "print(\"El valor de dato de my_variable es {}\".format(my_variable))"
   ]
  },
  {
   "cell_type": "code",
   "execution_count": 19,
   "id": "6c2d588a",
   "metadata": {},
   "outputs": [
    {
     "name": "stdout",
     "output_type": "stream",
     "text": [
      "Valor test, Tipo <class 'str'>\n"
     ]
    }
   ],
   "source": [
    "my_variable = \"test\"\n",
    "print(\"Valor {}, Tipo {}\".format(my_variable, type(my_variable)))"
   ]
  },
  {
   "cell_type": "code",
   "execution_count": 21,
   "id": "4218af98",
   "metadata": {},
   "outputs": [
    {
     "name": "stdout",
     "output_type": "stream",
     "text": [
      "Tipo  <class 'str'>, Valor test\n"
     ]
    }
   ],
   "source": [
    "my_variable = \"test\"\n",
    "print(\"Tipo  {1}, Valor {0}\".format(my_variable, type(my_variable)))"
   ]
  },
  {
   "cell_type": "code",
   "execution_count": 22,
   "id": "2468484e",
   "metadata": {},
   "outputs": [
    {
     "name": "stdout",
     "output_type": "stream",
     "text": [
      "Tipo  <class 'str'>, Valor test, Tipo  <class 'str'>\n"
     ]
    }
   ],
   "source": [
    "my_variable = \"test\"\n",
    "print(\"Tipo  {1}, Valor {0}, Tipo  {1}\".format(my_variable, type(my_variable)))"
   ]
  },
  {
   "cell_type": "markdown",
   "id": "9a7ddfae",
   "metadata": {},
   "source": [
    "## enumerate"
   ]
  },
  {
   "cell_type": "markdown",
   "id": "89019ac2",
   "metadata": {},
   "source": [
    "programming_langs = [\"Python\", \"Go\", \"Javascript\", \"Scala\"]\n",
    "\n",
    "for lang_name in programming_langs:\n",
    "    print(lang_name)"
   ]
  },
  {
   "cell_type": "code",
   "execution_count": 24,
   "id": "e8277cc6",
   "metadata": {},
   "outputs": [
    {
     "name": "stdout",
     "output_type": "stream",
     "text": [
      "El lenguaje en el índice 0 es Python\n",
      "El lenguaje en el índice 1 es Go\n",
      "El lenguaje en el índice 2 es Javascript\n",
      "El lenguaje en el índice 3 es Scala\n"
     ]
    }
   ],
   "source": [
    "for i, lang_name in enumerate(programming_langs):\n",
    "    print(\"El lenguaje en el índice {} es {}\".format(i, lang_name))"
   ]
  },
  {
   "cell_type": "code",
   "execution_count": 25,
   "id": "ea4f7ef6",
   "metadata": {},
   "outputs": [
    {
     "name": "stdout",
     "output_type": "stream",
     "text": [
      "El lenguaje en el índice 1 es Python\n",
      "El lenguaje en el índice 2 es Go\n",
      "El lenguaje en el índice 3 es Javascript\n",
      "El lenguaje en el índice 4 es Scala\n"
     ]
    }
   ],
   "source": [
    "for i, lang_name in enumerate(programming_langs):\n",
    "    print(\"El lenguaje en el índice {} es {}\".format(i+1, lang_name))"
   ]
  },
  {
   "cell_type": "code",
   "execution_count": 26,
   "id": "53dbad1b",
   "metadata": {},
   "outputs": [
    {
     "name": "stdout",
     "output_type": "stream",
     "text": [
      "El lenguaje en el índice 1 es Python\n",
      "El lenguaje en el índice 2 es Go\n",
      "El lenguaje en el índice 3 es Javascript\n",
      "El lenguaje en el índice 4 es Scala\n"
     ]
    }
   ],
   "source": [
    "for i, lang_name in enumerate(programming_langs, start=1):\n",
    "    print(\"El lenguaje en el índice {} es {}\".format(i, lang_name))"
   ]
  },
  {
   "cell_type": "markdown",
   "id": "6973cbe8",
   "metadata": {},
   "source": [
    "## Función lambda\n",
    "- Función anónima (sin nombre)\n",
    "- Puede recibir cualquier número de argumentos pero solo puede tener una expresión\n",
    "- \"lambda\" palabra clave (Python), representa una función anónima dentro de otra función\n",
    "- Usada en combinación con built-in functions como map o filter\n",
    "- Regresada como valor por otra función"
   ]
  },
  {
   "cell_type": "code",
   "execution_count": 28,
   "id": "d083ce78",
   "metadata": {},
   "outputs": [],
   "source": [
    "plus_ten = lambda x:x+10"
   ]
  },
  {
   "cell_type": "code",
   "execution_count": 29,
   "id": "f04c776d",
   "metadata": {},
   "outputs": [
    {
     "name": "stdout",
     "output_type": "stream",
     "text": [
      "13\n",
      "41\n",
      "17\n"
     ]
    }
   ],
   "source": [
    "print(plus_ten(3))\n",
    "print(plus_ten(31))\n",
    "print(plus_ten(7))"
   ]
  },
  {
   "cell_type": "code",
   "execution_count": 30,
   "id": "bf525451",
   "metadata": {},
   "outputs": [],
   "source": [
    "my_list = [10,50,140,200,700,16,18]\n",
    "result = map(plus_ten, my_list)"
   ]
  },
  {
   "cell_type": "code",
   "execution_count": 31,
   "id": "39e714ca",
   "metadata": {},
   "outputs": [
    {
     "data": {
      "text/plain": [
       "<map at 0x106cc9ff0>"
      ]
     },
     "execution_count": 31,
     "metadata": {},
     "output_type": "execute_result"
    }
   ],
   "source": [
    "result"
   ]
  },
  {
   "cell_type": "code",
   "execution_count": 32,
   "id": "c2ebd90d",
   "metadata": {},
   "outputs": [
    {
     "data": {
      "text/plain": [
       "[20, 60, 150, 210, 710, 26, 28]"
      ]
     },
     "execution_count": 32,
     "metadata": {},
     "output_type": "execute_result"
    }
   ],
   "source": [
    "list(result)"
   ]
  },
  {
   "cell_type": "code",
   "execution_count": null,
   "id": "9fd850f2",
   "metadata": {},
   "outputs": [],
   "source": []
  },
  {
   "cell_type": "code",
   "execution_count": null,
   "id": "cd564321",
   "metadata": {},
   "outputs": [],
   "source": []
  },
  {
   "cell_type": "code",
   "execution_count": null,
   "id": "26fb27d7",
   "metadata": {},
   "outputs": [],
   "source": []
  }
 ],
 "metadata": {
  "kernelspec": {
   "display_name": "Python 3 (ipykernel)",
   "language": "python",
   "name": "python3"
  },
  "language_info": {
   "codemirror_mode": {
    "name": "ipython",
    "version": 3
   },
   "file_extension": ".py",
   "mimetype": "text/x-python",
   "name": "python",
   "nbconvert_exporter": "python",
   "pygments_lexer": "ipython3",
   "version": "3.11.5"
  }
 },
 "nbformat": 4,
 "nbformat_minor": 5
}

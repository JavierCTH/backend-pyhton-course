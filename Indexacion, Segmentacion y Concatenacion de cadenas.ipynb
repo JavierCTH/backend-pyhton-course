{
 "cells": [
  {
   "cell_type": "markdown",
   "id": "0c7b2a65",
   "metadata": {},
   "source": [
    "# Indexación de Cadenas\n",
    "\n",
    "- Indexación : acceder a los elementos de una variable\n",
    "- Para acceder, se usan corchetes \"[]\"\n",
    "- El índice o nnumero dentro de corchetes se refiere a la posición de lista ordenada\n",
    "- Se usa para extraer elementos individuales de una estructura de datos\n",
    "- Comienza en número 0\n",
    "\n",
    "Tipos\n",
    "- Positivos : comienzan en 0, de izquierda a derecha\n",
    "- Negativos : comienzan en -1, buscan de derecha a izquierda"
   ]
  },
  {
   "cell_type": "markdown",
   "id": "e566164a",
   "metadata": {},
   "source": [
    "## Segmentación de cadenas"
   ]
  },
  {
   "cell_type": "code",
   "execution_count": 5,
   "id": "c33bdea5",
   "metadata": {},
   "outputs": [
    {
     "name": "stdout",
     "output_type": "stream",
     "text": [
      "Python\n",
      "<class 'str'>\n",
      "P\n",
      "Pyt\n",
      "Pyt\n",
      "Python\n",
      "ho\n"
     ]
    }
   ],
   "source": [
    "# Indices positivos\n",
    "my_string = \"Python\"\n",
    "print(my_string)\n",
    "print(type(my_string))\n",
    "print(my_string[0])\n",
    "print(my_string[0:3]) # 0,1,2\n",
    "print(my_string[:3])  # 0,1,2\n",
    "print(my_string[:])   # todo\n",
    "print(my_string[3:5]) # 3,4"
   ]
  },
  {
   "cell_type": "code",
   "execution_count": 6,
   "id": "fad079f7",
   "metadata": {},
   "outputs": [
    {
     "ename": "IndexError",
     "evalue": "string index out of range",
     "output_type": "error",
     "traceback": [
      "\u001b[0;31m---------------------------------------------------------------------------\u001b[0m",
      "\u001b[0;31mIndexError\u001b[0m                                Traceback (most recent call last)",
      "Cell \u001b[0;32mIn[6], line 3\u001b[0m\n\u001b[1;32m      1\u001b[0m \u001b[38;5;66;03m# error\u001b[39;00m\n\u001b[1;32m      2\u001b[0m my_string \u001b[38;5;241m=\u001b[39m \u001b[38;5;124m\"\u001b[39m\u001b[38;5;124mPython\u001b[39m\u001b[38;5;124m\"\u001b[39m\n\u001b[0;32m----> 3\u001b[0m \u001b[38;5;28mprint\u001b[39m(my_string[\u001b[38;5;241m54\u001b[39m])\n",
      "\u001b[0;31mIndexError\u001b[0m: string index out of range"
     ]
    }
   ],
   "source": [
    "# error\n",
    "my_string = \"Python\"\n",
    "print(my_string[54])"
   ]
  },
  {
   "cell_type": "code",
   "execution_count": 12,
   "id": "337c1d3b",
   "metadata": {},
   "outputs": [
    {
     "name": "stdout",
     "output_type": "stream",
     "text": [
      "n\n",
      "n\n"
     ]
    }
   ],
   "source": [
    "# Indices negativos\n",
    "my_string = \"Python\"\n",
    "print(my_string[len(my_string)-1])\n",
    "print(my_string[-1])"
   ]
  },
  {
   "cell_type": "markdown",
   "id": "8f69bf1d",
   "metadata": {},
   "source": [
    "## Concatenación"
   ]
  },
  {
   "cell_type": "code",
   "execution_count": 14,
   "id": "de5b0329",
   "metadata": {},
   "outputs": [
    {
     "name": "stdout",
     "output_type": "stream",
     "text": [
      "Curso\n",
      "Python\n",
      "CursoPython\n",
      "Curso Python\n",
      "Curso Python\n"
     ]
    }
   ],
   "source": [
    "str1 = \"Curso\"\n",
    "str2 = \"Python\"\n",
    "print(str1)\n",
    "print(str2)\n",
    "print(str1+str2)\n",
    "print(str1+\" \"+str2)\n",
    "print(\"{} {}\".format(str1,str2))"
   ]
  },
  {
   "cell_type": "code",
   "execution_count": 23,
   "id": "7cb27cfd",
   "metadata": {
    "scrolled": true
   },
   "outputs": [
    {
     "name": "stdout",
     "output_type": "stream",
     "text": [
      "10\n",
      "20\n",
      "1020\n",
      "10 20\n",
      "10 20\n",
      "1020\n",
      "30\n",
      "30\n"
     ]
    }
   ],
   "source": [
    "str1 = \"10\"\n",
    "str2 = \"20\"\n",
    "print(str1)\n",
    "print(str2)\n",
    "print(str1+str2)\n",
    "print(str1+\" \"+str2)\n",
    "print(\"{} {}\".format(str1,str2))\n",
    "\n",
    "print(eval(str1+str2))\n",
    "print(eval(\"{}+{}\".format(str1,str2)))\n",
    "print(int(str1)+int(str2))"
   ]
  },
  {
   "cell_type": "code",
   "execution_count": 24,
   "id": "1a86c373",
   "metadata": {},
   "outputs": [
    {
     "ename": "TypeError",
     "evalue": "unsupported operand type(s) for +: 'int' and 'str'",
     "output_type": "error",
     "traceback": [
      "\u001b[0;31m---------------------------------------------------------------------------\u001b[0m",
      "\u001b[0;31mTypeError\u001b[0m                                 Traceback (most recent call last)",
      "Cell \u001b[0;32mIn[24], line 2\u001b[0m\n\u001b[1;32m      1\u001b[0m \u001b[38;5;66;03m# error\u001b[39;00m\n\u001b[0;32m----> 2\u001b[0m \u001b[38;5;241m10\u001b[39m \u001b[38;5;241m+\u001b[39m \u001b[38;5;124m\"\u001b[39m\u001b[38;5;124m10\u001b[39m\u001b[38;5;124m\"\u001b[39m\n",
      "\u001b[0;31mTypeError\u001b[0m: unsupported operand type(s) for +: 'int' and 'str'"
     ]
    }
   ],
   "source": [
    "# error\n",
    "10 + \"10\""
   ]
  },
  {
   "cell_type": "markdown",
   "id": "8a64668d",
   "metadata": {},
   "source": [
    "## Multiplicación"
   ]
  },
  {
   "cell_type": "code",
   "execution_count": 26,
   "id": "b8358506",
   "metadata": {},
   "outputs": [
    {
     "name": "stdout",
     "output_type": "stream",
     "text": [
      "cargando...cargando...cargando...cargando...cargando...cargando...cargando...\n"
     ]
    }
   ],
   "source": [
    "str1 = \"cargando...\"\n",
    "print(str1*7)"
   ]
  },
  {
   "cell_type": "code",
   "execution_count": 27,
   "id": "9199d597",
   "metadata": {},
   "outputs": [
    {
     "name": "stdout",
     "output_type": "stream",
     "text": [
      "cargando...\n",
      "cargando...\n",
      "cargando...\n",
      "cargando...\n",
      "cargando...\n",
      "cargando...\n",
      "cargando...\n",
      "\n"
     ]
    }
   ],
   "source": [
    "str1 = \"cargando...\\n\"\n",
    "print(str1*7)"
   ]
  },
  {
   "cell_type": "code",
   "execution_count": 28,
   "id": "661596e5",
   "metadata": {},
   "outputs": [
    {
     "name": "stdout",
     "output_type": "stream",
     "text": [
      "\n"
     ]
    }
   ],
   "source": [
    "str1 = \"cargando...\\n\"\n",
    "print(str1*0)"
   ]
  },
  {
   "cell_type": "code",
   "execution_count": 29,
   "id": "9678d0cb",
   "metadata": {},
   "outputs": [
    {
     "name": "stdout",
     "output_type": "stream",
     "text": [
      "\n"
     ]
    }
   ],
   "source": [
    "str1 = \"cargando...\\n\"\n",
    "print(-2*str1)"
   ]
  },
  {
   "cell_type": "code",
   "execution_count": 30,
   "id": "dfd510c0",
   "metadata": {},
   "outputs": [
    {
     "ename": "TypeError",
     "evalue": "can't multiply sequence by non-int of type 'float'",
     "output_type": "error",
     "traceback": [
      "\u001b[0;31m---------------------------------------------------------------------------\u001b[0m",
      "\u001b[0;31mTypeError\u001b[0m                                 Traceback (most recent call last)",
      "Cell \u001b[0;32mIn[30], line 2\u001b[0m\n\u001b[1;32m      1\u001b[0m str1 \u001b[38;5;241m=\u001b[39m \u001b[38;5;124m\"\u001b[39m\u001b[38;5;124mcargando...\u001b[39m\u001b[38;5;130;01m\\n\u001b[39;00m\u001b[38;5;124m\"\u001b[39m\n\u001b[0;32m----> 2\u001b[0m \u001b[38;5;28mprint\u001b[39m(\u001b[38;5;241m5.2\u001b[39m\u001b[38;5;241m*\u001b[39mstr1)\n",
      "\u001b[0;31mTypeError\u001b[0m: can't multiply sequence by non-int of type 'float'"
     ]
    }
   ],
   "source": [
    "str1 = \"cargando...\\n\"\n",
    "print(5.2*str1)"
   ]
  },
  {
   "cell_type": "markdown",
   "id": "0fc1ab0c",
   "metadata": {},
   "source": [
    "## Comparación"
   ]
  },
  {
   "cell_type": "code",
   "execution_count": 34,
   "id": "4225848d",
   "metadata": {},
   "outputs": [
    {
     "name": "stdout",
     "output_type": "stream",
     "text": [
      "False\n"
     ]
    }
   ],
   "source": [
    "str1 = \"test1\"\n",
    "str2 = \"test2\"\n",
    "print(str1==str2)"
   ]
  },
  {
   "cell_type": "code",
   "execution_count": 35,
   "id": "9e8bf86e",
   "metadata": {},
   "outputs": [
    {
     "name": "stdout",
     "output_type": "stream",
     "text": [
      "True\n"
     ]
    }
   ],
   "source": [
    "str1 = \"test1\"\n",
    "str2 = \"test1\"\n",
    "print(str1==str2)"
   ]
  },
  {
   "cell_type": "code",
   "execution_count": 36,
   "id": "12b70918",
   "metadata": {},
   "outputs": [
    {
     "name": "stdout",
     "output_type": "stream",
     "text": [
      "True\n"
     ]
    }
   ],
   "source": [
    "str1 = \"test1\"\n",
    "str2 = \"test2\"\n",
    "print(str1!=str2)"
   ]
  },
  {
   "cell_type": "code",
   "execution_count": 37,
   "id": "3af5d750",
   "metadata": {},
   "outputs": [
    {
     "name": "stdout",
     "output_type": "stream",
     "text": [
      "<class 'str'>\n"
     ]
    }
   ],
   "source": [
    "suma=n1\n",
    "print(type(suma))"
   ]
  },
  {
   "cell_type": "markdown",
   "id": "af203b06",
   "metadata": {},
   "source": [
    "## Funciones de cadenas"
   ]
  },
  {
   "cell_type": "markdown",
   "id": "6ed8220d",
   "metadata": {},
   "source": [
    "## split\n",
    "Divide la cadena basándose en el separador especificado"
   ]
  },
  {
   "cell_type": "code",
   "execution_count": 3,
   "id": "d2f70fe5",
   "metadata": {},
   "outputs": [
    {
     "name": "stdout",
     "output_type": "stream",
     "text": [
      "['El', 'curso', 'de', 'Backend', 'Python', 'de', 'EBAV', 'te', 'lleva', 'de', 'la', 'mano']\n"
     ]
    }
   ],
   "source": [
    "str1 = \"El curso de Backend Python de EBAV te lleva de la mano\"\n",
    "\n",
    "split_result = str1.split(\" \")\n",
    "\n",
    "print(split_result)"
   ]
  },
  {
   "cell_type": "code",
   "execution_count": 86,
   "id": "4ca61950",
   "metadata": {},
   "outputs": [
    {
     "ename": "ValueError",
     "evalue": "too many values to unpack (expected 3)",
     "output_type": "error",
     "traceback": [
      "\u001b[0;31m---------------------------------------------------------------------------\u001b[0m",
      "\u001b[0;31mValueError\u001b[0m                                Traceback (most recent call last)",
      "Cell \u001b[0;32mIn[86], line 3\u001b[0m\n\u001b[1;32m      1\u001b[0m email \u001b[38;5;241m=\u001b[39m \u001b[38;5;124m\"\u001b[39m\u001b[38;5;124muser123@test.com@sdfsd@32454\u001b[39m\u001b[38;5;124m\"\u001b[39m\n\u001b[0;32m----> 3\u001b[0m username, domain, test\u001b[38;5;241m=\u001b[39m email\u001b[38;5;241m.\u001b[39msplit(\u001b[38;5;124m\"\u001b[39m\u001b[38;5;124m@\u001b[39m\u001b[38;5;124m\"\u001b[39m)\n\u001b[1;32m      5\u001b[0m \u001b[38;5;28mprint\u001b[39m(username)\n\u001b[1;32m      6\u001b[0m \u001b[38;5;28mprint\u001b[39m(domain)\n",
      "\u001b[0;31mValueError\u001b[0m: too many values to unpack (expected 3)"
     ]
    }
   ],
   "source": [
    "email = \"user123@test.com@sdfsd@32454\"\n",
    "\n",
    "username, domain, test= email.split(\"@\")\n",
    "\n",
    "print(username)\n",
    "print(domain)\n",
    "print(test)\n"
   ]
  },
  {
   "cell_type": "code",
   "execution_count": 9,
   "id": "b653a10f",
   "metadata": {},
   "outputs": [
    {
     "name": "stdout",
     "output_type": "stream",
     "text": [
      "date:  2024-07-01\n",
      "log_level:  error\n",
      "date:  2024-07-01\n",
      "log_level:  error\n",
      "date:  2024-07-02\n",
      "log_level:  fix\n"
     ]
    }
   ],
   "source": [
    "my_string = \"\"\"2024-07-01|error|Invalid PLU \n",
    "2024-07-01|error|Invalid discount\n",
    "2024-07-02|fix|Check your POS connection\"\"\"\n",
    "\n",
    "logs = my_string.split(\"\\n\")\n",
    "for log in logs:\n",
    "    date, log_level, message = log.split(\"|\")\n",
    "    print(\"date: \", date)\n",
    "    print(\"log_level: \", log_level)"
   ]
  },
  {
   "cell_type": "markdown",
   "id": "ef371abc",
   "metadata": {},
   "source": [
    "## index/find\n",
    "Busca la primer posición de la subcadena solicitada en la cadena deseada"
   ]
  },
  {
   "cell_type": "code",
   "execution_count": 10,
   "id": "315b5ee8",
   "metadata": {},
   "outputs": [
    {
     "name": "stdout",
     "output_type": "stream",
     "text": [
      "La primera posición de 'Python' en str1 es:  20\n",
      "La primera posición de 'Python' en str1 es:  20\n"
     ]
    }
   ],
   "source": [
    "str1 = \"El curso de Backend Python de EBAC te lleva de la mano\"\n",
    "print(\"La primera posición de 'Python' en str1 es: \", str1.index(\"Python\"))\n",
    "print(\"La primera posición de 'Python' en str1 es: \", str1.find(\"Python\"))"
   ]
  },
  {
   "cell_type": "code",
   "execution_count": 11,
   "id": "2800712d",
   "metadata": {},
   "outputs": [
    {
     "name": "stdout",
     "output_type": "stream",
     "text": [
      "La primera posición de 'Python' en str1 es:  50\n",
      "La primera posición de 'Python' en str1 es:  50\n"
     ]
    }
   ],
   "source": [
    "str1 = \"El curso de Backend Python de EBAC te lleva de la mano\"\n",
    "print(\"La primera posición de 'Python' en str1 es: \", str1.index(\"m\"))\n",
    "print(\"La primera posición de 'Python' en str1 es: \", str1.find(\"m\"))"
   ]
  },
  {
   "cell_type": "code",
   "execution_count": 12,
   "id": "fe579bf3",
   "metadata": {},
   "outputs": [
    {
     "name": "stdout",
     "output_type": "stream",
     "text": [
      "La primera posición de 'Python' en str1 es:  1\n",
      "La primera posición de 'Python' en str1 es:  3\n"
     ]
    }
   ],
   "source": [
    "str1 = \"El curso de Backend Python de EBAC te lleva de la mano\"\n",
    "print(\"La primera posición de 'Python' en str1 es: \", str1.index(\"l\"))\n",
    "print(\"La primera posición de 'Python' en str1 es: \", str1.find(\"c\"))"
   ]
  },
  {
   "cell_type": "markdown",
   "id": "96dda184",
   "metadata": {},
   "source": [
    "## count\n",
    "Cuenta el número de apariciones de la subcadena solicitada en la cadena completa"
   ]
  },
  {
   "cell_type": "code",
   "execution_count": 25,
   "id": "f253437f",
   "metadata": {},
   "outputs": [
    {
     "name": "stdout",
     "output_type": "stream",
     "text": [
      "La cantidad de 'E' en str1 es:  2\n"
     ]
    }
   ],
   "source": [
    "str1 = \"El curso de Backend Python de EBAC te lleva de la mano\"\n",
    "print(\"La cantidad de 'E' en str1 es: \", str1.count(\"E\"))"
   ]
  },
  {
   "cell_type": "code",
   "execution_count": 15,
   "id": "c1576a34",
   "metadata": {},
   "outputs": [
    {
     "name": "stdout",
     "output_type": "stream",
     "text": [
      "La cantidad de 'E' en str1 es:  1\n"
     ]
    }
   ],
   "source": [
    "str1 = \"El curso de Backend Python de EBAC te lleva de la mano\"\n",
    "print(\"La cantidad de 'E' en str1 es: \", str1.count(\"la\"))"
   ]
  },
  {
   "cell_type": "markdown",
   "id": "45e7a0d0",
   "metadata": {},
   "source": [
    "## len\n",
    "Cuenta la longitud o número de carácteres"
   ]
  },
  {
   "cell_type": "code",
   "execution_count": 87,
   "id": "b18e31f3",
   "metadata": {},
   "outputs": [
    {
     "name": "stdout",
     "output_type": "stream",
     "text": [
      "La cantidad de caracteres en str1 es:  54\n"
     ]
    }
   ],
   "source": [
    "str1 = \"El curso de Backend Python de EBAC te lleva de la mano\"\n",
    "print(\"La cantidad de caracteres en str1 es: \", len(str1))"
   ]
  },
  {
   "cell_type": "markdown",
   "id": "38564f73",
   "metadata": {},
   "source": [
    "## strip\n",
    "Remueve espacios"
   ]
  },
  {
   "cell_type": "code",
   "execution_count": 22,
   "id": "b732e932",
   "metadata": {},
   "outputs": [
    {
     "name": "stdout",
     "output_type": "stream",
     "text": [
      "[      Backend Python    ]\n",
      "[Backend Python]\n"
     ]
    }
   ],
   "source": [
    "str1 = \"      Backend Python    \"\n",
    "print(\"[{}]\".format(str1))\n",
    "print(\"[{}]\".format(str1.strip()))"
   ]
  },
  {
   "cell_type": "code",
   "execution_count": 27,
   "id": "924f4066",
   "metadata": {},
   "outputs": [
    {
     "name": "stdout",
     "output_type": "stream",
     "text": [
      "[Backend Python]\n",
      "[ackend Python]\n"
     ]
    }
   ],
   "source": [
    "str1 = \"Backend Python\"\n",
    "print(\"[{}]\".format(str1))\n",
    "print(\"[{}]\".format(str1.strip(\"B\")))"
   ]
  },
  {
   "cell_type": "markdown",
   "id": "8fc21386",
   "metadata": {},
   "source": [
    "## isdecimal / isnumeric / isdigit\n",
    "Analiza si la cadena contiene números/enteros"
   ]
  },
  {
   "cell_type": "code",
   "execution_count": 29,
   "id": "3d37a16b",
   "metadata": {},
   "outputs": [
    {
     "name": "stdout",
     "output_type": "stream",
     "text": [
      "True\n",
      "True\n",
      "True\n"
     ]
    }
   ],
   "source": [
    "str1 = \"90464356456\"\n",
    "print(str1.isdecimal())\n",
    "print(str1.isnumeric())\n",
    "print(str1.isdigit())"
   ]
  },
  {
   "cell_type": "code",
   "execution_count": 30,
   "id": "5dea2693",
   "metadata": {},
   "outputs": [
    {
     "name": "stdout",
     "output_type": "stream",
     "text": [
      "False\n",
      "False\n",
      "False\n"
     ]
    }
   ],
   "source": [
    "str1 = \"90464.356456\"\n",
    "print(str1.isdecimal())\n",
    "print(str1.isnumeric())\n",
    "print(str1.isdigit())"
   ]
  },
  {
   "cell_type": "code",
   "execution_count": 31,
   "id": "f68e2d42",
   "metadata": {},
   "outputs": [
    {
     "name": "stdout",
     "output_type": "stream",
     "text": [
      "False\n",
      "False\n",
      "False\n"
     ]
    }
   ],
   "source": [
    "str1 = \"904643564d56\"\n",
    "print(str1.isdecimal())\n",
    "print(str1.isnumeric())\n",
    "print(str1.isdigit())"
   ]
  },
  {
   "cell_type": "code",
   "execution_count": 32,
   "id": "6a26767d",
   "metadata": {},
   "outputs": [
    {
     "name": "stdout",
     "output_type": "stream",
     "text": [
      "False\n",
      "False\n",
      "False\n"
     ]
    }
   ],
   "source": [
    "str1 = \"90464356 456\"\n",
    "print(str1.isdecimal())\n",
    "print(str1.isnumeric())\n",
    "print(str1.isdigit())"
   ]
  },
  {
   "cell_type": "markdown",
   "id": "d86fb487",
   "metadata": {},
   "source": [
    "## isalnum\n",
    "Analiza si todos los caracteres son alfanuméricos (letras o número)"
   ]
  },
  {
   "cell_type": "code",
   "execution_count": 34,
   "id": "fcfc977d",
   "metadata": {},
   "outputs": [
    {
     "name": "stdout",
     "output_type": "stream",
     "text": [
      "True\n"
     ]
    }
   ],
   "source": [
    "str1 = \"90464356456\"\n",
    "print(str1.isalnum())"
   ]
  },
  {
   "cell_type": "code",
   "execution_count": 35,
   "id": "f92eab03",
   "metadata": {},
   "outputs": [
    {
     "name": "stdout",
     "output_type": "stream",
     "text": [
      "False\n"
     ]
    }
   ],
   "source": [
    "str1 = \"90464.356456\"\n",
    "print(str1.isalnum())"
   ]
  },
  {
   "cell_type": "code",
   "execution_count": 36,
   "id": "df683b84",
   "metadata": {},
   "outputs": [
    {
     "name": "stdout",
     "output_type": "stream",
     "text": [
      "True\n"
     ]
    }
   ],
   "source": [
    "str1 = \"904643hfs56456\"\n",
    "print(str1.isalnum())"
   ]
  },
  {
   "cell_type": "code",
   "execution_count": 37,
   "id": "9bf1f36f",
   "metadata": {},
   "outputs": [
    {
     "name": "stdout",
     "output_type": "stream",
     "text": [
      "False\n"
     ]
    }
   ],
   "source": [
    "str1 = \"904643 56456\"\n",
    "print(str1.isalnum())"
   ]
  },
  {
   "cell_type": "markdown",
   "id": "ea2e8831",
   "metadata": {},
   "source": [
    "## isupper\n",
    "Analiza si todas las letras presentes en la cadena son mayúsculas"
   ]
  },
  {
   "cell_type": "code",
   "execution_count": 40,
   "id": "5fe5bf12",
   "metadata": {},
   "outputs": [
    {
     "name": "stdout",
     "output_type": "stream",
     "text": [
      "False\n"
     ]
    }
   ],
   "source": [
    "str1 = \"test\"\n",
    "print(str1.isupper())"
   ]
  },
  {
   "cell_type": "code",
   "execution_count": 41,
   "id": "b77f4bd4",
   "metadata": {},
   "outputs": [
    {
     "name": "stdout",
     "output_type": "stream",
     "text": [
      "True\n"
     ]
    }
   ],
   "source": [
    "str1 = \"TEST\"\n",
    "print(str1.isupper())"
   ]
  },
  {
   "cell_type": "code",
   "execution_count": 42,
   "id": "1e38380c",
   "metadata": {},
   "outputs": [
    {
     "name": "stdout",
     "output_type": "stream",
     "text": [
      "False\n"
     ]
    }
   ],
   "source": [
    "str1 = \"Test\"\n",
    "print(str1.isupper())"
   ]
  },
  {
   "cell_type": "code",
   "execution_count": 43,
   "id": "274056e3",
   "metadata": {},
   "outputs": [
    {
     "name": "stdout",
     "output_type": "stream",
     "text": [
      "True\n"
     ]
    }
   ],
   "source": [
    "str1 = \"TEST352153\"\n",
    "print(str1.isupper())"
   ]
  },
  {
   "cell_type": "markdown",
   "id": "3a1f3ea1",
   "metadata": {},
   "source": [
    "## islower\n",
    "Analiza si todas las letras presentes en la cadena son minúsculas"
   ]
  },
  {
   "cell_type": "code",
   "execution_count": 44,
   "id": "56c80ad7",
   "metadata": {},
   "outputs": [
    {
     "name": "stdout",
     "output_type": "stream",
     "text": [
      "True\n"
     ]
    }
   ],
   "source": [
    "str1 = \"test\"\n",
    "print(str1.islower())"
   ]
  },
  {
   "cell_type": "code",
   "execution_count": 45,
   "id": "8551c5a2",
   "metadata": {},
   "outputs": [
    {
     "name": "stdout",
     "output_type": "stream",
     "text": [
      "False\n"
     ]
    }
   ],
   "source": [
    "str1 = \"TEST\"\n",
    "print(str1.islower())"
   ]
  },
  {
   "cell_type": "code",
   "execution_count": 46,
   "id": "c95e81b1",
   "metadata": {},
   "outputs": [
    {
     "name": "stdout",
     "output_type": "stream",
     "text": [
      "True\n"
     ]
    }
   ],
   "source": [
    "str1 = \"test234\"\n",
    "print(str1.islower())"
   ]
  },
  {
   "cell_type": "markdown",
   "id": "80d59bd3",
   "metadata": {},
   "source": [
    "## join\n",
    "Crea una cadena de una lista, usando el separador especificado"
   ]
  },
  {
   "cell_type": "code",
   "execution_count": 48,
   "id": "ba340888",
   "metadata": {},
   "outputs": [
    {
     "name": "stdout",
     "output_type": "stream",
     "text": [
      "123|456|789\n"
     ]
    }
   ],
   "source": [
    "my_list = [\"123\", \"456\", \"789\"] #list\n",
    "separator = \"|\"\n",
    "print(separator.join(my_list))"
   ]
  },
  {
   "cell_type": "code",
   "execution_count": 49,
   "id": "5d2c43f2",
   "metadata": {},
   "outputs": [
    {
     "name": "stdout",
     "output_type": "stream",
     "text": [
      "123+456+789\n"
     ]
    }
   ],
   "source": [
    "my_list = [\"123\", \"456\", \"789\"] #list\n",
    "separator = \"+\"\n",
    "print(separator.join(my_list))"
   ]
  },
  {
   "cell_type": "code",
   "execution_count": 50,
   "id": "54d88813",
   "metadata": {},
   "outputs": [
    {
     "name": "stdout",
     "output_type": "stream",
     "text": [
      "123,456,789\n"
     ]
    }
   ],
   "source": [
    "my_list = [\"123\", \"456\", \"789\"] #list\n",
    "separator = \",\"\n",
    "print(separator.join(my_list))"
   ]
  },
  {
   "cell_type": "markdown",
   "id": "21591b8c",
   "metadata": {},
   "source": [
    "## capitalize\n",
    "Hace mayúscula la primer letra"
   ]
  },
  {
   "cell_type": "code",
   "execution_count": 51,
   "id": "c2b46374",
   "metadata": {},
   "outputs": [
    {
     "name": "stdout",
     "output_type": "stream",
     "text": [
      "Backend python\n"
     ]
    }
   ],
   "source": [
    "str1 = \"backend python\"\n",
    "print(str1.capitalize())"
   ]
  },
  {
   "cell_type": "code",
   "execution_count": 55,
   "id": "5fdfbd2d",
   "metadata": {},
   "outputs": [
    {
     "name": "stdout",
     "output_type": "stream",
     "text": [
      "Backend python\n"
     ]
    }
   ],
   "source": [
    "str1 = \"backend pythOn\"\n",
    "print(str1.capitalize())"
   ]
  },
  {
   "cell_type": "markdown",
   "id": "2f661a69",
   "metadata": {},
   "source": [
    "## format\n",
    "Configura valores dentro de una cadena que es nuestro molde"
   ]
  },
  {
   "cell_type": "code",
   "execution_count": 57,
   "id": "d7e45a11",
   "metadata": {},
   "outputs": [
    {
     "name": "stdout",
     "output_type": "stream",
     "text": [
      "44 es el valor\n",
      "57 es el valor\n",
      "0001 es el valor\n"
     ]
    }
   ],
   "source": [
    "str1 = \"{} es el valor\"\n",
    "print(str1.format(\"44\"))\n",
    "print(str1.format(\"57\"))\n",
    "print(str1.format(\"0001\"))"
   ]
  },
  {
   "cell_type": "code",
   "execution_count": 58,
   "id": "2b59487b",
   "metadata": {},
   "outputs": [
    {
     "name": "stdout",
     "output_type": "stream",
     "text": [
      "año: 2021 hora: 19:43\n",
      "año: 2024 hora: 13:30\n",
      "año: 2022 hora: 08:12\n"
     ]
    }
   ],
   "source": [
    "date = \"año: {} hora: {}\"\n",
    "print(date.format(\"2021\", \"19:43\"))\n",
    "print(date.format(\"2024\", \"13:30\"))\n",
    "print(date.format(\"2022\", \"08:12\"))"
   ]
  },
  {
   "cell_type": "code",
   "execution_count": 63,
   "id": "d8c9c801",
   "metadata": {},
   "outputs": [
    {
     "name": "stdout",
     "output_type": "stream",
     "text": [
      "hora: 19:43 año: 2021\n",
      "hora: 13:30 año: 2024\n",
      "hora: 08:12 año: 2022\n"
     ]
    }
   ],
   "source": [
    "date = \"hora: {1} año: {0}\"\n",
    "print(date.format(\"2021\", \"19:43\"))\n",
    "print(date.format(\"2024\", \"13:30\"))\n",
    "print(date.format(\"2022\", \"08:12\"))"
   ]
  },
  {
   "cell_type": "markdown",
   "id": "446c955d",
   "metadata": {},
   "source": [
    "## center\n",
    "Centro el texto dada cierta longitud"
   ]
  },
  {
   "cell_type": "code",
   "execution_count": 62,
   "id": "6c1a0df0",
   "metadata": {},
   "outputs": [
    {
     "name": "stdout",
     "output_type": "stream",
     "text": [
      "[ Probando funciones ]\n",
      "[                                Probando funciones                               ]\n",
      "[      Probando funciones      ]\n"
     ]
    }
   ],
   "source": [
    "str1 = \"Probando funciones\"\n",
    "print(\"[{}]\".format(str1.center(20)))\n",
    "print(\"[{}]\".format(str1.center(81)))\n",
    "print(\"[{}]\".format(str1.center(30)))"
   ]
  },
  {
   "cell_type": "markdown",
   "id": "41433215",
   "metadata": {},
   "source": [
    "## endswith\n",
    "Evalúa si la cadena termina con el caracter o palabra o subcadena solicitada"
   ]
  },
  {
   "cell_type": "code",
   "execution_count": 64,
   "id": "d44abaf2",
   "metadata": {},
   "outputs": [
    {
     "name": "stdout",
     "output_type": "stream",
     "text": [
      "True\n"
     ]
    }
   ],
   "source": [
    "str1 = \"Probando funciones\"\n",
    "print(str1.endswith(\"s\"))"
   ]
  },
  {
   "cell_type": "code",
   "execution_count": 65,
   "id": "7d97c593",
   "metadata": {},
   "outputs": [
    {
     "name": "stdout",
     "output_type": "stream",
     "text": [
      "False\n"
     ]
    }
   ],
   "source": [
    "str1 = \"Probando funciones\"\n",
    "print(str1.endswith(\"Probando\"))"
   ]
  },
  {
   "cell_type": "code",
   "execution_count": 66,
   "id": "fce5d4b3",
   "metadata": {},
   "outputs": [
    {
     "name": "stdout",
     "output_type": "stream",
     "text": [
      "True\n"
     ]
    }
   ],
   "source": [
    "str1 = \"Probando funciones\"\n",
    "print(str1.endswith(\"ciones\"))"
   ]
  },
  {
   "cell_type": "markdown",
   "id": "1f23774a",
   "metadata": {},
   "source": [
    "# swapcase\n",
    "Invierte May y Min"
   ]
  },
  {
   "cell_type": "code",
   "execution_count": 68,
   "id": "1613a137",
   "metadata": {},
   "outputs": [
    {
     "name": "stdout",
     "output_type": "stream",
     "text": [
      "pROBANDO FUNCIONES\n"
     ]
    }
   ],
   "source": [
    "str1 = \"Probando funciones\"\n",
    "print(str1.swapcase())"
   ]
  },
  {
   "cell_type": "code",
   "execution_count": 69,
   "id": "db1c31f7",
   "metadata": {},
   "outputs": [
    {
     "name": "stdout",
     "output_type": "stream",
     "text": [
      "pROBanDO FUNcIONes\n"
     ]
    }
   ],
   "source": [
    "str1 = \"ProbANdo funCionES\"\n",
    "print(str1.swapcase())"
   ]
  },
  {
   "cell_type": "markdown",
   "id": "67e01a56",
   "metadata": {},
   "source": [
    "## replace\n",
    "Remplaza una subcadena por otra subcadena, dentro de una cadena"
   ]
  },
  {
   "cell_type": "code",
   "execution_count": 70,
   "id": "b659426b",
   "metadata": {},
   "outputs": [
    {
     "name": "stdout",
     "output_type": "stream",
     "text": [
      "Usando funciones\n"
     ]
    }
   ],
   "source": [
    "str1 = \"Probando funciones\"\n",
    "print(str1.replace(\"Probando\", \"Usando\"))"
   ]
  },
  {
   "cell_type": "code",
   "execution_count": 72,
   "id": "923b4c6b",
   "metadata": {},
   "outputs": [
    {
     "name": "stdout",
     "output_type": "stream",
     "text": [
      "Probando\n",
      "funciones\n"
     ]
    }
   ],
   "source": [
    "str1 = \"Probando funciones\"\n",
    "print(str1.replace(\" \", \"\\n\"))"
   ]
  },
  {
   "cell_type": "code",
   "execution_count": 73,
   "id": "400405e8",
   "metadata": {},
   "outputs": [
    {
     "name": "stdout",
     "output_type": "stream",
     "text": [
      "Probando funciones\n"
     ]
    }
   ],
   "source": [
    "str1 = \"Probando funciones\"\n",
    "print(str1.replace(\"Y\", \"O\"))"
   ]
  },
  {
   "cell_type": "code",
   "execution_count": 74,
   "id": "91b90c10",
   "metadata": {},
   "outputs": [
    {
     "name": "stdout",
     "output_type": "stream",
     "text": [
      "ProbAndo funciones\n"
     ]
    }
   ],
   "source": [
    "str1 = \"Probando funciones\"\n",
    "print(str1.replace(\"a\", \"A\"))"
   ]
  },
  {
   "cell_type": "markdown",
   "id": "5797c23c",
   "metadata": {},
   "source": [
    "## Formateo de cadenas y datetime"
   ]
  },
  {
   "cell_type": "code",
   "execution_count": 78,
   "id": "0e9092bc",
   "metadata": {},
   "outputs": [
    {
     "name": "stdout",
     "output_type": "stream",
     "text": [
      "2024-07-03 18:31:20.015018\n"
     ]
    }
   ],
   "source": [
    "from datetime import datetime\n",
    "now = datetime.now()\n",
    "\n",
    "print(now)"
   ]
  },
  {
   "cell_type": "code",
   "execution_count": 79,
   "id": "c14f2f4d",
   "metadata": {},
   "outputs": [
    {
     "name": "stdout",
     "output_type": "stream",
     "text": [
      "Año:  2024\n",
      "Mes:  07\n",
      "Día:  03\n",
      "Hora:  18:31:20\n"
     ]
    }
   ],
   "source": [
    "year = now.strftime(\"%Y\")\n",
    "month = now.strftime(\"%m\")\n",
    "day = now.strftime(\"%d\")\n",
    "time = now.strftime(\"%H:%M:%S\")\n",
    "print(\"Año: \", year)\n",
    "print(\"Mes: \", month)\n",
    "print(\"Día: \", day)\n",
    "print(\"Hora: \", time)"
   ]
  },
  {
   "cell_type": "markdown",
   "id": "aa049f76",
   "metadata": {},
   "source": [
    "## reverse / reversa\n",
    "Invertir una cadena"
   ]
  },
  {
   "cell_type": "code",
   "execution_count": 81,
   "id": "2e474620",
   "metadata": {},
   "outputs": [
    {
     "name": "stdout",
     "output_type": "stream",
     "text": [
      "senoicnuf odnaborP\n"
     ]
    }
   ],
   "source": [
    "str1 = \"Probando funciones\"\n",
    "print(str1 [::-1])"
   ]
  },
  {
   "cell_type": "code",
   "execution_count": null,
   "id": "e39623e5",
   "metadata": {},
   "outputs": [],
   "source": []
  }
 ],
 "metadata": {
  "kernelspec": {
   "display_name": "Python 3 (ipykernel)",
   "language": "python",
   "name": "python3"
  },
  "language_info": {
   "codemirror_mode": {
    "name": "ipython",
    "version": 3
   },
   "file_extension": ".py",
   "mimetype": "text/x-python",
   "name": "python",
   "nbconvert_exporter": "python",
   "pygments_lexer": "ipython3",
   "version": "3.11.5"
  }
 },
 "nbformat": 4,
 "nbformat_minor": 5
}

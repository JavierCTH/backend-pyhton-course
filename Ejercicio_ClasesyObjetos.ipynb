{
 "cells": [
  {
   "cell_type": "code",
   "execution_count": 62,
   "id": "21c850f0",
   "metadata": {},
   "outputs": [],
   "source": [
    "class product:\n",
    "    def __init__(self, name, price, description):\n",
    "        self.name = name\n",
    "        self.price = price\n",
    "        self.description = description\n",
    "        print(\"Item created\")\n",
    "        \n",
    "    def printAttributes(self):\n",
    "        print(\"Name: \", self.name)\n",
    "        print(\"Price: \", self.price)\n",
    "        print(\"Description: \", self.description)\n",
    "        \n",
    "    def applyDiscount(self, discount):\n",
    "        self.price *= (1 - discount/100)\n",
    "        \n",
    "class category(product):\n",
    "    def __init__(self, name, price, description, tax):\n",
    "        product.__init__(self,name, price, description)\n",
    "        self.tax = 10\n",
    "        \n",
    "    def availability(self):\n",
    "        return True"
   ]
  },
  {
   "cell_type": "code",
   "execution_count": 63,
   "id": "d7491f0f",
   "metadata": {},
   "outputs": [
    {
     "name": "stdout",
     "output_type": "stream",
     "text": [
      "Item created\n",
      "Item created\n",
      "Item created\n"
     ]
    }
   ],
   "source": [
    "dessert1 = category(\"Brownie\", 68, \"Chocolate baked dessert bar\", 10)\n",
    "dessert2 = category(\"Creme brûlée\", 73, \"Creamy custard base that is topped with a layer of hard caramel\", 10)\n",
    "dessert3 = category(\"Souffle\", 90, \"Fluffy goat cheese souffle\", 10)"
   ]
  },
  {
   "cell_type": "code",
   "execution_count": 66,
   "id": "b840ccca",
   "metadata": {},
   "outputs": [
    {
     "name": "stdout",
     "output_type": "stream",
     "text": [
      "Name:  Brownie\n",
      "Price:  68\n",
      "Description:  Chocolate baked dessert bar\n",
      "\n",
      "\n",
      "The price of Creme brûlée after discount is: $53.22\n",
      "\n",
      "\n",
      "The tax of Souffle is: 10\n",
      "\n",
      "\n",
      "Brownie is available\n"
     ]
    }
   ],
   "source": [
    "dessert1.printAttributes()\n",
    "\n",
    "print(\"\\n\")\n",
    "dessert2.applyDiscount(10)\n",
    "print(f\"The price of {dessert2.name} after discount is: ${dessert2.price:.2f}\")\n",
    "\n",
    "print(\"\\n\")\n",
    "print(f\"The tax of {dessert3.name} is: {dessert3.tax}\")\n",
    "\n",
    "print(\"\\n\")\n",
    "if dessert1.availability():\n",
    "    print(f\"{dessert1.name} is available\")\n",
    "else:\n",
    "    print(f\"{dessert1.name} is not available\")"
   ]
  }
 ],
 "metadata": {
  "kernelspec": {
   "display_name": "Python 3 (ipykernel)",
   "language": "python",
   "name": "python3"
  },
  "language_info": {
   "codemirror_mode": {
    "name": "ipython",
    "version": 3
   },
   "file_extension": ".py",
   "mimetype": "text/x-python",
   "name": "python",
   "nbconvert_exporter": "python",
   "pygments_lexer": "ipython3",
   "version": "3.11.5"
  }
 },
 "nbformat": 4,
 "nbformat_minor": 5
}

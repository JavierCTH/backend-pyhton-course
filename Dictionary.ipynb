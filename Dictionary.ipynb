{
 "cells": [
  {
   "cell_type": "markdown",
   "id": "a13e8b3c",
   "metadata": {},
   "source": [
    "## Creación"
   ]
  },
  {
   "cell_type": "code",
   "execution_count": 1,
   "id": "fbc8e269",
   "metadata": {},
   "outputs": [
    {
     "name": "stdout",
     "output_type": "stream",
     "text": [
      "{}\n",
      "<class 'dict'>\n"
     ]
    }
   ],
   "source": [
    "my_dict = {}\n",
    "print(my_dict)\n",
    "print(type(my_dict))"
   ]
  },
  {
   "cell_type": "code",
   "execution_count": 2,
   "id": "3e712115",
   "metadata": {},
   "outputs": [
    {
     "name": "stdout",
     "output_type": "stream",
     "text": [
      "{}\n",
      "<class 'dict'>\n"
     ]
    }
   ],
   "source": [
    "my_dict = dict()\n",
    "print(my_dict)\n",
    "print(type(my_dict))"
   ]
  },
  {
   "cell_type": "code",
   "execution_count": 4,
   "id": "d0c8999b",
   "metadata": {},
   "outputs": [
    {
     "name": "stdout",
     "output_type": "stream",
     "text": [
      "{1: 'Uno', 2: 'Dos', 3: 'Tres', 4: 'Cuatro', 5: 'Cinco'}\n",
      "<class 'dict'>\n"
     ]
    }
   ],
   "source": [
    "# Representando el diccionario como tal\n",
    "\n",
    "my_dict = {\n",
    "    1:\"Uno\",\n",
    "    2:\"Dos\",\n",
    "    3:\"Tres\",\n",
    "    4:\"Cuatro\",\n",
    "    5:\"Cinco\"\n",
    "}\n",
    "print(my_dict)\n",
    "print(type(my_dict))"
   ]
  },
  {
   "cell_type": "code",
   "execution_count": 5,
   "id": "51582d94",
   "metadata": {},
   "outputs": [
    {
     "name": "stdout",
     "output_type": "stream",
     "text": [
      "{'Uno': 1, 'Dos': 2, 'Tres': 3, 'Cuatro': 4, 'Cinco': 5}\n",
      "<class 'dict'>\n"
     ]
    }
   ],
   "source": [
    "# Usando nombres de las llaves con valores\n",
    "\n",
    "my_dict = dict(Uno=1, Dos=2, Tres=3, Cuatro=4, Cinco=5)\n",
    "\n",
    "print(my_dict)\n",
    "print(type(my_dict))"
   ]
  },
  {
   "cell_type": "code",
   "execution_count": 7,
   "id": "ceecfd13",
   "metadata": {},
   "outputs": [
    {
     "name": "stdout",
     "output_type": "stream",
     "text": [
      "{1: 'Uno', 2: 'Dos', 3: 'Tres', 4: 'Cuatro', 5: 'Cinco'}\n",
      "<class 'dict'>\n"
     ]
    }
   ],
   "source": [
    "# Usando una list de tuplas\n",
    "\n",
    "my_dict = dict([\n",
    "    (1, \"Uno\"),\n",
    "    (2, \"Dos\"),\n",
    "    (3, \"Tres\"),\n",
    "    (4, \"Cuatro\"),\n",
    "    (5, \"Cinco\"),\n",
    "])\n",
    "\n",
    "print(my_dict)\n",
    "print(type(my_dict))"
   ]
  },
  {
   "cell_type": "markdown",
   "id": "27533bb1",
   "metadata": {},
   "source": [
    "## update"
   ]
  },
  {
   "cell_type": "code",
   "execution_count": 8,
   "id": "31a25639",
   "metadata": {},
   "outputs": [
    {
     "name": "stdout",
     "output_type": "stream",
     "text": [
      "{1: 'Uno', 2: 'Dos', 3: 'Tres', 4: 'Cuatro', 5: 'Cinco'}\n",
      "<class 'dict'>\n",
      "{6: 'Seis', 7: 'Siete', 8: 'Ocho', 9: 'Nueve'}\n",
      "<class 'dict'>\n"
     ]
    }
   ],
   "source": [
    "my_dict = {\n",
    "    1:\"Uno\",\n",
    "    2:\"Dos\",\n",
    "    3:\"Tres\",\n",
    "    4:\"Cuatro\",\n",
    "    5:\"Cinco\"\n",
    "}\n",
    "\n",
    "my_dict_2 = {\n",
    "    6:\"Seis\",\n",
    "    7:\"Siete\",\n",
    "    8:\"Ocho\",\n",
    "    9:\"Nueve\"\n",
    "}\n",
    "\n",
    "print(my_dict)\n",
    "print(type(my_dict))\n",
    "\n",
    "print(my_dict_2)\n",
    "print(type(my_dict_2))"
   ]
  },
  {
   "cell_type": "code",
   "execution_count": 9,
   "id": "89e44440",
   "metadata": {},
   "outputs": [
    {
     "name": "stdout",
     "output_type": "stream",
     "text": [
      "{1: 'Uno', 2: 'Dos', 3: 'Tres', 4: 'Cuatro', 5: 'Cinco', 6: 'Seis', 7: 'Siete', 8: 'Ocho', 9: 'Nueve'}\n",
      "<class 'dict'>\n"
     ]
    }
   ],
   "source": [
    "my_dict.update(my_dict_2)\n",
    "print(my_dict)\n",
    "print(type(my_dict))"
   ]
  },
  {
   "cell_type": "code",
   "execution_count": 10,
   "id": "fb4e992b",
   "metadata": {},
   "outputs": [
    {
     "name": "stdout",
     "output_type": "stream",
     "text": [
      "{1: 'Uno', 2: 'Dos', 3: 'Tres', 4: 'Cuatro', 5: 'Cinco'}\n",
      "<class 'dict'>\n",
      "{6: 'Seis', 3: 'TRES', 1: 'UNO', 9: 'Nueve'}\n",
      "<class 'dict'>\n",
      "{1: 'UNO', 2: 'Dos', 3: 'TRES', 4: 'Cuatro', 5: 'Cinco', 6: 'Seis', 9: 'Nueve'}\n",
      "<class 'dict'>\n"
     ]
    }
   ],
   "source": [
    "my_dict = {\n",
    "    1:\"Uno\",\n",
    "    2:\"Dos\",\n",
    "    3:\"Tres\",\n",
    "    4:\"Cuatro\",\n",
    "    5:\"Cinco\"\n",
    "}\n",
    "\n",
    "my_dict_2 = {\n",
    "    6:\"Seis\",\n",
    "    3:\"TRES\",\n",
    "    1:\"UNO\",\n",
    "    9:\"Nueve\"\n",
    "}\n",
    "\n",
    "print(my_dict)\n",
    "print(type(my_dict))\n",
    "\n",
    "print(my_dict_2)\n",
    "print(type(my_dict_2))\n",
    "\n",
    "my_dict.update(my_dict_2)\n",
    "print(my_dict)\n",
    "print(type(my_dict))"
   ]
  },
  {
   "cell_type": "markdown",
   "id": "10d34242",
   "metadata": {},
   "source": [
    "## copy & alias"
   ]
  },
  {
   "cell_type": "code",
   "execution_count": 11,
   "id": "65bbb238",
   "metadata": {},
   "outputs": [],
   "source": [
    "laptops = {\n",
    "    \"HP\": 1234,\n",
    "    \"Apple\": 2345,\n",
    "    \"Acer\": 3456,\n",
    "    \"Lenovo\": 4567\n",
    "}\n",
    "\n",
    "alias = laptops       # no es recomendable\n",
    "copy = laptops.copy() # si es recomendable"
   ]
  },
  {
   "cell_type": "code",
   "execution_count": 12,
   "id": "16f9ac2d",
   "metadata": {},
   "outputs": [
    {
     "name": "stdout",
     "output_type": "stream",
     "text": [
      "{'HP': 1234, 'Apple': 2345, 'Acer': 3456, 'Lenovo': 4567}\n",
      "{'HP': 4321, 'Apple': 2345, 'Acer': 3456, 'Lenovo': 4567}\n",
      "{'HP': 4321, 'Apple': 2345, 'Acer': 3456, 'Lenovo': 4567}\n"
     ]
    }
   ],
   "source": [
    "# alias afecta al diccionario original\n",
    "\n",
    "print(alias)\n",
    "alias[\"HP\"] = 4321\n",
    "\n",
    "print(alias)\n",
    "print(laptops)"
   ]
  },
  {
   "cell_type": "code",
   "execution_count": 13,
   "id": "0791bbfa",
   "metadata": {},
   "outputs": [
    {
     "name": "stdout",
     "output_type": "stream",
     "text": [
      "{'HP': 4321, 'Apple': 2345, 'Acer': 3456, 'Lenovo': 4567}\n",
      "{'HP': 1234, 'Apple': 2345, 'Acer': 3456, 'Lenovo': 4567}\n"
     ]
    }
   ],
   "source": [
    "# copy mantiene los valores del diccionario original\n",
    "\n",
    "laptops = {\n",
    "    \"HP\": 1234,\n",
    "    \"Apple\": 2345,\n",
    "    \"Acer\": 3456,\n",
    "    \"Lenovo\": 4567\n",
    "}\n",
    "\n",
    "copy = laptops.copy()\n",
    "copy[\"HP\"] = 4321\n",
    "\n",
    "print(alias)\n",
    "print(laptops)"
   ]
  },
  {
   "cell_type": "markdown",
   "id": "09ab2412",
   "metadata": {},
   "source": [
    "## Obteniendo keys y values"
   ]
  },
  {
   "cell_type": "code",
   "execution_count": 15,
   "id": "4a7152eb",
   "metadata": {},
   "outputs": [],
   "source": [
    "laptops = {\n",
    "    \"HP\": 1234,\n",
    "    \"Apple\": 2345,\n",
    "    \"Acer\": 3456,\n",
    "    \"Lenovo\": 4567\n",
    "}"
   ]
  },
  {
   "cell_type": "markdown",
   "id": "96ecaa06",
   "metadata": {},
   "source": [
    "### keys"
   ]
  },
  {
   "cell_type": "code",
   "execution_count": 16,
   "id": "7e876c09",
   "metadata": {},
   "outputs": [
    {
     "name": "stdout",
     "output_type": "stream",
     "text": [
      "dict_keys(['HP', 'Apple', 'Acer', 'Lenovo'])\n"
     ]
    }
   ],
   "source": [
    "print(laptops.keys())"
   ]
  },
  {
   "cell_type": "code",
   "execution_count": 24,
   "id": "c7de4181",
   "metadata": {},
   "outputs": [
    {
     "name": "stdout",
     "output_type": "stream",
     "text": [
      "Para la llave 'HP' el valor es 1234\n",
      "Para la llave 'Apple' el valor es 2345\n",
      "Para la llave 'Acer' el valor es 3456\n",
      "Para la llave 'Lenovo' el valor es 4567\n"
     ]
    }
   ],
   "source": [
    "for key in laptops.keys():\n",
    "    print(\"Para la llave '{}' el valor es {}\".format(key, laptops[key]))"
   ]
  },
  {
   "cell_type": "markdown",
   "id": "4dce4b94",
   "metadata": {},
   "source": [
    "### values "
   ]
  },
  {
   "cell_type": "code",
   "execution_count": 25,
   "id": "f8009eb4",
   "metadata": {},
   "outputs": [
    {
     "name": "stdout",
     "output_type": "stream",
     "text": [
      "dict_values([1234, 2345, 3456, 4567])\n"
     ]
    }
   ],
   "source": [
    "print(laptops.values())"
   ]
  },
  {
   "cell_type": "code",
   "execution_count": 28,
   "id": "2cb9e4e7",
   "metadata": {},
   "outputs": [
    {
     "name": "stdout",
     "output_type": "stream",
     "text": [
      "El valor es 1234\n",
      "El valor es 2345\n",
      "El valor es 3456\n",
      "El valor es 4567\n"
     ]
    }
   ],
   "source": [
    "for value in laptops.values():\n",
    "    print(\"El valor es {}\".format(value))"
   ]
  },
  {
   "cell_type": "code",
   "execution_count": 29,
   "id": "826247a4",
   "metadata": {},
   "outputs": [
    {
     "name": "stdout",
     "output_type": "stream",
     "text": [
      "Para la llave 'HP' el valor es 1234\n",
      "Para la llave 'Apple' el valor es 2345\n",
      "Para la llave 'Acer' el valor es 3456\n",
      "Para la llave 'Lenovo' el valor es 4567\n"
     ]
    }
   ],
   "source": [
    "def get_key(d, val):\n",
    "    keys = [k for k, v in d.items() if v == val]\n",
    "    if keys:\n",
    "        return keys[0]\n",
    "    return None\n",
    "\n",
    "for value in laptops.values():\n",
    "    print(\"Para la llave '{}' el valor es {}\".format(get_key(laptops, value), value))"
   ]
  },
  {
   "cell_type": "markdown",
   "id": "df045ed2",
   "metadata": {},
   "source": [
    "## Obteniendo keys y values al mismo tiempo"
   ]
  },
  {
   "cell_type": "markdown",
   "id": "66b2aa65",
   "metadata": {},
   "source": [
    "### items"
   ]
  },
  {
   "cell_type": "code",
   "execution_count": 31,
   "id": "99b59238",
   "metadata": {},
   "outputs": [
    {
     "name": "stdout",
     "output_type": "stream",
     "text": [
      "Para la llave 'HP' el valor es 1234\n",
      "Para la llave 'Apple' el valor es 2345\n",
      "Para la llave 'Acer' el valor es 3456\n",
      "Para la llave 'Lenovo' el valor es 4567\n"
     ]
    }
   ],
   "source": [
    "for key, value in laptops.items():\n",
    "    print(\"Para la llave '{}' el valor es {}\".format(key, value))"
   ]
  },
  {
   "cell_type": "markdown",
   "id": "c6713a4a",
   "metadata": {},
   "source": [
    "## Métodos para manipulación"
   ]
  },
  {
   "cell_type": "markdown",
   "id": "8c66d234",
   "metadata": {},
   "source": [
    "### clear\n",
    "Elimina los elementos de un dict"
   ]
  },
  {
   "cell_type": "code",
   "execution_count": 33,
   "id": "abf66a32",
   "metadata": {},
   "outputs": [
    {
     "name": "stdout",
     "output_type": "stream",
     "text": [
      "{'HP': 1234, 'Apple': 2345, 'Acer': 3456, 'Lenovo': 4567}\n",
      "4\n",
      "{}\n",
      "0\n"
     ]
    }
   ],
   "source": [
    "laptops = {\n",
    "    \"HP\": 1234,\n",
    "    \"Apple\": 2345,\n",
    "    \"Acer\": 3456,\n",
    "    \"Lenovo\": 4567\n",
    "}\n",
    "\n",
    "print(laptops)\n",
    "print(len(laptops))\n",
    "      \n",
    "laptops.clear()\n",
    "print(laptops)\n",
    "print(len(laptops))"
   ]
  },
  {
   "cell_type": "markdown",
   "id": "74b56bb8",
   "metadata": {},
   "source": [
    "### copy\n",
    "Copia un dict"
   ]
  },
  {
   "cell_type": "code",
   "execution_count": 35,
   "id": "706a1d31",
   "metadata": {},
   "outputs": [
    {
     "name": "stdout",
     "output_type": "stream",
     "text": [
      "{'HP': 1234, 'Apple': 2345, 'Acer': 3456, 'Lenovo': 4567}\n",
      "4\n",
      "{'HP': 1234, 'Apple': 2345, 'Acer': 3456, 'Lenovo': 4567}\n",
      "4\n",
      "{'HP': 1234, 'Apple': 2345, 'Acer': 3456, 'Lenovo': 4567}\n",
      "4\n",
      "{}\n",
      "0\n"
     ]
    }
   ],
   "source": [
    "laptops = {\n",
    "    \"HP\": 1234,\n",
    "    \"Apple\": 2345,\n",
    "    \"Acer\": 3456,\n",
    "    \"Lenovo\": 4567\n",
    "}\n",
    "\n",
    "print(laptops)\n",
    "print(len(laptops))\n",
    "\n",
    "copy = laptops.copy()\n",
    "\n",
    "print(copy)\n",
    "print(len(copy))\n",
    "\n",
    "copy.clear()\n",
    "\n",
    "print(laptops)\n",
    "print(len(laptops))\n",
    "\n",
    "print(copy)\n",
    "print(len(copy))"
   ]
  },
  {
   "cell_type": "markdown",
   "id": "d00e22de",
   "metadata": {},
   "source": [
    "### fromkeys\n",
    "Construye un nuevo dict tomando como referencia las keys en un dict"
   ]
  },
  {
   "cell_type": "code",
   "execution_count": 38,
   "id": "5e1da0e9",
   "metadata": {},
   "outputs": [
    {
     "name": "stdout",
     "output_type": "stream",
     "text": [
      "{'HP': 'Marca de laptop', 'Apple': 'Marca de laptop', 'Acer': 'Marca de laptop', 'Lenovo': 'Marca de laptop'}\n"
     ]
    }
   ],
   "source": [
    "laptops = {\n",
    "    \"HP\": 1234,\n",
    "    \"Apple\": 2345,\n",
    "    \"Acer\": 3456,\n",
    "    \"Lenovo\": 4567\n",
    "}\n",
    "\n",
    "category = \"Marca de laptop\"\n",
    "new_dict = dict.fromkeys(laptops, category)\n",
    "\n",
    "print(new_dict)"
   ]
  },
  {
   "cell_type": "markdown",
   "id": "d6335503",
   "metadata": {},
   "source": [
    "### get\n",
    "Obtener el valor de un dict de forma segura, conla opción de configurar un valor por default"
   ]
  },
  {
   "cell_type": "code",
   "execution_count": 40,
   "id": "eb325132",
   "metadata": {},
   "outputs": [
    {
     "name": "stdout",
     "output_type": "stream",
     "text": [
      "4567\n",
      "4567\n"
     ]
    }
   ],
   "source": [
    "laptops = {\n",
    "    \"HP\": 1234,\n",
    "    \"Apple\": 2345,\n",
    "    \"Acer\": 3456,\n",
    "    \"Lenovo\": 4567\n",
    "}\n",
    "\n",
    "print(laptops[\"Lenovo\"])\n",
    "print(laptops.get(\"Lenovo\"))"
   ]
  },
  {
   "cell_type": "code",
   "execution_count": 41,
   "id": "b88f9d1a",
   "metadata": {},
   "outputs": [
    {
     "ename": "KeyError",
     "evalue": "'Asus'",
     "output_type": "error",
     "traceback": [
      "\u001b[0;31m---------------------------------------------------------------------------\u001b[0m",
      "\u001b[0;31mKeyError\u001b[0m                                  Traceback (most recent call last)",
      "Cell \u001b[0;32mIn[41], line 2\u001b[0m\n\u001b[1;32m      1\u001b[0m \u001b[38;5;66;03m# Forma insegura\u001b[39;00m\n\u001b[0;32m----> 2\u001b[0m \u001b[38;5;28mprint\u001b[39m(laptops[\u001b[38;5;124m\"\u001b[39m\u001b[38;5;124mAsus\u001b[39m\u001b[38;5;124m\"\u001b[39m])\n",
      "\u001b[0;31mKeyError\u001b[0m: 'Asus'"
     ]
    }
   ],
   "source": [
    "# Forma insegura\n",
    "print(laptops[\"Asus\"])"
   ]
  },
  {
   "cell_type": "code",
   "execution_count": 42,
   "id": "571cd5d1",
   "metadata": {},
   "outputs": [
    {
     "name": "stdout",
     "output_type": "stream",
     "text": [
      "None\n"
     ]
    }
   ],
   "source": [
    "# Forma segura\n",
    "print(laptops.get(\"Asus\"))"
   ]
  },
  {
   "cell_type": "code",
   "execution_count": 44,
   "id": "19e5ab31",
   "metadata": {},
   "outputs": [
    {
     "name": "stdout",
     "output_type": "stream",
     "text": [
      "0\n",
      "No disponible\n"
     ]
    }
   ],
   "source": [
    "# Forma segura y configurando valor por default\n",
    "print(laptops.get(\"Asus\",0))\n",
    "print(laptops.get(\"Asus\",\"No disponible\"))"
   ]
  },
  {
   "cell_type": "code",
   "execution_count": 45,
   "id": "b97553c4",
   "metadata": {},
   "outputs": [
    {
     "name": "stdout",
     "output_type": "stream",
     "text": [
      "4567\n",
      "4567\n"
     ]
    }
   ],
   "source": [
    "print(laptops.get(\"Lenovo\",0))\n",
    "print(laptops.get(\"Lenovo\",\"No disponible\"))"
   ]
  },
  {
   "cell_type": "markdown",
   "id": "481f08a5",
   "metadata": {},
   "source": [
    "### items\n",
    "Obtener cada llave y valor en el diccionario de forma simultánea"
   ]
  },
  {
   "cell_type": "code",
   "execution_count": 46,
   "id": "d8332ab2",
   "metadata": {},
   "outputs": [
    {
     "name": "stdout",
     "output_type": "stream",
     "text": [
      "Para la llave 'HP' el valor es 1234\n",
      "Para la llave 'Apple' el valor es 2345\n",
      "Para la llave 'Acer' el valor es 3456\n",
      "Para la llave 'Lenovo' el valor es 4567\n"
     ]
    }
   ],
   "source": [
    "laptops = {\n",
    "    \"HP\": 1234,\n",
    "    \"Apple\": 2345,\n",
    "    \"Acer\": 3456,\n",
    "    \"Lenovo\": 4567\n",
    "}\n",
    "\n",
    "for key, value in laptops.items():\n",
    "    print(\"Para la llave '{}' el valor es {}\".format(key, value))"
   ]
  },
  {
   "cell_type": "markdown",
   "id": "09a351f5",
   "metadata": {},
   "source": [
    "### keys\n",
    "Obtener las llaves de un diccionario"
   ]
  },
  {
   "cell_type": "code",
   "execution_count": 48,
   "id": "658b7883",
   "metadata": {},
   "outputs": [
    {
     "name": "stdout",
     "output_type": "stream",
     "text": [
      "Para la llave 'HP' el valor es 1234\n",
      "Para la llave 'Apple' el valor es 2345\n",
      "Para la llave 'Acer' el valor es 3456\n",
      "Para la llave 'Lenovo' el valor es 4567\n"
     ]
    }
   ],
   "source": [
    "laptops = {\n",
    "    \"HP\": 1234,\n",
    "    \"Apple\": 2345,\n",
    "    \"Acer\": 3456,\n",
    "    \"Lenovo\": 4567\n",
    "}\n",
    "\n",
    "for key, value in laptops.items():\n",
    "    print(\"Para la llave '{}' el valor es {}\".format(key, value))"
   ]
  },
  {
   "cell_type": "markdown",
   "id": "0f2747b2",
   "metadata": {},
   "source": [
    "### values\n",
    "Obtener los valores de un dict"
   ]
  },
  {
   "cell_type": "code",
   "execution_count": 51,
   "id": "a264ba6d",
   "metadata": {},
   "outputs": [
    {
     "ename": "AttributeError",
     "evalue": "'dict' object has no attribute 'value'",
     "output_type": "error",
     "traceback": [
      "\u001b[0;31m---------------------------------------------------------------------------\u001b[0m",
      "\u001b[0;31mAttributeError\u001b[0m                            Traceback (most recent call last)",
      "Cell \u001b[0;32mIn[51], line 8\u001b[0m\n\u001b[1;32m      1\u001b[0m laptops \u001b[38;5;241m=\u001b[39m {\n\u001b[1;32m      2\u001b[0m     \u001b[38;5;124m\"\u001b[39m\u001b[38;5;124mHP\u001b[39m\u001b[38;5;124m\"\u001b[39m: \u001b[38;5;241m1234\u001b[39m,\n\u001b[1;32m      3\u001b[0m     \u001b[38;5;124m\"\u001b[39m\u001b[38;5;124mApple\u001b[39m\u001b[38;5;124m\"\u001b[39m: \u001b[38;5;241m2345\u001b[39m,\n\u001b[1;32m      4\u001b[0m     \u001b[38;5;124m\"\u001b[39m\u001b[38;5;124mAcer\u001b[39m\u001b[38;5;124m\"\u001b[39m: \u001b[38;5;241m3456\u001b[39m,\n\u001b[1;32m      5\u001b[0m     \u001b[38;5;124m\"\u001b[39m\u001b[38;5;124mLenovo\u001b[39m\u001b[38;5;124m\"\u001b[39m: \u001b[38;5;241m4567\u001b[39m\n\u001b[1;32m      6\u001b[0m }\n\u001b[0;32m----> 8\u001b[0m \u001b[38;5;28;01mfor\u001b[39;00m value \u001b[38;5;129;01min\u001b[39;00m laptops\u001b[38;5;241m.\u001b[39mvalue():\n\u001b[1;32m      9\u001b[0m     \u001b[38;5;28mprint\u001b[39m(\u001b[38;5;124m\"\u001b[39m\u001b[38;5;124mel valor es \u001b[39m\u001b[38;5;124m'\u001b[39m\u001b[38;5;132;01m{}\u001b[39;00m\u001b[38;5;124m'\u001b[39m\u001b[38;5;124m\"\u001b[39m\u001b[38;5;241m.\u001b[39mformat(value))\n",
      "\u001b[0;31mAttributeError\u001b[0m: 'dict' object has no attribute 'value'"
     ]
    }
   ],
   "source": [
    "laptops = {\n",
    "    \"HP\": 1234,\n",
    "    \"Apple\": 2345,\n",
    "    \"Acer\": 3456,\n",
    "    \"Lenovo\": 4567\n",
    "}\n",
    "\n",
    "for value in laptops.value():\n",
    "    print(\"el valor es '{}'\".format(value))"
   ]
  },
  {
   "cell_type": "markdown",
   "id": "4afb5f9b",
   "metadata": {},
   "source": [
    "### pop\n",
    "Elimila la llave y valor de un dict pasando la llave como parámetro"
   ]
  },
  {
   "cell_type": "code",
   "execution_count": 52,
   "id": "e0368a4e",
   "metadata": {},
   "outputs": [
    {
     "name": "stdout",
     "output_type": "stream",
     "text": [
      "{'HP': 1234, 'Apple': 2345, 'Acer': 3456, 'Lenovo': 4567}\n",
      "4\n",
      "{'HP': 1234, 'Apple': 2345, 'Acer': 3456}\n",
      "3\n"
     ]
    }
   ],
   "source": [
    "laptops = {\n",
    "    \"HP\": 1234,\n",
    "    \"Apple\": 2345,\n",
    "    \"Acer\": 3456,\n",
    "    \"Lenovo\": 4567\n",
    "}\n",
    "\n",
    "print(laptops)\n",
    "print(len(laptops))\n",
    "\n",
    "laptops.pop(\"Lenovo\")\n",
    "print(laptops)\n",
    "print(len(laptops))"
   ]
  },
  {
   "cell_type": "code",
   "execution_count": 53,
   "id": "7e8a3b7a",
   "metadata": {},
   "outputs": [
    {
     "ename": "KeyError",
     "evalue": "'Asus'",
     "output_type": "error",
     "traceback": [
      "\u001b[0;31m---------------------------------------------------------------------------\u001b[0m",
      "\u001b[0;31mKeyError\u001b[0m                                  Traceback (most recent call last)",
      "Cell \u001b[0;32mIn[53], line 1\u001b[0m\n\u001b[0;32m----> 1\u001b[0m laptops\u001b[38;5;241m.\u001b[39mpop(\u001b[38;5;124m\"\u001b[39m\u001b[38;5;124mAsus\u001b[39m\u001b[38;5;124m\"\u001b[39m)\n\u001b[1;32m      2\u001b[0m \u001b[38;5;28mprint\u001b[39m(laptops)\n\u001b[1;32m      3\u001b[0m \u001b[38;5;28mprint\u001b[39m(\u001b[38;5;28mlen\u001b[39m(laptops))\n",
      "\u001b[0;31mKeyError\u001b[0m: 'Asus'"
     ]
    }
   ],
   "source": [
    "laptops.pop(\"Asus\")\n",
    "print(laptops)\n",
    "print(len(laptops))"
   ]
  },
  {
   "cell_type": "code",
   "execution_count": 55,
   "id": "6fd84918",
   "metadata": {},
   "outputs": [
    {
     "name": "stdout",
     "output_type": "stream",
     "text": [
      "{'HP': 1234, 'Apple': 2345, 'Acer': 3456}\n",
      "3\n",
      "La llave Asus no está en el diccionario\n"
     ]
    }
   ],
   "source": [
    "print(laptops)\n",
    "print(len(laptops))\n",
    "\n",
    "if \"Asus\" in laptops.keys():\n",
    "    laptops.pop(\"Asus\")\n",
    "    print(laptops)\n",
    "    print(len(laptops))\n",
    "else :\n",
    "    print(\"La llave Asus no está en el diccionario\")"
   ]
  },
  {
   "cell_type": "markdown",
   "id": "953fc10a",
   "metadata": {},
   "source": [
    "### popitem\n",
    "Eliina el índice -1 (último elemento llave-valor)"
   ]
  },
  {
   "cell_type": "code",
   "execution_count": 57,
   "id": "c74be75c",
   "metadata": {},
   "outputs": [
    {
     "name": "stdout",
     "output_type": "stream",
     "text": [
      "{'HP': 1234, 'Apple': 2345, 'Acer': 3456, 'Lenovo': 4567}\n",
      "4\n",
      "{'HP': 1234, 'Apple': 2345, 'Acer': 3456}\n",
      "3\n",
      "{'HP': 1234, 'Apple': 2345}\n",
      "2\n"
     ]
    }
   ],
   "source": [
    "laptops = {\n",
    "    \"HP\": 1234,\n",
    "    \"Apple\": 2345,\n",
    "    \"Acer\": 3456,\n",
    "    \"Lenovo\": 4567\n",
    "}\n",
    "\n",
    "print(laptops)\n",
    "print(len(laptops))\n",
    "\n",
    "laptops.popitem()\n",
    "print(laptops)\n",
    "print(len(laptops))\n",
    "\n",
    "laptops.popitem()\n",
    "print(laptops)\n",
    "print(len(laptops))"
   ]
  },
  {
   "cell_type": "markdown",
   "id": "cf61c4cc",
   "metadata": {},
   "source": [
    "### setdefault\n",
    "Configura un valor por default para cierta llave en caso de que no esté presente - si está presente no tendrá efecto"
   ]
  },
  {
   "cell_type": "code",
   "execution_count": 58,
   "id": "a9356b0a",
   "metadata": {},
   "outputs": [
    {
     "name": "stdout",
     "output_type": "stream",
     "text": [
      "1234\n",
      "1432\n"
     ]
    }
   ],
   "source": [
    "laptops_store_1 = {\n",
    "    \"HP\": 1234,\n",
    "    \"Apple\": 2345,\n",
    "    \"Acer\": 3456,\n",
    "    \"Lenovo\": 4567\n",
    "}\n",
    "\n",
    "laptops_store_2 = {\n",
    "    \"Apple\": 2345,\n",
    "    \"Acer\": 3456,\n",
    "    \"Lenovo\": 4567\n",
    "}\n",
    "\n",
    "laptops_store_1.setdefault(\"HP\", 1432)\n",
    "laptops_store_2.setdefault(\"HP\", 1432)\n",
    "\n",
    "print(laptops_store_1.get(\"HP\"))\n",
    "print(laptops_store_2.get(\"HP\"))"
   ]
  },
  {
   "cell_type": "code",
   "execution_count": null,
   "id": "8bfcc549",
   "metadata": {},
   "outputs": [],
   "source": []
  }
 ],
 "metadata": {
  "kernelspec": {
   "display_name": "Python 3 (ipykernel)",
   "language": "python",
   "name": "python3"
  },
  "language_info": {
   "codemirror_mode": {
    "name": "ipython",
    "version": 3
   },
   "file_extension": ".py",
   "mimetype": "text/x-python",
   "name": "python",
   "nbconvert_exporter": "python",
   "pygments_lexer": "ipython3",
   "version": "3.11.5"
  }
 },
 "nbformat": 4,
 "nbformat_minor": 5
}

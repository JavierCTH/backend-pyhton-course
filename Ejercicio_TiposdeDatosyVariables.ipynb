{
 "cells": [
  {
   "cell_type": "markdown",
   "id": "0b4f37d8",
   "metadata": {},
   "source": [
    "# Actividad 3 - Calculadora"
   ]
  },
  {
   "cell_type": "code",
   "execution_count": 1,
   "id": "51aa49c3",
   "metadata": {},
   "outputs": [
    {
     "name": "stdout",
     "output_type": "stream",
     "text": [
      "Escriba el primer número: 3\n",
      "Escriba el segundo número: 4\n",
      "La suma es:  7\n",
      "La resta es:  -1\n",
      "La multiplicación es:  12\n",
      "La división es:  0.75\n",
      "La potencia es:  81\n"
     ]
    }
   ],
   "source": [
    "# Operaciones\n",
    "\n",
    "def sumar(n1,n2):\n",
    "    suma=n1+n2\n",
    "    print(\"La suma es: \",suma)\n",
    "\n",
    "def restar(n1,n2):\n",
    "    resta = n1 - n2\n",
    "    print(\"La resta es: \",resta)\n",
    "\n",
    "def multiplicar(n1,n2):\n",
    "    multiplicacion = n1 * n2\n",
    "    print(\"La multiplicación es: \",multiplicacion)\n",
    "\n",
    "def dividir(n1,n2):\n",
    "    division = n1 / n2\n",
    "    print(\"La división es: \",division)\n",
    "    \n",
    "def potencia(n1,n2):\n",
    "    potencia = n1 ** n2\n",
    "    print(\"La potencia es: \",potencia)\n",
    "\n",
    "# Variables\n",
    "\n",
    "n1 = int(input(\"Escriba el primer número: \"))\n",
    "n2 = int(input(\"Escriba el segundo número: \"))\n",
    "\n",
    "# Resultados\n",
    "\n",
    "sumar(n1,n2)\n",
    "restar(n1,n2)\n",
    "multiplicar(n1,n2)\n",
    "dividir(n1,n2)\n",
    "potencia(n1,n2)"
   ]
  },
  {
   "cell_type": "code",
   "execution_count": 1,
   "id": "fe557658",
   "metadata": {},
   "outputs": [
    {
     "name": "stdout",
     "output_type": "stream",
     "text": [
      "Escriba el primer número a sumar: 1\n",
      "Escriba el segundo número a sumar: 2\n",
      "La suma es:  3\n",
      "Escriba el minuendo: 4\n",
      "Escriba el sustraendo: 2\n",
      "La resta es:  2\n",
      "Escriba el multiplicando: 4\n",
      "Escriba el multiplicador: 6\n",
      "La multiplicación es:  24\n",
      "Escriba el dividendo: 9\n",
      "Escriba el divisor: 3\n",
      "La división es:  3.0\n",
      "Escriba la base: 4\n",
      "Escriba el exponente: 3\n",
      "La potencia es:  64\n"
     ]
    }
   ],
   "source": [
    "# Operaciones\n",
    "\n",
    "def sumar(n1,n2):\n",
    "    suma=n1+n2\n",
    "    print(\"La suma es: \",suma)\n",
    "\n",
    "def restar(n1,n2):\n",
    "    resta = n1 - n2\n",
    "    print(\"La resta es: \",resta)\n",
    "\n",
    "def multiplicar(n1,n2):\n",
    "    multiplicacion = n1 * n2\n",
    "    print(\"La multiplicación es: \",multiplicacion)\n",
    "\n",
    "def dividir(n1,n2):\n",
    "    division = n1 / n2\n",
    "    print(\"La división es: \",division)\n",
    "    \n",
    "def potencia(n1,n2):\n",
    "    potencia = n1 ** n2\n",
    "    print(\"La potencia es: \",potencia)\n",
    "\n",
    "# Variables y Resultados\n",
    "\n",
    "n1 = int(input(\"Escriba el primer número a sumar: \"))\n",
    "n2 = int(input(\"Escriba el segundo número a sumar: \"))\n",
    "sumar(n1,n2)\n",
    "\n",
    "n1 = int(input(\"Escriba el minuendo: \"))\n",
    "n2 = int(input(\"Escriba el sustraendo: \"))\n",
    "restar(n1,n2)\n",
    "\n",
    "n1 = int(input(\"Escriba el multiplicando: \"))\n",
    "n2 = int(input(\"Escriba el multiplicador: \"))\n",
    "multiplicar(n1,n2)\n",
    "\n",
    "n1 = int(input(\"Escriba el dividendo: \"))\n",
    "n2 = int(input(\"Escriba el divisor: \"))\n",
    "dividir(n1,n2)\n",
    "\n",
    "n1 = int(input(\"Escriba la base: \"))\n",
    "n2 = int(input(\"Escriba el exponente: \"))\n",
    "potencia(n1,n2)"
   ]
  },
  {
   "cell_type": "code",
   "execution_count": null,
   "id": "537a566d",
   "metadata": {},
   "outputs": [],
   "source": []
  }
 ],
 "metadata": {
  "kernelspec": {
   "display_name": "Python 3 (ipykernel)",
   "language": "python",
   "name": "python3"
  },
  "language_info": {
   "codemirror_mode": {
    "name": "ipython",
    "version": 3
   },
   "file_extension": ".py",
   "mimetype": "text/x-python",
   "name": "python",
   "nbconvert_exporter": "python",
   "pygments_lexer": "ipython3",
   "version": "3.11.5"
  }
 },
 "nbformat": 4,
 "nbformat_minor": 5
}

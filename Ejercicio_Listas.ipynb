{
 "cells": [
  {
   "cell_type": "code",
   "execution_count": 1,
   "id": "19fadb39",
   "metadata": {},
   "outputs": [
    {
     "name": "stdout",
     "output_type": "stream",
     "text": [
      "CARRITO DE COMPRAS\n",
      "\n",
      "\n",
      "Productos Disponibles:\n",
      "\n",
      "1/ Alcachofa\n",
      "2/ Baguette\n",
      "3/ Leche\n",
      "4/ Aceite \n",
      "5/ Zanahoria\n",
      "6/ Jitomate\n",
      "7/ Queso\n",
      "8/ Jamón\n",
      "\n",
      "Ingresa una lista con los productos en este formato: [[Cantidad,Producto]]\n",
      "Por ejemplo: [[1,1], [3,2]] significa 1 Pan y 3 Jamón\n",
      "[[4,1], [3,2], [1.5,6], [1,7], [2,3]]\n",
      "\n",
      "\n",
      "Tu carrito es:\n",
      "4 Alcachofa\n",
      "3 Baguette\n",
      "1.5 Jitomate\n",
      "1 Queso\n",
      "2 Leche\n"
     ]
    }
   ],
   "source": [
    "print(\"CARRITO DE COMPRAS\\n\")\n",
    "\n",
    "print(\"\"\"\n",
    "Productos Disponibles:\n",
    "\n",
    "1/ Alcachofa\n",
    "2/ Baguette\n",
    "3/ Leche\n",
    "4/ Aceite \n",
    "5/ Zanahoria\n",
    "6/ Jitomate\n",
    "7/ Queso\n",
    "8/ Jamón\n",
    "\"\"\")\n",
    "\n",
    "print(\"Ingresa una lista con los productos en este formato: [[Cantidad,Producto]]\")\n",
    "print(\"Por ejemplo: [[1,1], [3,2]] significa 1 Pan y 3 Jamón\" )\n",
    "\n",
    "my_shopping_cart = eval(input())\n",
    "\n",
    "print(\"\\n\\nTu carrito es:\")\n",
    "if type(my_shopping_cart) == list:\n",
    "    if type(my_shopping_cart[0]) == list:\n",
    "        for element in my_shopping_cart:\n",
    "            product = \"\"\n",
    "            if element[1] == 1:\n",
    "                product = \"Alcachofa\"\n",
    "            if element[1] == 2:\n",
    "                product = \"Baguette\"\n",
    "            if element[1] == 3:\n",
    "                product = \"Leche\"\n",
    "            if element[1] == 4:\n",
    "                product = \"Aceite\"\n",
    "            if element[1] == 5:\n",
    "                product = \"Zanahoria\"\n",
    "            if element[1] == 6:\n",
    "                product = \"Jitomate\"\n",
    "            if element[1] == 7:\n",
    "                product = \"Queso\"\n",
    "            if element[1] == 8:\n",
    "                product = \"Jamón\"\n",
    "            \n",
    "            print(\"{} {}\".format(element[0], product))\n",
    "    else:\n",
    "        print(\"Formato incorrecto, debes ingresar una lista de listas\")\n",
    "else:\n",
    "    print(\"Formato incorrecto, debes ingresar una lista de listas\")"
   ]
  },
  {
   "cell_type": "code",
   "execution_count": null,
   "id": "0bd17c2b",
   "metadata": {},
   "outputs": [],
   "source": []
  }
 ],
 "metadata": {
  "kernelspec": {
   "display_name": "Python 3 (ipykernel)",
   "language": "python",
   "name": "python3"
  },
  "language_info": {
   "codemirror_mode": {
    "name": "ipython",
    "version": 3
   },
   "file_extension": ".py",
   "mimetype": "text/x-python",
   "name": "python",
   "nbconvert_exporter": "python",
   "pygments_lexer": "ipython3",
   "version": "3.11.5"
  }
 },
 "nbformat": 4,
 "nbformat_minor": 5
}

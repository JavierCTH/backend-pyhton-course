{
 "cells": [
  {
   "cell_type": "code",
   "execution_count": 6,
   "id": "06f15f7c",
   "metadata": {},
   "outputs": [
    {
     "name": "stdout",
     "output_type": "stream",
     "text": [
      "{'3B33', 'B000', 'B7BB', '1D11', 'D33D', '8A88', '9C9C', 'B9BB', 'C0CC', 'CCC7', 'D6D6', 'D2DD', 'B0BB', '888A', '000D', 'C000', '4C4C', 'C8CC', 'A222', 'B55B', 'CCC1', 'D7DD', '8B8B', 'DD2D', '6D6D', '111B', 'D5D5', 'CC8C', 'B3BB', 'CC1C', 'BB7B', '8D8D', '000B', '11A1', '11C1', 'D00D', '9D99', 'D9D9', 'B1BB', 'BB4B', '00C0', '3C3C', '7D77', 'B999', 'BB6B', '6A6A', '1D1D', 'A666', '88B8', '1B11', 'CC0C', 'BBB6', 'A44A', 'A88A', 'BB1B', '4444', 'BBB8', '55B5', 'A444', 'B4B4', 'A8A8', '0B00', '777C', 'C3C3', 'D4DD', 'DDD5', '999C', 'B33B', 'AA8A', '777B', '6B66', 'DDD4', 'D9DD', 'DDD0', 'A2A2', 'D99D', '44C4', 'A555', '33C3', 'C2C2', 'C999', '1111', '5B5B', 'AA9A', '333C', '22D2', 'A2AA', 'D22D', '4A4A', 'AAAA', '1C11', '7777', 'D777', 'D000', '0D0D', '111A', 'DDD8', 'AAA3', 'B22B', 'C22C', '999D', 'A3AA', 'C6C6', 'B777', '77D7', 'CC9C', 'A6A6', '888D', 'DDD9', 'D0D0', '5D5D', '77A7', '9A9A', '4D4D', 'DDD1', '111D', 'BBB9', '4B4B', '11B1', 'CCC4', '3D33', 'CC3C', '0B0B', 'D5DD', 'A77A', '8C88', '5555', '555A', 'AA7A', '77B7', '444C', 'B6BB', '666D', '6C66', '666B', 'CCC2', 'D88D', '99D9', 'B2B2', '3A3A', 'C4C4', '2C2C', 'B111', '6B6B', 'D7D7', 'B11B', 'C33C', 'AA6A', 'DDDD', 'CC2C', 'CC7C', '33B3', 'C9CC', 'B444', 'B88B', '00B0', 'DDD7', 'AAA9', 'D8DD', 'A8AA', '9B9B', 'A00A', '55A5', '8C8C', 'BB2B', 'D8D8', '999A', '33A3', 'AAA0', 'CCC0', 'BB0B', '4A44', '888C', '555C', 'D333', '88A8', 'C3CC', '222B', 'B7B7', 'B44B', 'D66D', 'CCC3', '00A0', 'A0A0', 'BBB1', 'BB9B', 'C7C7', '777A', '3A33', '5C5C', 'DD9D', '3B3B', '2B2B', '444A', '6C6C', 'C555', 'D111', 'B555', '66D6', 'B9B9', 'C777', 'A22A', '5C55', '77C7', '7D7D', 'C8C8', 'A4A4', 'CC6C', 'AAA6', 'A000', 'D0DD', 'A33A', 'DD0D', 'D222', 'B77B', 'C6CC', '999B', '222D', 'AA2A', '6666', 'AA4A', 'B0B0', 'A1A1', 'C5C5', 'C44C', '1A11', 'C1CC', 'C11C', 'DDD3', '4C44', 'BBB7', '8D88', '0C00', 'B5BB', 'B8B8', '9C99', 'CCC6', 'A7AA', 'BBB4', 'B1B1', '0A00', '55C5', 'D1D1', 'A7A7', 'B888', 'D3D3', 'AAA8', '88D8', '5B55', 'C111', '7C7C', 'A888', '1C1C', 'DDD6', '9999', 'A6AA', 'BBB0', 'D55D', 'C66C', '66A6', '222C', 'BB8B', 'C88C', '6D66', '0A0A', '66B6', '7C77', '2A22', 'BBBB', 'A99A', '3333', 'A55A', 'B6B6', '4D44', 'DD5D', 'D6DD', 'AA5A', 'CCC8', '8A8A', 'AA0A', '2C22', 'C666', 'CCC5', 'A999', '22A2', 'B666', '333D', '000C', 'C99C', 'D666', 'DD4D', '88C8', '6A66', 'D888', 'DD8D', 'AAA1', '22B2', 'C444', 'A777', '888B', 'AAA4', 'DD1D', '444D', 'CCC9', '2B22', 'C55C', 'C333', '99A9', '33D3', 'DD6D', '55D5', 'DD7D', 'D4D4', 'C77C', 'AAA2', '4B44', '7B7B', '2222', '0C0C', 'C4CC', '3C33', 'BB5B', 'A3A3', '777D', 'B99B', 'A9A9', 'CCCC', 'B2BB', '2D22', 'DDD2', 'A0AA', 'A5A5', 'A9AA', '333A', '00D0', 'D1DD', '000A', '5A5A', 'D444', 'C222', '7A77', 'CC4C', 'A111', '111C', '44B4', 'D44D', 'A333', 'C0C0', 'C2CC', 'B4BB', '7B77', 'B333', 'D999', 'A5AA', '8B88', 'A11A', 'C7CC', 'B00B', '44A4', 'D555', 'D3DD', 'B3B3', 'B222', 'D77D', 'C9C9', 'A66A', 'A4AA', 'CC5C', 'B66B', 'B8BB', 'BB3B', '11D1', '333B', '5A55', '99B9', 'C1C1', '666A', '9B99', 'C00C', 'AA1A', '8888', '9D9D', 'DD3D', 'AAA7', 'A1AA', 'C888', '0000', '444B', '1B1B', '44D4', '5D55', '2D2D', '555B', 'C5CC', '2A2A', '0D00', '3D3D', 'B5B5', '7A7A', '22C2', 'BBB5', 'D11D', '666C', 'BBB2', '9A99', 'AAA5', '1A1A', 'D2D2', '555D', '222A', 'BBB3', 'AA3A', '66C6', '99C9'}\n"
     ]
    }
   ],
   "source": [
    "numbers = ['0', '1', '2', '3', '4', '5', '6', '7', '8', '9']\n",
    "letters = ['A', 'B', 'C', 'D']\n",
    "\n",
    "unique_combinations = set()\n",
    "for number in numbers:\n",
    "    for letter in letters:\n",
    "        unique_combinations.add(\"{}{}{}{}\".format(number,number,number,number))\n",
    "        unique_combinations.add(\"{}{}{}{}\".format(number,number,number,letter))\n",
    "        unique_combinations.add(\"{}{}{}{}\".format(number,number,letter,number))\n",
    "        unique_combinations.add(\"{}{}{}{}\".format(number,letter,number,number))\n",
    "        unique_combinations.add(\"{}{}{}{}\".format(letter,number,number,number))\n",
    "        unique_combinations.add(\"{}{}{}{}\".format(letter,letter,letter,number))\n",
    "        unique_combinations.add(\"{}{}{}{}\".format(letter,letter,number,letter))\n",
    "        unique_combinations.add(\"{}{}{}{}\".format(letter,number,letter,letter))\n",
    "        unique_combinations.add(\"{}{}{}{}\".format(letter,letter,letter,letter))\n",
    "        unique_combinations.add(\"{}{}{}{}\".format(letter,number,number,letter))\n",
    "        unique_combinations.add(\"{}{}{}{}\".format(letter,number,letter,number))\n",
    "        unique_combinations.add(\"{}{}{}{}\".format(number,letter,number,letter))\n",
    "\n",
    "print(unique_combinations)"
   ]
  },
  {
   "cell_type": "code",
   "execution_count": null,
   "id": "4817c249",
   "metadata": {},
   "outputs": [],
   "source": []
  }
 ],
 "metadata": {
  "kernelspec": {
   "display_name": "Python 3 (ipykernel)",
   "language": "python",
   "name": "python3"
  },
  "language_info": {
   "codemirror_mode": {
    "name": "ipython",
    "version": 3
   },
   "file_extension": ".py",
   "mimetype": "text/x-python",
   "name": "python",
   "nbconvert_exporter": "python",
   "pygments_lexer": "ipython3",
   "version": "3.11.5"
  }
 },
 "nbformat": 4,
 "nbformat_minor": 5
}

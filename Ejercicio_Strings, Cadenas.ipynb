{
 "cells": [
  {
   "cell_type": "code",
   "execution_count": 28,
   "id": "1db08415",
   "metadata": {},
   "outputs": [
    {
     "name": "stdout",
     "output_type": "stream",
     "text": [
      "Líneas escritas: \n",
      "\n",
      "Linea 1:\n",
      " La alarma suena, irrumpiendo en mi placentero sueño y anunciando el inicio de un nuevo y maravilloso día. Con pereza y algo de desánimo, me levanto de la cama, deseando continuar en el mundo de los sueños. Un desayuno regular y sin entusiasmo me prepara para enfrentar la jornada.\n",
      "Linea 2:\n",
      " Llego al trabajo y me encuentro con una montaña de tareas espantosas que me esperan. La cantidad de responsabilidades y el poco tiempo que tengo para completarlas me abruman, generando una sensación de agobio y confusión. Asisto a una reunión aburrida donde se discuten temas que me parecen irrelevantes, perdiendo la concentración y sintiendo desinterés y fastidio.\n",
      "Linea 3:\n",
      " Un almuerzo ligero y saludable me ayuda a recuperar un poco de energía. Disfruto de la compañía de mis compañeros y la conversación amena, lo que me brinda un momento de tranquilidad y satisfacción. El trabajo en un proyecto creativo que me apasiona me llena de emoción e inspiración. Las ideas fluyen y siento una gran satisfacción por lo que estoy logrando.\n",
      "Linea 4:\n",
      " Recibo una llamada inesperada que me trae noticias preocupantes. El miedo y la sorpresa se apoderan de mí, generándome ansiedad e incertidumbre sobre el futuro. Tomo un tiempo para hacer ejercicio y liberar el estrés acumulado durante el día. Me siento renovado y con más vitalidad.\n",
      "Linea 5:\n",
      " Disfruto de una cena deliciosa en compañía de mi familia y amigos. La conversación es agradable y me siento rodeado de amor y apoyo, lo que me brinda una sensación de placer y relajación. Antes de acostarme, dedico unos minutos a reflexionar sobre el día. Agradezco las cosas buenas que han pasado y tomo nota de los aspectos que puedo mejorar para el futuro.\n",
      "Linea 6:\n",
      " Lamentablemente, tengo una pesadilla que me despierta sobresaltado. Me siento agitado y con el corazón acelerado, dominado por el miedo y la ansiedad. Finalmente, logro conciliar el sueño y duermo profundamente hasta la mañana siguiente. Me siento descansado y listo para afrontar un nuevo día, con la esperanza de que esté lleno de emociones positivas y experiencias gratificantes.\n",
      "\n",
      "La cantidad de caracteres en tu texto es:  2033\n",
      "\n",
      "Score: 1\n",
      "Resultado: Positivo\n"
     ]
    }
   ],
   "source": [
    "reseña = \"\"\"La alarma suena, irrumpiendo en mi placentero sueño y anunciando el inicio de un nuevo y maravilloso día. Con pereza y algo de desánimo, me levanto de la cama, deseando continuar en el mundo de los sueños. Un desayuno regular y sin entusiasmo me prepara para enfrentar la jornada.\n",
    "Llego al trabajo y me encuentro con una montaña de tareas espantosas que me esperan. La cantidad de responsabilidades y el poco tiempo que tengo para completarlas me abruman, generando una sensación de agobio y confusión. Asisto a una reunión aburrida donde se discuten temas que me parecen irrelevantes, perdiendo la concentración y sintiendo desinterés y fastidio.\n",
    "Un almuerzo ligero y saludable me ayuda a recuperar un poco de energía. Disfruto de la compañía de mis compañeros y la conversación amena, lo que me brinda un momento de tranquilidad y satisfacción. El trabajo en un proyecto creativo que me apasiona me llena de emoción e inspiración. Las ideas fluyen y siento una gran satisfacción por lo que estoy logrando.\n",
    "Recibo una llamada inesperada que me trae noticias preocupantes. El miedo y la sorpresa se apoderan de mí, generándome ansiedad e incertidumbre sobre el futuro. Tomo un tiempo para hacer ejercicio y liberar el estrés acumulado durante el día. Me siento renovado y con más vitalidad.\n",
    "Disfruto de una cena deliciosa en compañía de mi familia y amigos. La conversación es agradable y me siento rodeado de amor y apoyo, lo que me brinda una sensación de placer y relajación. Antes de acostarme, dedico unos minutos a reflexionar sobre el día. Agradezco las cosas buenas que han pasado y tomo nota de los aspectos que puedo mejorar para el futuro.\n",
    "Lamentablemente, tengo una pesadilla que me despierta sobresaltado. Me siento agitado y con el corazón acelerado, dominado por el miedo y la ansiedad. Finalmente, logro conciliar el sueño y duermo profundamente hasta la mañana siguiente. Me siento descansado y listo para afrontar un nuevo día, con la esperanza de que esté lleno de emociones positivas y experiencias gratificantes.\"\"\"\n",
    "\n",
    "positive_words = [\"impecable\", \"impresionado\", \"maravilloso\", \"placentero\", \"saludable\", \"energía\", \"disfruto\", \"amena\", \"satisfacción\", \"apasiona\", \"emoción\", \"inspiración\", \"positivas\", \"gratificantes\"]\n",
    "neutral_words = [\"regular\", \"normal\", \"aburrida\", \"irrelevantes\", \"desinterés\", \"confusión\", \"ligero\", \"tranquilidad\", \"incertidumbre\"]\n",
    "negative_words = [\"malo\", \"horrible\", \"desánimo\", \"pereza\", \"espantosas\", \"agobio\", \"fastidio\", \"miedo\", \"pesadilla\", \"agitado\", \"ansiedad\"]\n",
    "\n",
    "score = 0\n",
    "for positive_word in positive_words:\n",
    "    score = score + reseña.count(positive_word)\n",
    "    \n",
    "for negative_word in negative_words:\n",
    "    score = score - reseña.count(negative_word)\n",
    "    \n",
    "if score == 0:\n",
    "    result = \"Neutro\"\n",
    "if score > 0:\n",
    "    result = \"Positivo\"\n",
    "if score < 0:\n",
    "    result = \"Negativo\"\n",
    "    \n",
    "# Split\n",
    "\n",
    "linea1, linea2, linea3, linea4, linea5, linea6 = reseña.split(\"\\n\")\n",
    "print(\"Líneas escritas: \\n\")\n",
    "print(\"Linea 1:\\n\",linea1)\n",
    "print(\"Linea 2:\\n\",linea2)\n",
    "print(\"Linea 3:\\n\",linea3)\n",
    "print(\"Linea 4:\\n\",linea4)\n",
    "print(\"Linea 5:\\n\",linea5)\n",
    "print(\"Linea 6:\\n\",linea6)\n",
    "\n",
    "# Count characters\n",
    "\n",
    "print(\"\\nLa cantidad de caracteres en tu texto es: \", len(reseña))\n",
    "\n",
    "# Result\n",
    "\n",
    "print(\"\\nScore: {}\\nResultado: {}\".format(score, result))"
   ]
  },
  {
   "cell_type": "code",
   "execution_count": null,
   "id": "7299b5ce",
   "metadata": {},
   "outputs": [],
   "source": []
  }
 ],
 "metadata": {
  "kernelspec": {
   "display_name": "Python 3 (ipykernel)",
   "language": "python",
   "name": "python3"
  },
  "language_info": {
   "codemirror_mode": {
    "name": "ipython",
    "version": 3
   },
   "file_extension": ".py",
   "mimetype": "text/x-python",
   "name": "python",
   "nbconvert_exporter": "python",
   "pygments_lexer": "ipython3",
   "version": "3.11.5"
  }
 },
 "nbformat": 4,
 "nbformat_minor": 5
}

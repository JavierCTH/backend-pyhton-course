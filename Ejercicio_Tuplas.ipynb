{
 "cells": [
  {
   "cell_type": "code",
   "execution_count": 8,
   "id": "ae2614ef",
   "metadata": {},
   "outputs": [
    {
     "name": "stdout",
     "output_type": "stream",
     "text": [
      "Lista de Reproducción\n",
      "\n",
      "Ingresa la palabra que te gustaría\n",
      "\n",
      "Ejemplo: 'rock', y obtendrás un playlist de canciones o artistas que incluyan la palabra rock\n",
      "\n",
      "avantasia\n",
      "('Dying for an Angel (The Wicked Symphony)', 'Avantasia')\n",
      "('Moonglow', 'Avantasia')\n",
      "('Twisted Mind', 'Avantasia')\n",
      "('Sign of the Cross', 'Avantasia')\n",
      "('The Seven Angels', 'Avantasia')\n",
      "('Lucifer', 'Avantasia')\n",
      "('Kill The Pain Away', 'Avantasia')\n",
      "('Draconian Love', 'Avantasia')\n",
      "('Farewell', 'Avantasia')\n",
      "('The Moonflower Society', 'Avantasia')\n",
      "('The Scarecrow', 'Avantasia')\n",
      "('Lay All Your Love on Me', 'Avantasia')\n",
      "('Let the Storm Descend Upon You', 'Avantasia')\n",
      "('Reach out for the Light', 'Avantasia')\n",
      "('Maniac', 'Avantasia')\n",
      "('Misplaced Among The Angels', 'Avantasia')\n",
      "('Breaking Away', 'Avantasia')\n",
      "('The Wicked Rule The Night', 'Avantasia')\n",
      "('Avantasia', 'Avantasia')\n",
      "('The Tower', 'Avantasia')\n",
      "('Invincible', 'Avantasia')\n",
      "('Ghost in the Moon', 'Avantasia')\n",
      "('Mystery of a Blood Red Rose', 'Avantasia')\n",
      "('Rhyme And Reason', 'Avantasia')\n",
      "('The Wicked Symphony (The Wicked Symphony)', 'Avantasia')\n"
     ]
    }
   ],
   "source": [
    "import requests\n",
    "\n",
    "print(\"Lista de Reproducción\\n\")\n",
    "\n",
    "# Referencia: https://www.deezer.com/en/channels/explore\n",
    "\n",
    "print(\"Ingresa la palabra que te gustaría\\n\")\n",
    "print(\"Ejemplo: 'rock', y obtendrás un playlist de canciones o artistas que incluyan la palabra rock\\n\")\n",
    "\n",
    "word_to_search = input()\n",
    "\n",
    "url = \"https://deezerdevs-deezer.p.rapidapi.com/search\"\n",
    "querystring = {\"q\":word_to_search}\n",
    "headers = {\n",
    "    \"X-RapidAPI-Key\": \"3ed98f551fmshe4e6260228c4eadp13db17jsn8c893e1194da\",\n",
    "    \"X-RapidAPI-Host\": \"deezerdevs-deezer.p.rapidapi.com\"\n",
    "}\n",
    "response = requests.request(\"GET\", url, headers=headers, params=querystring).json()\n",
    "for element in response['data']:\n",
    "    my_list = [element['title'], element['artist']['name']]\n",
    "    my_tuple = tuple(my_list)\n",
    "    print(my_tuple)"
   ]
  },
  {
   "cell_type": "code",
   "execution_count": null,
   "id": "b941a008",
   "metadata": {},
   "outputs": [],
   "source": []
  }
 ],
 "metadata": {
  "kernelspec": {
   "display_name": "Python 3 (ipykernel)",
   "language": "python",
   "name": "python3"
  },
  "language_info": {
   "codemirror_mode": {
    "name": "ipython",
    "version": 3
   },
   "file_extension": ".py",
   "mimetype": "text/x-python",
   "name": "python",
   "nbconvert_exporter": "python",
   "pygments_lexer": "ipython3",
   "version": "3.11.5"
  }
 },
 "nbformat": 4,
 "nbformat_minor": 5
}

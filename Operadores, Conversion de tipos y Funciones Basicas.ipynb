{
 "cells": [
  {
   "cell_type": "markdown",
   "id": "ad78d40a",
   "metadata": {},
   "source": [
    "# Operadores\n",
    "\n",
    "- Conjunto de símbolos para lenguaje de programación\n",
    "- Dicen al compilador o intérprete que ejecute ciertas acciones para producir resultado final\n",
    "- Aplicados a aperaciones o valores"
   ]
  },
  {
   "cell_type": "markdown",
   "id": "92ac3139",
   "metadata": {},
   "source": [
    "## Tipos : \n",
    "\n",
    "- aritméticos \n",
    "- relacionales \n",
    "- de asignación\n",
    "- lógicos\n",
    "- de afiliación\n",
    "- de identidad"
   ]
  },
  {
   "cell_type": "markdown",
   "id": "dd3a6cc6",
   "metadata": {},
   "source": [
    "### Aritméticos\n",
    "- \"+\" : suma\n",
    "- \"-\" : resta\n",
    "- \"*\" : multiplicación\n",
    "- \"/\" : división\n",
    "- \"//\" : división con redondeo hacia abajo\n",
    "- \"**\" : exponente"
   ]
  },
  {
   "cell_type": "code",
   "execution_count": 1,
   "id": "bb556516",
   "metadata": {},
   "outputs": [
    {
     "name": "stdout",
     "output_type": "stream",
     "text": [
      "El resultado es: 600\n"
     ]
    }
   ],
   "source": [
    "# +\n",
    "n1 = 500\n",
    "n2 = 100\n",
    "print (\"El resultado es:\", n1+n2)"
   ]
  },
  {
   "cell_type": "code",
   "execution_count": 3,
   "id": "f2be5f73",
   "metadata": {},
   "outputs": [
    {
     "name": "stdout",
     "output_type": "stream",
     "text": [
      "La resta es: -100\n"
     ]
    }
   ],
   "source": [
    "# -\n",
    "n1 = 500\n",
    "n2 = 600\n",
    "print (\"La resta es:\", n1-n2)"
   ]
  },
  {
   "cell_type": "code",
   "execution_count": 4,
   "id": "b3cde8e5",
   "metadata": {},
   "outputs": [
    {
     "name": "stdout",
     "output_type": "stream",
     "text": [
      "La multiplicación es: 102\n"
     ]
    }
   ],
   "source": [
    "# *\n",
    "n1 = 34\n",
    "n2 = 3\n",
    "print (\"La multiplicación es:\", n1*n2)"
   ]
  },
  {
   "cell_type": "code",
   "execution_count": 8,
   "id": "3fe61bf7",
   "metadata": {},
   "outputs": [
    {
     "name": "stdout",
     "output_type": "stream",
     "text": [
      "La división es: 10.272727272727273\n"
     ]
    }
   ],
   "source": [
    "# /\n",
    "n1 = 33.9\n",
    "n2 = 3.3\n",
    "print (\"La división es:\", n1/n2)"
   ]
  },
  {
   "cell_type": "code",
   "execution_count": 10,
   "id": "3fcfaf52",
   "metadata": {},
   "outputs": [
    {
     "name": "stdout",
     "output_type": "stream",
     "text": [
      "La división es: 10.0\n"
     ]
    }
   ],
   "source": [
    "# //\n",
    "n1 = 33.9\n",
    "n2 = 3.3\n",
    "print (\"La división es:\", n1//n2)"
   ]
  },
  {
   "cell_type": "code",
   "execution_count": 11,
   "id": "f4451621",
   "metadata": {},
   "outputs": [
    {
     "name": "stdout",
     "output_type": "stream",
     "text": [
      "La potencia es: 64\n"
     ]
    }
   ],
   "source": [
    "# **\n",
    "n1 = 4\n",
    "n2 = 3\n",
    "print (\"La potencia es:\", n1**n2)"
   ]
  },
  {
   "cell_type": "markdown",
   "id": "7bec8f79",
   "metadata": {},
   "source": [
    "### Relacionales\n",
    "\n",
    "- Conocidos como Operadores de Comparación\n",
    "- Regresan un valor bool (True / False)\n",
    "- Comparar o relacionar los valores\n",
    "- True = condición exitosa\n",
    "- False = condición no cumplida\n",
    "- Se encargan de operaciones de comparación\n",
    "\n",
    "Tipos\n",
    "- \"==\" : igual a\n",
    "- \"!=\" : diferente a\n",
    "- \">\"  : mayor que\n",
    "- \">=\" : mayor o igual que\n",
    "- \"<\"  : menor que\n",
    "- \"<=\" : menor o igual que"
   ]
  },
  {
   "cell_type": "code",
   "execution_count": 15,
   "id": "0b21516a",
   "metadata": {},
   "outputs": [
    {
     "name": "stdout",
     "output_type": "stream",
     "text": [
      "El resultado de n1==n2 es: False\n"
     ]
    }
   ],
   "source": [
    "# \"==\" : igual a\n",
    "\n",
    "n1 = 570 \n",
    "n2 = 420\n",
    "print(\"El resultado de n1==n2 es:\",n1==n2)"
   ]
  },
  {
   "cell_type": "code",
   "execution_count": 16,
   "id": "b42261ff",
   "metadata": {},
   "outputs": [
    {
     "name": "stdout",
     "output_type": "stream",
     "text": [
      "El resultado de n1==n2 es: True\n"
     ]
    }
   ],
   "source": [
    "n1 = 4 \n",
    "n2 = 4\n",
    "print(\"El resultado de n1==n2 es:\",n1==n2)"
   ]
  },
  {
   "cell_type": "code",
   "execution_count": 14,
   "id": "f5023bfe",
   "metadata": {},
   "outputs": [
    {
     "name": "stdout",
     "output_type": "stream",
     "text": [
      "El resultado de str_1==str_2 es: True\n"
     ]
    }
   ],
   "source": [
    "str_1 = \"Backend Pyton\"\n",
    "str_2 = \"Backend Pyton\"\n",
    "print(\"El resultado de str_1==str_2 es:\",str_2==str_1)"
   ]
  },
  {
   "cell_type": "code",
   "execution_count": 17,
   "id": "1ec67e59",
   "metadata": {},
   "outputs": [
    {
     "name": "stdout",
     "output_type": "stream",
     "text": [
      "El resultado de n1!=n2 es: True\n"
     ]
    }
   ],
   "source": [
    "# \"!=\" : diferente a\n",
    "\n",
    "n1 = 570 \n",
    "n2 = 420\n",
    "print(\"El resultado de n1!=n2 es:\",n1!=n2)"
   ]
  },
  {
   "cell_type": "code",
   "execution_count": 18,
   "id": "c3a214e5",
   "metadata": {},
   "outputs": [
    {
     "name": "stdout",
     "output_type": "stream",
     "text": [
      "El resultado de n1!=n2 es: False\n"
     ]
    }
   ],
   "source": [
    "n1 = 76 \n",
    "n2 = 76\n",
    "print(\"El resultado de n1!=n2 es:\",n1!=n2)"
   ]
  },
  {
   "cell_type": "code",
   "execution_count": 24,
   "id": "01e2a80a",
   "metadata": {},
   "outputs": [
    {
     "name": "stdout",
     "output_type": "stream",
     "text": [
      "El resultado de name_1!=name_2 es: False\n"
     ]
    }
   ],
   "source": [
    "name_1 = \"Ensalada\"\n",
    "name_2 = \"Ensalada\"\n",
    "print(\"El resultado de name_1!=name_2 es:\",name_2!=name_1)"
   ]
  },
  {
   "cell_type": "code",
   "execution_count": 20,
   "id": "0090fa3d",
   "metadata": {},
   "outputs": [
    {
     "name": "stdout",
     "output_type": "stream",
     "text": [
      "El resultado de n1>n2 es: True\n"
     ]
    }
   ],
   "source": [
    "# \"\">\"\" : mayor que\n",
    "\n",
    "n1 = 570 \n",
    "n2 = 420\n",
    "print(\"El resultado de n1>n2 es:\",n1>n2)"
   ]
  },
  {
   "cell_type": "code",
   "execution_count": 21,
   "id": "5990df80",
   "metadata": {},
   "outputs": [
    {
     "name": "stdout",
     "output_type": "stream",
     "text": [
      "El resultado de n1>n2 es: False\n"
     ]
    }
   ],
   "source": [
    "n1 = 67 \n",
    "n2 = 67\n",
    "print(\"El resultado de n1>n2 es:\",n1>n2)"
   ]
  },
  {
   "cell_type": "code",
   "execution_count": 22,
   "id": "859a2e8d",
   "metadata": {},
   "outputs": [
    {
     "name": "stdout",
     "output_type": "stream",
     "text": [
      "El resultado de n1>=n2 es: True\n"
     ]
    }
   ],
   "source": [
    "# \">=\" : mayor igual que\n",
    "\n",
    "n1 = 570 \n",
    "n2 = 420\n",
    "print(\"El resultado de n1>=n2 es:\",n1>=n2)"
   ]
  },
  {
   "cell_type": "code",
   "execution_count": 23,
   "id": "3d7de949",
   "metadata": {},
   "outputs": [
    {
     "name": "stdout",
     "output_type": "stream",
     "text": [
      "El resultado de n1>=n2 es: True\n"
     ]
    }
   ],
   "source": [
    "n1 = 92 \n",
    "n2 = 92\n",
    "print(\"El resultado de n1>=n2 es:\",n1>=n2)"
   ]
  },
  {
   "cell_type": "code",
   "execution_count": 25,
   "id": "405d7f47",
   "metadata": {},
   "outputs": [
    {
     "name": "stdout",
     "output_type": "stream",
     "text": [
      "El resultado de n1<n2 es: False\n"
     ]
    }
   ],
   "source": [
    "# \"<\" : menor que\n",
    "\n",
    "n1 = 570 \n",
    "n2 = 420\n",
    "print(\"El resultado de n1<n2 es:\",n1<n2)"
   ]
  },
  {
   "cell_type": "code",
   "execution_count": 27,
   "id": "2d807f45",
   "metadata": {},
   "outputs": [
    {
     "name": "stdout",
     "output_type": "stream",
     "text": [
      "El resultado de n1<n2 es: True\n"
     ]
    }
   ],
   "source": [
    "n1 = 3.1\n",
    "n2 = 3.2\n",
    "print(\"El resultado de n1<n2 es:\",n1<n2)"
   ]
  },
  {
   "cell_type": "code",
   "execution_count": 28,
   "id": "e9e03a19",
   "metadata": {},
   "outputs": [
    {
     "name": "stdout",
     "output_type": "stream",
     "text": [
      "El resultado de n1<=n2 es: False\n"
     ]
    }
   ],
   "source": [
    "# \"<=\"\" : menor igual que\n",
    "\n",
    "n1 = 570 \n",
    "n2 = 420\n",
    "print(\"El resultado de n1<=n2 es:\",n1<=n2)"
   ]
  },
  {
   "cell_type": "code",
   "execution_count": 29,
   "id": "0e08c83e",
   "metadata": {},
   "outputs": [
    {
     "name": "stdout",
     "output_type": "stream",
     "text": [
      "El resultado de n1<=n2 es: True\n"
     ]
    }
   ],
   "source": [
    "n1 = 8.345 \n",
    "n2 = 8.345\n",
    "print(\"El resultado de n1<=n2 es:\",n1<=n2)"
   ]
  },
  {
   "cell_type": "markdown",
   "id": "bce46dac",
   "metadata": {},
   "source": [
    "### Asignación\n",
    "- Usados para asignar valores a variables\n",
    "- Incluyen al valor de asignación (=)\n",
    "\n",
    "Tipos:\n",
    "- \"=\"  : Asignación\n",
    "- \"+=\" : Sumar y asignar\n",
    "- \"-=\" : Restar y asignar\n",
    "- \"*=\" : Multiplicar y asignar\n",
    "- \"/=\" : Dividir y asignar\n",
    "- \"//=\" : Dividir con redondeo hacia abajo y asignar\n",
    "- \"%=\" : Módulo y asignar\n",
    "- \"**=\" : Exponente y asignar"
   ]
  },
  {
   "cell_type": "code",
   "execution_count": 30,
   "id": "3dd93fd0",
   "metadata": {},
   "outputs": [],
   "source": [
    "# \"=\"  : Asignación\n",
    "\n",
    "n1 = 20\n",
    "n2 = 3"
   ]
  },
  {
   "cell_type": "code",
   "execution_count": 31,
   "id": "cf741bf9",
   "metadata": {},
   "outputs": [
    {
     "name": "stdout",
     "output_type": "stream",
     "text": [
      "n1 antes de la operación:  20\n",
      "n1 después de la operación:  23\n"
     ]
    }
   ],
   "source": [
    "# \"+=\" : Sumar y asignar\n",
    "\n",
    "n1 = 20\n",
    "n2 = 3\n",
    "print(\"n1 antes de la operación: \", n1)\n",
    "n1 += n2 # n1 = n1+n2\n",
    "print(\"n1 después de la operación: \", n1)"
   ]
  },
  {
   "cell_type": "code",
   "execution_count": 32,
   "id": "382a9ddd",
   "metadata": {},
   "outputs": [
    {
     "name": "stdout",
     "output_type": "stream",
     "text": [
      "n1 antes de la operación:  20\n",
      "n1 después de la operación:  17\n"
     ]
    }
   ],
   "source": [
    "n1 = 20\n",
    "n2 = 3\n",
    "print(\"n1 antes de la operación: \", n1)\n",
    "n1 -= n2 # n1 = n1-n2\n",
    "print(\"n1 después de la operación: \", n1)"
   ]
  },
  {
   "cell_type": "code",
   "execution_count": 33,
   "id": "30d4e248",
   "metadata": {},
   "outputs": [
    {
     "name": "stdout",
     "output_type": "stream",
     "text": [
      "n1 antes de la operación:  20\n",
      "n1 después de la operación:  60\n"
     ]
    }
   ],
   "source": [
    "n1 = 20\n",
    "n2 = 3\n",
    "print(\"n1 antes de la operación: \", n1)\n",
    "n1 *= n2 # n1 = n1 * n2\n",
    "print(\"n1 después de la operación: \", n1)"
   ]
  },
  {
   "cell_type": "code",
   "execution_count": 34,
   "id": "86abe669",
   "metadata": {},
   "outputs": [
    {
     "name": "stdout",
     "output_type": "stream",
     "text": [
      "n1 antes de la operación:  20\n",
      "n1 después de la operación:  6.666666666666667\n"
     ]
    }
   ],
   "source": [
    "n1 = 20\n",
    "n2 = 3\n",
    "print(\"n1 antes de la operación: \", n1)\n",
    "n1 /= n2 # n1 = n1 / n2\n",
    "print(\"n1 después de la operación: \", n1)"
   ]
  },
  {
   "cell_type": "code",
   "execution_count": 35,
   "id": "1ac27728",
   "metadata": {},
   "outputs": [
    {
     "name": "stdout",
     "output_type": "stream",
     "text": [
      "n1 antes de la operación:  20\n",
      "n1 después de la operación:  6\n"
     ]
    }
   ],
   "source": [
    "n1 = 20\n",
    "n2 = 3\n",
    "print(\"n1 antes de la operación: \", n1)\n",
    "n1 //= n2 # n1 = n1 // n2\n",
    "print(\"n1 después de la operación: \", n1)"
   ]
  },
  {
   "cell_type": "code",
   "execution_count": 36,
   "id": "4a8729ec",
   "metadata": {},
   "outputs": [
    {
     "name": "stdout",
     "output_type": "stream",
     "text": [
      "n1 antes de la operación:  20\n",
      "n1 después de la operación:  2\n"
     ]
    }
   ],
   "source": [
    "# \"%=\" : Módulo y asignar - el número que queda después de haber dividido entre el entero más proximo : residuo\n",
    "\n",
    "n1 = 20\n",
    "n2 = 3\n",
    "print(\"n1 antes de la operación: \", n1)\n",
    "n1 %= n2 # n1 = n1 % n2\n",
    "print(\"n1 después de la operación: \", n1)"
   ]
  },
  {
   "cell_type": "code",
   "execution_count": 37,
   "id": "a6fa7642",
   "metadata": {},
   "outputs": [
    {
     "name": "stdout",
     "output_type": "stream",
     "text": [
      "n1 antes de la operación:  20\n",
      "n1 después de la operación:  8000\n"
     ]
    }
   ],
   "source": [
    "n1 = 20\n",
    "n2 = 3\n",
    "print(\"n1 antes de la operación: \", n1)\n",
    "n1 **= n2 # n1 = n1 ** n2\n",
    "print(\"n1 después de la operación: \", n1)"
   ]
  },
  {
   "cell_type": "markdown",
   "id": "2926deec",
   "metadata": {},
   "source": [
    "### Lógicos\n",
    "- Usados para declaraciones condicionales\n",
    "- Indicadores estructurales\n",
    "- Conocidos como Conectores lógicos\n",
    "\n",
    "Tipos\n",
    "- AND : regresa True si ambas operaciones son verdaderas\n",
    "- OR  : regresa True si al menos una de la operaciones es verdadera\n",
    "- NOT : regresa True si la operación es False"
   ]
  },
  {
   "cell_type": "code",
   "execution_count": 38,
   "id": "40ff4e9d",
   "metadata": {},
   "outputs": [
    {
     "name": "stdout",
     "output_type": "stream",
     "text": [
      "n1<=n2 and n1!=n2 True\n"
     ]
    }
   ],
   "source": [
    "# AND\n",
    "# Todas las condiciones deben ser verdaderas\n",
    "\n",
    "n1 = 11\n",
    "n2 = 55\n",
    "\n",
    "print(\"n1<=n2 and n1!=n2\", n1<=n2 and n1!=n2)\n",
    "\n",
    "## 11 < 55 : True\n",
    "## 11 != 55 : True"
   ]
  },
  {
   "cell_type": "code",
   "execution_count": 41,
   "id": "e026f7fd",
   "metadata": {
    "scrolled": true
   },
   "outputs": [
    {
     "name": "stdout",
     "output_type": "stream",
     "text": [
      "n1<=n2 and n1!=n2 and n1>10 True\n"
     ]
    }
   ],
   "source": [
    "n1 = 11\n",
    "n2 = 55\n",
    "\n",
    "print(\"n1<=n2 and n1!=n2 and n1>10\", n1<=n2 and n1!=n2 and n1>10)\n",
    "\n",
    "## 11 < 55 : True\n",
    "## 11 != 55 : True\n",
    "## 11 > 10 : True"
   ]
  },
  {
   "cell_type": "code",
   "execution_count": 42,
   "id": "09b376c9",
   "metadata": {},
   "outputs": [
    {
     "name": "stdout",
     "output_type": "stream",
     "text": [
      "n1<=n2 or n1!=n2 True\n"
     ]
    }
   ],
   "source": [
    "# OR\n",
    "# Una de las condiciones deben ser verdaderas\n",
    "\n",
    "n1 = 11\n",
    "n2 = 55\n",
    "\n",
    "print(\"n1<=n2 or n1!=n2\", n1<=n2 or n1!=n2)\n",
    "\n",
    "## 11 < 55 : True\n",
    "## 11 != 55 : True"
   ]
  },
  {
   "cell_type": "code",
   "execution_count": 43,
   "id": "7e77c320",
   "metadata": {},
   "outputs": [
    {
     "name": "stdout",
     "output_type": "stream",
     "text": [
      "n1<=n2 or n1!=n2 True\n"
     ]
    }
   ],
   "source": [
    "n1 = 11\n",
    "n2 = 11\n",
    "\n",
    "print(\"n1<=n2 or n1!=n2\", n1<=n2 or n1!=n2)\n",
    "\n",
    "## 11 < 55 : True\n",
    "## 11 != 11 : True"
   ]
  },
  {
   "cell_type": "code",
   "execution_count": 45,
   "id": "964f0b92",
   "metadata": {},
   "outputs": [
    {
     "name": "stdout",
     "output_type": "stream",
     "text": [
      "n1<=n2 or n1!=n2 or n1>10 True\n"
     ]
    }
   ],
   "source": [
    "n1 = 11\n",
    "n2 = 11\n",
    "\n",
    "print(\"n1<=n2 or n1!=n2 or n1>10\", n1<=n2 or n1!=n2 or n1>10)\n",
    "\n",
    "## 11 < 55 : True\n",
    "## 11 != 55 : True\n",
    "## 11 > 10 : True"
   ]
  },
  {
   "cell_type": "code",
   "execution_count": 46,
   "id": "14ef1018",
   "metadata": {},
   "outputs": [
    {
     "name": "stdout",
     "output_type": "stream",
     "text": [
      "not n1<=n2 False\n"
     ]
    }
   ],
   "source": [
    "# NOT\n",
    "# La condición debe ser False\n",
    "\n",
    "n1 = 11\n",
    "n2 = 55\n",
    "\n",
    "print(\"not n1<=n2\", not n1<=n2)\n",
    "\n",
    "## 11 <= 55 : True"
   ]
  },
  {
   "cell_type": "code",
   "execution_count": 47,
   "id": "f1d7d700",
   "metadata": {},
   "outputs": [
    {
     "name": "stdout",
     "output_type": "stream",
     "text": [
      "not n1!=n2 False\n"
     ]
    }
   ],
   "source": [
    "n1 = 11\n",
    "n2 = 55\n",
    "\n",
    "print(\"not n1!=n2\", not n1!=n2)\n",
    "\n",
    "## 11 != 55 : True"
   ]
  },
  {
   "cell_type": "code",
   "execution_count": 51,
   "id": "ad6f5a73",
   "metadata": {},
   "outputs": [
    {
     "name": "stdout",
     "output_type": "stream",
     "text": [
      "not n1!=n2 True\n"
     ]
    }
   ],
   "source": [
    "n1 = 11\n",
    "n2 = 11\n",
    "\n",
    "print(\"not n1!=n2\", not n1!=n2)\n",
    "\n",
    "## 11 <= 55 : True"
   ]
  },
  {
   "cell_type": "markdown",
   "id": "dad6c83a",
   "metadata": {},
   "source": [
    "# Afiliación\n",
    "- Validar elementos en listas, cadenas y tuplas\n",
    "- Validan si una variable está presente en una secuencia\n",
    "- Regresan valor bool\n",
    "- Regresan True si el valor esta presente en la secuencia\n",
    "- Regresan False si el valor NO esta presente en la secuencia\n",
    "\n",
    "    - IN : el valor esta en la secuencia\n",
    "    - NOT IN : el valor no esta en la secuencia"
   ]
  },
  {
   "cell_type": "code",
   "execution_count": 52,
   "id": "3fbd874f",
   "metadata": {},
   "outputs": [
    {
     "name": "stdout",
     "output_type": "stream",
     "text": [
      "'a' in my_string True\n"
     ]
    }
   ],
   "source": [
    "# IN : El valor esta en la secuencia ?\n",
    "\n",
    "my_string = \"Backend Python\"\n",
    "print (\"'a' in my_string\",'a' in my_string)"
   ]
  },
  {
   "cell_type": "code",
   "execution_count": 53,
   "id": "60d08e5f",
   "metadata": {},
   "outputs": [
    {
     "name": "stdout",
     "output_type": "stream",
     "text": [
      "'p' in my_string False\n"
     ]
    }
   ],
   "source": [
    "my_string = \"Backend Python\"\n",
    "print (\"'p' in my_string\",'p' in my_string)"
   ]
  },
  {
   "cell_type": "code",
   "execution_count": 54,
   "id": "04a8fd37",
   "metadata": {},
   "outputs": [
    {
     "name": "stdout",
     "output_type": "stream",
     "text": [
      "5 in my_list False\n"
     ]
    }
   ],
   "source": [
    "my_list = [1, 154, 321, 22, 11]\n",
    "print(\"5 in my_list\", 5 in my_list)"
   ]
  },
  {
   "cell_type": "code",
   "execution_count": 55,
   "id": "84a7e79d",
   "metadata": {
    "scrolled": true
   },
   "outputs": [
    {
     "name": "stdout",
     "output_type": "stream",
     "text": [
      "5 in my_list True\n"
     ]
    }
   ],
   "source": [
    "my_list = [1, 154, 321, 22, 11, 321, 1, 154]\n",
    "print(\"5 in my_list\", 321 in my_list)"
   ]
  },
  {
   "cell_type": "code",
   "execution_count": 67,
   "id": "84900b7c",
   "metadata": {},
   "outputs": [
    {
     "data": {
      "text/plain": [
       "[1, 154, 321, 22, 11, 5]"
      ]
     },
     "execution_count": 67,
     "metadata": {},
     "output_type": "execute_result"
    }
   ],
   "source": [
    "my_list"
   ]
  },
  {
   "cell_type": "code",
   "execution_count": 62,
   "id": "9a468ea1",
   "metadata": {},
   "outputs": [
    {
     "name": "stdout",
     "output_type": "stream",
     "text": [
      "5 in my_set True\n"
     ]
    }
   ],
   "source": [
    "my_set = {1, 154, 321, 22, 11, 5, 5, 321}\n",
    "print(\"5 in my_set\", 5 in my_set)"
   ]
  },
  {
   "cell_type": "code",
   "execution_count": 68,
   "id": "d2d51467",
   "metadata": {},
   "outputs": [
    {
     "data": {
      "text/plain": [
       "{1, 5, 11, 22, 154, 321}"
      ]
     },
     "execution_count": 68,
     "metadata": {},
     "output_type": "execute_result"
    }
   ],
   "source": [
    "my_set"
   ]
  },
  {
   "cell_type": "code",
   "execution_count": 63,
   "id": "ff4d9135",
   "metadata": {
    "scrolled": true
   },
   "outputs": [
    {
     "name": "stdout",
     "output_type": "stream",
     "text": [
      "'a' not in my_string False\n"
     ]
    }
   ],
   "source": [
    "# NOT IN : El valor NO esta en la secuencia ?\n",
    "\n",
    "my_string = \"Backend Python\"\n",
    "print (\"'a' not in my_string\",'a' not in my_string)"
   ]
  },
  {
   "cell_type": "code",
   "execution_count": 64,
   "id": "4e44f582",
   "metadata": {},
   "outputs": [
    {
     "name": "stdout",
     "output_type": "stream",
     "text": [
      "'P' in my_string True\n"
     ]
    }
   ],
   "source": [
    "my_string = \"Backend Python\"\n",
    "print (\"'P' in my_string\",'P' in my_string)"
   ]
  },
  {
   "cell_type": "code",
   "execution_count": 65,
   "id": "c5058fda",
   "metadata": {},
   "outputs": [
    {
     "name": "stdout",
     "output_type": "stream",
     "text": [
      "5 not in my_list True\n"
     ]
    }
   ],
   "source": [
    "my_list = [1, 154, 321, 22, 11]\n",
    "print(\"5 not in my_list\", 5 not in my_list)"
   ]
  },
  {
   "cell_type": "code",
   "execution_count": 66,
   "id": "52808f47",
   "metadata": {},
   "outputs": [
    {
     "name": "stdout",
     "output_type": "stream",
     "text": [
      "5 not in my_list False\n"
     ]
    }
   ],
   "source": [
    "my_list = [1, 154, 321, 22, 11, 5]\n",
    "print(\"5 not in my_list\", 5 not in my_list)"
   ]
  },
  {
   "cell_type": "markdown",
   "id": "ff6a160f",
   "metadata": {},
   "source": [
    "### Identidad\n",
    "- Usados para comparar la ubicación en memoria de dos objetos\n",
    "- Validan si los valores comparten el mismo espacio en memoria o no\n",
    "- Regresa True si lo comparten, y False si no lo comparten\n",
    "\n",
    "    - IS\n",
    "    - IS NOT"
   ]
  },
  {
   "cell_type": "code",
   "execution_count": 69,
   "id": "f764bf74",
   "metadata": {},
   "outputs": [
    {
     "name": "stdout",
     "output_type": "stream",
     "text": [
      "n1 is n2 False\n"
     ]
    }
   ],
   "source": [
    "# IS\n",
    "\n",
    "n1 = 11\n",
    "n2 = 55\n",
    "print(\"n1 is n2\", n1 is n2)"
   ]
  },
  {
   "cell_type": "code",
   "execution_count": 70,
   "id": "68985b7d",
   "metadata": {},
   "outputs": [
    {
     "name": "stdout",
     "output_type": "stream",
     "text": [
      "n1 is n2 True\n"
     ]
    }
   ],
   "source": [
    "n1 = 77\n",
    "n2 = 77\n",
    "print(\"n1 is n2\", n1 is n2)"
   ]
  },
  {
   "cell_type": "code",
   "execution_count": 71,
   "id": "5b550860",
   "metadata": {},
   "outputs": [
    {
     "name": "stdout",
     "output_type": "stream",
     "text": [
      "n1 is not n2 True\n"
     ]
    }
   ],
   "source": [
    "# IS NOT\n",
    "\n",
    "n1 = 11\n",
    "n2 = 55\n",
    "print(\"n1 is not n2\", n1 is not n2)"
   ]
  },
  {
   "cell_type": "code",
   "execution_count": 78,
   "id": "01e1dcda",
   "metadata": {},
   "outputs": [
    {
     "name": "stdout",
     "output_type": "stream",
     "text": [
      "n1 is not n2 False\n"
     ]
    }
   ],
   "source": [
    "n1 = 56\n",
    "n2 = 56\n",
    "print(\"n1 is not n2\", n1 is not n2)"
   ]
  },
  {
   "cell_type": "markdown",
   "id": "e608bf77",
   "metadata": {},
   "source": [
    "# Conversion de tipos\n",
    "\n",
    "- Es el proceso de conversión de un tipo de dato a otro tipo\n",
    "- Importante para combinar multiples fuentes de datos en un formato específico\n",
    "\n",
    "Tipos\n",
    "- Conversión implícita : hecha de forma automática por el intérprete de Python\n",
    "- Conversión explícita"
   ]
  },
  {
   "cell_type": "code",
   "execution_count": 79,
   "id": "fa5bd3f0",
   "metadata": {},
   "outputs": [],
   "source": [
    "# Implícita"
   ]
  },
  {
   "cell_type": "code",
   "execution_count": 80,
   "id": "f0432ed3",
   "metadata": {},
   "outputs": [
    {
     "data": {
      "text/plain": [
       "16.0"
      ]
     },
     "execution_count": 80,
     "metadata": {},
     "output_type": "execute_result"
    }
   ],
   "source": [
    "14+2.0"
   ]
  },
  {
   "cell_type": "code",
   "execution_count": 81,
   "id": "a8ddb93a",
   "metadata": {},
   "outputs": [],
   "source": [
    "# Explícita"
   ]
  },
  {
   "cell_type": "code",
   "execution_count": 83,
   "id": "f4b6a280",
   "metadata": {},
   "outputs": [
    {
     "data": {
      "text/plain": [
       "199"
      ]
     },
     "execution_count": 83,
     "metadata": {},
     "output_type": "execute_result"
    }
   ],
   "source": [
    "int(199.98252)"
   ]
  },
  {
   "cell_type": "code",
   "execution_count": 85,
   "id": "19fa24e0",
   "metadata": {},
   "outputs": [
    {
     "data": {
      "text/plain": [
       "9.0"
      ]
     },
     "execution_count": 85,
     "metadata": {},
     "output_type": "execute_result"
    }
   ],
   "source": [
    "float(9)"
   ]
  },
  {
   "cell_type": "code",
   "execution_count": 86,
   "id": "f3baaeb8",
   "metadata": {},
   "outputs": [
    {
     "data": {
      "text/plain": [
       "(4+0j)"
      ]
     },
     "execution_count": 86,
     "metadata": {},
     "output_type": "execute_result"
    }
   ],
   "source": [
    "complex(4)"
   ]
  },
  {
   "cell_type": "markdown",
   "id": "0a064a6d",
   "metadata": {},
   "source": [
    "### int"
   ]
  },
  {
   "cell_type": "code",
   "execution_count": 92,
   "id": "153d31a1",
   "metadata": {},
   "outputs": [
    {
     "data": {
      "text/plain": [
       "0"
      ]
     },
     "execution_count": 92,
     "metadata": {},
     "output_type": "execute_result"
    }
   ],
   "source": [
    "# float a int\n",
    "int(0.892355)"
   ]
  },
  {
   "cell_type": "code",
   "execution_count": 93,
   "id": "a77544f1",
   "metadata": {},
   "outputs": [
    {
     "data": {
      "text/plain": [
       "0"
      ]
     },
     "execution_count": 93,
     "metadata": {},
     "output_type": "execute_result"
    }
   ],
   "source": [
    "# bool a int\n",
    "int(False)"
   ]
  },
  {
   "cell_type": "code",
   "execution_count": 95,
   "id": "7a52702d",
   "metadata": {},
   "outputs": [
    {
     "ename": "TypeError",
     "evalue": "int() argument must be a string, a bytes-like object or a real number, not 'complex'",
     "output_type": "error",
     "traceback": [
      "\u001b[0;31m---------------------------------------------------------------------------\u001b[0m",
      "\u001b[0;31mTypeError\u001b[0m                                 Traceback (most recent call last)",
      "Cell \u001b[0;32mIn[95], line 2\u001b[0m\n\u001b[1;32m      1\u001b[0m \u001b[38;5;66;03m# complex a int -> error\u001b[39;00m\n\u001b[0;32m----> 2\u001b[0m \u001b[38;5;28mint\u001b[39m(\u001b[38;5;241m5\u001b[39m\u001b[38;5;241m+\u001b[39m\u001b[38;5;241m3\u001b[39mj)\n",
      "\u001b[0;31mTypeError\u001b[0m: int() argument must be a string, a bytes-like object or a real number, not 'complex'"
     ]
    }
   ],
   "source": [
    "# complex a int -> error\n",
    "int(5+3j)"
   ]
  },
  {
   "cell_type": "code",
   "execution_count": 96,
   "id": "25c4c95b",
   "metadata": {},
   "outputs": [
    {
     "data": {
      "text/plain": [
       "120"
      ]
     },
     "execution_count": 96,
     "metadata": {},
     "output_type": "execute_result"
    }
   ],
   "source": [
    "# string a int\n",
    "int(\"120\")"
   ]
  },
  {
   "cell_type": "markdown",
   "id": "3eab09d0",
   "metadata": {},
   "source": [
    "### float"
   ]
  },
  {
   "cell_type": "code",
   "execution_count": 99,
   "id": "a710ebe0",
   "metadata": {},
   "outputs": [
    {
     "data": {
      "text/plain": [
       "23.0"
      ]
     },
     "execution_count": 99,
     "metadata": {},
     "output_type": "execute_result"
    }
   ],
   "source": [
    "# int a float\n",
    "float(23)"
   ]
  },
  {
   "cell_type": "code",
   "execution_count": 100,
   "id": "6cbd6c88",
   "metadata": {},
   "outputs": [
    {
     "ename": "TypeError",
     "evalue": "float() argument must be a string or a real number, not 'complex'",
     "output_type": "error",
     "traceback": [
      "\u001b[0;31m---------------------------------------------------------------------------\u001b[0m",
      "\u001b[0;31mTypeError\u001b[0m                                 Traceback (most recent call last)",
      "Cell \u001b[0;32mIn[100], line 2\u001b[0m\n\u001b[1;32m      1\u001b[0m \u001b[38;5;66;03m# complex a float -> error\u001b[39;00m\n\u001b[0;32m----> 2\u001b[0m \u001b[38;5;28mfloat\u001b[39m(\u001b[38;5;241m23\u001b[39m\u001b[38;5;241m+\u001b[39m\u001b[38;5;241m1\u001b[39mj)\n",
      "\u001b[0;31mTypeError\u001b[0m: float() argument must be a string or a real number, not 'complex'"
     ]
    }
   ],
   "source": [
    "# complex a float -> error\n",
    "float(23+1j)"
   ]
  },
  {
   "cell_type": "code",
   "execution_count": 101,
   "id": "1a4782c4",
   "metadata": {},
   "outputs": [
    {
     "data": {
      "text/plain": [
       "1.0"
      ]
     },
     "execution_count": 101,
     "metadata": {},
     "output_type": "execute_result"
    }
   ],
   "source": [
    "# bool a float\n",
    "float(True)"
   ]
  },
  {
   "cell_type": "code",
   "execution_count": 102,
   "id": "362c2291",
   "metadata": {},
   "outputs": [
    {
     "data": {
      "text/plain": [
       "804.0048"
      ]
     },
     "execution_count": 102,
     "metadata": {},
     "output_type": "execute_result"
    }
   ],
   "source": [
    "# string a float\n",
    "float(\"804.0048\")"
   ]
  },
  {
   "cell_type": "code",
   "execution_count": 103,
   "id": "6670cbeb",
   "metadata": {},
   "outputs": [
    {
     "data": {
      "text/plain": [
       "804.0"
      ]
     },
     "execution_count": 103,
     "metadata": {},
     "output_type": "execute_result"
    }
   ],
   "source": [
    "# string a float\n",
    "float(\"804\")"
   ]
  },
  {
   "cell_type": "code",
   "execution_count": 104,
   "id": "047d125c",
   "metadata": {
    "scrolled": true
   },
   "outputs": [
    {
     "ename": "ValueError",
     "evalue": "could not convert string to float: '804t'",
     "output_type": "error",
     "traceback": [
      "\u001b[0;31m---------------------------------------------------------------------------\u001b[0m",
      "\u001b[0;31mValueError\u001b[0m                                Traceback (most recent call last)",
      "Cell \u001b[0;32mIn[104], line 2\u001b[0m\n\u001b[1;32m      1\u001b[0m \u001b[38;5;66;03m# string a float -> error\u001b[39;00m\n\u001b[0;32m----> 2\u001b[0m \u001b[38;5;28mfloat\u001b[39m(\u001b[38;5;124m\"\u001b[39m\u001b[38;5;124m804t\u001b[39m\u001b[38;5;124m\"\u001b[39m)\n",
      "\u001b[0;31mValueError\u001b[0m: could not convert string to float: '804t'"
     ]
    }
   ],
   "source": [
    "# string a float -> error\n",
    "float(\"804t\")"
   ]
  },
  {
   "cell_type": "code",
   "execution_count": 105,
   "id": "ca1be24f",
   "metadata": {},
   "outputs": [
    {
     "ename": "ValueError",
     "evalue": "could not convert string to float: 'True'",
     "output_type": "error",
     "traceback": [
      "\u001b[0;31m---------------------------------------------------------------------------\u001b[0m",
      "\u001b[0;31mValueError\u001b[0m                                Traceback (most recent call last)",
      "Cell \u001b[0;32mIn[105], line 2\u001b[0m\n\u001b[1;32m      1\u001b[0m \u001b[38;5;66;03m# string a float -> error\u001b[39;00m\n\u001b[0;32m----> 2\u001b[0m \u001b[38;5;28mfloat\u001b[39m(\u001b[38;5;124m\"\u001b[39m\u001b[38;5;124mTrue\u001b[39m\u001b[38;5;124m\"\u001b[39m)\n",
      "\u001b[0;31mValueError\u001b[0m: could not convert string to float: 'True'"
     ]
    }
   ],
   "source": [
    "# string a float -> error\n",
    "float(\"True\")"
   ]
  },
  {
   "cell_type": "code",
   "execution_count": 108,
   "id": "b8338e24",
   "metadata": {},
   "outputs": [
    {
     "data": {
      "text/plain": [
       "1.0"
      ]
     },
     "execution_count": 108,
     "metadata": {},
     "output_type": "execute_result"
    }
   ],
   "source": [
    "# string a float\n",
    "float(bool(\"True\"))"
   ]
  },
  {
   "cell_type": "markdown",
   "id": "8d8ce446",
   "metadata": {},
   "source": [
    "### complex"
   ]
  },
  {
   "cell_type": "code",
   "execution_count": 112,
   "id": "e8ec71e5",
   "metadata": {},
   "outputs": [
    {
     "data": {
      "text/plain": [
       "(42+0j)"
      ]
     },
     "execution_count": 112,
     "metadata": {},
     "output_type": "execute_result"
    }
   ],
   "source": [
    "# int a complex\n",
    "complex(42)"
   ]
  },
  {
   "cell_type": "code",
   "execution_count": 113,
   "id": "f21214e3",
   "metadata": {},
   "outputs": [
    {
     "data": {
      "text/plain": [
       "(42.08235+0j)"
      ]
     },
     "execution_count": 113,
     "metadata": {},
     "output_type": "execute_result"
    }
   ],
   "source": [
    "# floar a complex\n",
    "complex(42.08235)"
   ]
  },
  {
   "cell_type": "code",
   "execution_count": 114,
   "id": "8d6e5290",
   "metadata": {},
   "outputs": [
    {
     "data": {
      "text/plain": [
       "(1+0j)"
      ]
     },
     "execution_count": 114,
     "metadata": {},
     "output_type": "execute_result"
    }
   ],
   "source": [
    "# bool a complex\n",
    "complex(True)"
   ]
  },
  {
   "cell_type": "code",
   "execution_count": 115,
   "id": "719a9a1c",
   "metadata": {},
   "outputs": [
    {
     "data": {
      "text/plain": [
       "(42+0j)"
      ]
     },
     "execution_count": 115,
     "metadata": {},
     "output_type": "execute_result"
    }
   ],
   "source": [
    "# string a complex\n",
    "complex(\"42\")"
   ]
  },
  {
   "cell_type": "code",
   "execution_count": 116,
   "id": "e3e2eef6",
   "metadata": {},
   "outputs": [
    {
     "data": {
      "text/plain": [
       "(42.987+0j)"
      ]
     },
     "execution_count": 116,
     "metadata": {},
     "output_type": "execute_result"
    }
   ],
   "source": [
    "# string a complex\n",
    "complex(\"42.987\")"
   ]
  },
  {
   "cell_type": "code",
   "execution_count": 117,
   "id": "8c760b8c",
   "metadata": {},
   "outputs": [
    {
     "ename": "ValueError",
     "evalue": "complex() arg is a malformed string",
     "output_type": "error",
     "traceback": [
      "\u001b[0;31m---------------------------------------------------------------------------\u001b[0m",
      "\u001b[0;31mValueError\u001b[0m                                Traceback (most recent call last)",
      "Cell \u001b[0;32mIn[117], line 2\u001b[0m\n\u001b[1;32m      1\u001b[0m \u001b[38;5;66;03m# string a complex -> error\u001b[39;00m\n\u001b[0;32m----> 2\u001b[0m \u001b[38;5;28mcomplex\u001b[39m(\u001b[38;5;124m\"\u001b[39m\u001b[38;5;124mPython\u001b[39m\u001b[38;5;124m\"\u001b[39m)\n",
      "\u001b[0;31mValueError\u001b[0m: complex() arg is a malformed string"
     ]
    }
   ],
   "source": [
    "# string a complex -> error\n",
    "complex(\"Python\")"
   ]
  },
  {
   "cell_type": "code",
   "execution_count": 120,
   "id": "ce8d46a4",
   "metadata": {},
   "outputs": [
    {
     "data": {
      "text/plain": [
       "10j"
      ]
     },
     "execution_count": 120,
     "metadata": {},
     "output_type": "execute_result"
    }
   ],
   "source": [
    "# string a complex\n",
    "complex(\"10j\")"
   ]
  },
  {
   "cell_type": "markdown",
   "id": "8398f123",
   "metadata": {},
   "source": [
    "### bool"
   ]
  },
  {
   "cell_type": "code",
   "execution_count": 122,
   "id": "6f0605b3",
   "metadata": {},
   "outputs": [
    {
     "data": {
      "text/plain": [
       "True"
      ]
     },
     "execution_count": 122,
     "metadata": {},
     "output_type": "execute_result"
    }
   ],
   "source": [
    "# int a bool\n",
    "bool(42)"
   ]
  },
  {
   "cell_type": "code",
   "execution_count": 123,
   "id": "fedca797",
   "metadata": {},
   "outputs": [
    {
     "data": {
      "text/plain": [
       "False"
      ]
     },
     "execution_count": 123,
     "metadata": {},
     "output_type": "execute_result"
    }
   ],
   "source": [
    "# int a bool\n",
    "bool(0)"
   ]
  },
  {
   "cell_type": "code",
   "execution_count": 124,
   "id": "ceeee51b",
   "metadata": {},
   "outputs": [
    {
     "data": {
      "text/plain": [
       "True"
      ]
     },
     "execution_count": 124,
     "metadata": {},
     "output_type": "execute_result"
    }
   ],
   "source": [
    "# float a bool\n",
    "bool(3.7)"
   ]
  },
  {
   "cell_type": "code",
   "execution_count": 125,
   "id": "b6488ef7",
   "metadata": {},
   "outputs": [
    {
     "data": {
      "text/plain": [
       "True"
      ]
     },
     "execution_count": 125,
     "metadata": {},
     "output_type": "execute_result"
    }
   ],
   "source": [
    "# int a bool\n",
    "bool(-42)"
   ]
  },
  {
   "cell_type": "code",
   "execution_count": 126,
   "id": "5294e424",
   "metadata": {},
   "outputs": [
    {
     "data": {
      "text/plain": [
       "True"
      ]
     },
     "execution_count": 126,
     "metadata": {},
     "output_type": "execute_result"
    }
   ],
   "source": [
    "# float a bool\n",
    "bool(0.0007)"
   ]
  },
  {
   "cell_type": "code",
   "execution_count": 127,
   "id": "54ddaea4",
   "metadata": {},
   "outputs": [
    {
     "data": {
      "text/plain": [
       "False"
      ]
     },
     "execution_count": 127,
     "metadata": {},
     "output_type": "execute_result"
    }
   ],
   "source": [
    "# complex a bool\n",
    "bool(0+0j)"
   ]
  },
  {
   "cell_type": "code",
   "execution_count": 128,
   "id": "d7c00e9e",
   "metadata": {},
   "outputs": [
    {
     "data": {
      "text/plain": [
       "True"
      ]
     },
     "execution_count": 128,
     "metadata": {},
     "output_type": "execute_result"
    }
   ],
   "source": [
    "# complex a bool\n",
    "bool(0+1j)"
   ]
  },
  {
   "cell_type": "code",
   "execution_count": 129,
   "id": "3221fbc9",
   "metadata": {},
   "outputs": [
    {
     "data": {
      "text/plain": [
       "True"
      ]
     },
     "execution_count": 129,
     "metadata": {},
     "output_type": "execute_result"
    }
   ],
   "source": [
    "# string a bool\n",
    "bool(\"Python\")"
   ]
  },
  {
   "cell_type": "code",
   "execution_count": 130,
   "id": "ccfcd9d0",
   "metadata": {},
   "outputs": [
    {
     "data": {
      "text/plain": [
       "True"
      ]
     },
     "execution_count": 130,
     "metadata": {},
     "output_type": "execute_result"
    }
   ],
   "source": [
    "# string a bool\n",
    "bool(\" \")"
   ]
  },
  {
   "cell_type": "code",
   "execution_count": 131,
   "id": "75a1c6c1",
   "metadata": {},
   "outputs": [
    {
     "data": {
      "text/plain": [
       "False"
      ]
     },
     "execution_count": 131,
     "metadata": {},
     "output_type": "execute_result"
    }
   ],
   "source": [
    "# string a bool\n",
    "bool(\"\")"
   ]
  },
  {
   "cell_type": "markdown",
   "id": "dcc22104",
   "metadata": {},
   "source": [
    "### str"
   ]
  },
  {
   "cell_type": "code",
   "execution_count": 132,
   "id": "338300ee",
   "metadata": {},
   "outputs": [
    {
     "data": {
      "text/plain": [
       "'32'"
      ]
     },
     "execution_count": 132,
     "metadata": {},
     "output_type": "execute_result"
    }
   ],
   "source": [
    "# int a str\n",
    "str(32)"
   ]
  },
  {
   "cell_type": "code",
   "execution_count": 133,
   "id": "064df96a",
   "metadata": {},
   "outputs": [
    {
     "data": {
      "text/plain": [
       "'982734.424'"
      ]
     },
     "execution_count": 133,
     "metadata": {},
     "output_type": "execute_result"
    }
   ],
   "source": [
    "# float a str\n",
    "str(982734.424)"
   ]
  },
  {
   "cell_type": "code",
   "execution_count": 134,
   "id": "5d49ca5d",
   "metadata": {},
   "outputs": [
    {
     "data": {
      "text/plain": [
       "'(4+9j)'"
      ]
     },
     "execution_count": 134,
     "metadata": {},
     "output_type": "execute_result"
    }
   ],
   "source": [
    "# complex a str\n",
    "str(4+9j)"
   ]
  },
  {
   "cell_type": "code",
   "execution_count": 135,
   "id": "27c08a14",
   "metadata": {},
   "outputs": [
    {
     "data": {
      "text/plain": [
       "'True'"
      ]
     },
     "execution_count": 135,
     "metadata": {},
     "output_type": "execute_result"
    }
   ],
   "source": [
    "# bool a str\n",
    "str(True)"
   ]
  },
  {
   "cell_type": "markdown",
   "id": "6b9633c6",
   "metadata": {},
   "source": [
    "# Funciones Básicas"
   ]
  },
  {
   "cell_type": "markdown",
   "id": "7368ff02",
   "metadata": {},
   "source": [
    "## trunc()"
   ]
  },
  {
   "cell_type": "code",
   "execution_count": 137,
   "id": "f7615696",
   "metadata": {},
   "outputs": [
    {
     "name": "stdout",
     "output_type": "stream",
     "text": [
      "n1:  4.23\n",
      "n2:  4.3\n",
      "n3:  4.98\n",
      "n4:  4.000023\n"
     ]
    }
   ],
   "source": [
    "n1 = 4.23\n",
    "n2 = 4.3\n",
    "n3 = 4.98\n",
    "n4 = 4.000023\n",
    "print(\"n1: \", n1)\n",
    "print(\"n2: \", n2)\n",
    "print(\"n3: \", n3)\n",
    "print(\"n4: \", n4)"
   ]
  },
  {
   "cell_type": "code",
   "execution_count": 139,
   "id": "99ebb9e9",
   "metadata": {},
   "outputs": [
    {
     "name": "stdout",
     "output_type": "stream",
     "text": [
      "trunc(n1):  4\n",
      "trunc(n2):  4\n",
      "trunc(n3):  4\n",
      "trunc(n4):  4\n"
     ]
    }
   ],
   "source": [
    "from math import trunc\n",
    "n1 = 4.23\n",
    "n2 = 4.3\n",
    "n3 = 4.98\n",
    "n4 = 4.000023\n",
    "print(\"trunc(n1): \", trunc(n1))\n",
    "print(\"trunc(n2): \", trunc(n2))\n",
    "print(\"trunc(n3): \", trunc(n3))\n",
    "print(\"trunc(n4): \", trunc(n4))"
   ]
  },
  {
   "cell_type": "markdown",
   "id": "fca6f50f",
   "metadata": {},
   "source": [
    "## round(), ceil() y floor()"
   ]
  },
  {
   "cell_type": "code",
   "execution_count": 142,
   "id": "27465df5",
   "metadata": {},
   "outputs": [
    {
     "name": "stdout",
     "output_type": "stream",
     "text": [
      "round(n1):  5\n",
      "round(n2):  4\n",
      "round(n3):  5\n",
      "round(n4):  4\n"
     ]
    }
   ],
   "source": [
    "# round()\n",
    "\n",
    "n1 = 4.59\n",
    "n2 = 4.3\n",
    "n3 = 4.98\n",
    "n4 = 4.000023\n",
    "print(\"round(n1): \", round(n1))\n",
    "print(\"round(n2): \", round(n2))\n",
    "print(\"round(n3): \", round(n3))\n",
    "print(\"round(n4): \", round(n4))"
   ]
  },
  {
   "cell_type": "code",
   "execution_count": 143,
   "id": "f7650436",
   "metadata": {},
   "outputs": [
    {
     "name": "stdout",
     "output_type": "stream",
     "text": [
      "ceil(n1):  5\n",
      "ceil(n2):  5\n",
      "ceil(n3):  5\n",
      "ceil(n4):  5\n"
     ]
    }
   ],
   "source": [
    "# ceil()\n",
    "\n",
    "from math import ceil\n",
    "n1 = 4.59\n",
    "n2 = 4.3\n",
    "n3 = 4.98\n",
    "n4 = 4.000023\n",
    "print(\"ceil(n1): \", ceil(n1))\n",
    "print(\"ceil(n2): \", ceil(n2))\n",
    "print(\"ceil(n3): \", ceil(n3))\n",
    "print(\"ceil(n4): \", ceil(n4))"
   ]
  },
  {
   "cell_type": "code",
   "execution_count": 144,
   "id": "fa4b53b3",
   "metadata": {},
   "outputs": [
    {
     "name": "stdout",
     "output_type": "stream",
     "text": [
      "floor(n1):  4\n",
      "floor(n2):  4\n",
      "floor(n3):  4\n",
      "floor(n4):  4\n"
     ]
    }
   ],
   "source": [
    "# floor()\n",
    "\n",
    "from math import floor\n",
    "n1 = 4.59\n",
    "n2 = 4.3\n",
    "n3 = 4.98\n",
    "n4 = 4.000023\n",
    "print(\"floor(n1): \", floor(n1))\n",
    "print(\"floor(n2): \", floor(n2))\n",
    "print(\"floor(n3): \", floor(n3))\n",
    "print(\"floor(n4): \", floor(n4))"
   ]
  },
  {
   "cell_type": "markdown",
   "id": "9750744b",
   "metadata": {},
   "source": [
    "## % "
   ]
  },
  {
   "cell_type": "code",
   "execution_count": 148,
   "id": "e192b643",
   "metadata": {},
   "outputs": [
    {
     "name": "stdout",
     "output_type": "stream",
     "text": [
      "'%.2f' % (n1):  4.59\n",
      "'%.3f' % (n2):  4.300\n",
      "'%.4f' % (n3):  4.9800\n",
      "'%.5f' % (n4):  4.00002\n"
     ]
    }
   ],
   "source": [
    "n1 = 4.59\n",
    "n2 = 4.3\n",
    "n3 = 4.98\n",
    "n4 = 4.000023\n",
    "print(\"'%.2f' % (n1): \", '%.2f' % (n1))\n",
    "print(\"'%.3f' % (n2): \", '%.3f' % (n2))\n",
    "print(\"'%.4f' % (n3): \", '%.4f' % (n3))\n",
    "print(\"'%.5f' % (n4): \", '%.5f' % (n4))"
   ]
  },
  {
   "cell_type": "markdown",
   "id": "1d9a2866",
   "metadata": {},
   "source": [
    "## format()"
   ]
  },
  {
   "cell_type": "code",
   "execution_count": 149,
   "id": "0f64e334",
   "metadata": {},
   "outputs": [
    {
     "name": "stdout",
     "output_type": "stream",
     "text": [
      "'{:.2f}' .format(n1):  4.59\n",
      "'{:.3f}' .format(n2):  4.300\n",
      "'{:.4f}' .format(n3):  4.0000\n",
      "'{:.5f}' .format(n4):  4.00002\n"
     ]
    }
   ],
   "source": [
    "n1 = 4.59\n",
    "n2 = 4.3\n",
    "n3 = 4.98\n",
    "n4 = 4.000023\n",
    "print(\"'{:.2f}' .format(n1): \", '{:.2f}' .format(n1))\n",
    "print(\"'{:.3f}' .format(n2): \", '{:.3f}' .format(n2))\n",
    "print(\"'{:.4f}' .format(n3): \", '{:.4f}' .format(n4))\n",
    "print(\"'{:.5f}' .format(n4): \", '{:.5f}' .format(n4))"
   ]
  },
  {
   "cell_type": "code",
   "execution_count": null,
   "id": "86d56025",
   "metadata": {},
   "outputs": [],
   "source": []
  }
 ],
 "metadata": {
  "kernelspec": {
   "display_name": "Python 3 (ipykernel)",
   "language": "python",
   "name": "python3"
  },
  "language_info": {
   "codemirror_mode": {
    "name": "ipython",
    "version": 3
   },
   "file_extension": ".py",
   "mimetype": "text/x-python",
   "name": "python",
   "nbconvert_exporter": "python",
   "pygments_lexer": "ipython3",
   "version": "3.11.5"
  }
 },
 "nbformat": 4,
 "nbformat_minor": 5
}

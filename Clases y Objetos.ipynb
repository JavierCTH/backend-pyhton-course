{
 "cells": [
  {
   "cell_type": "markdown",
   "id": "b77742f6",
   "metadata": {},
   "source": [
    "# Intro\n",
    "\n",
    "Imagina un carro\n",
    "\n",
    "Carro - Objeto\n",
    "\n",
    "Molde de carro - Clase"
   ]
  },
  {
   "cell_type": "code",
   "execution_count": 1,
   "id": "d9f04f82",
   "metadata": {},
   "outputs": [],
   "source": [
    "# Molde\n",
    "\n",
    "class Car:\n",
    "    make = \"Tesla\"\n",
    "    model = \"M3\"\n",
    "    year = \"2022\"\n",
    "    \n",
    "    def turn_on():\n",
    "        pass\n",
    "    \n",
    "    def turn_off():\n",
    "        pass"
   ]
  },
  {
   "cell_type": "markdown",
   "id": "191cfc9a",
   "metadata": {},
   "source": [
    "Clases = moldes\n",
    "\n",
    "De tal forma que se puede usar ese mismo molde para crear muchos objetos\n",
    "\n",
    "Objeto/Instancia = agrupación de métodos y atributos"
   ]
  },
  {
   "cell_type": "code",
   "execution_count": 2,
   "id": "06cbdc11",
   "metadata": {},
   "outputs": [],
   "source": [
    "# Objeto/Instancia\n",
    "\n",
    "car1 = Car()\n",
    "car2 = Car()\n",
    "car3 = Car()"
   ]
  },
  {
   "cell_type": "code",
   "execution_count": 3,
   "id": "f11bdd32",
   "metadata": {},
   "outputs": [
    {
     "data": {
      "text/plain": [
       "['__class__',\n",
       " '__delattr__',\n",
       " '__dict__',\n",
       " '__dir__',\n",
       " '__doc__',\n",
       " '__eq__',\n",
       " '__format__',\n",
       " '__ge__',\n",
       " '__getattribute__',\n",
       " '__getstate__',\n",
       " '__gt__',\n",
       " '__hash__',\n",
       " '__init__',\n",
       " '__init_subclass__',\n",
       " '__le__',\n",
       " '__lt__',\n",
       " '__module__',\n",
       " '__ne__',\n",
       " '__new__',\n",
       " '__reduce__',\n",
       " '__reduce_ex__',\n",
       " '__repr__',\n",
       " '__setattr__',\n",
       " '__sizeof__',\n",
       " '__str__',\n",
       " '__subclasshook__',\n",
       " '__weakref__',\n",
       " 'make',\n",
       " 'model',\n",
       " 'turn_off',\n",
       " 'turn_on',\n",
       " 'year']"
      ]
     },
     "execution_count": 3,
     "metadata": {},
     "output_type": "execute_result"
    }
   ],
   "source": [
    "dir(car1)"
   ]
  },
  {
   "cell_type": "markdown",
   "id": "424451ef",
   "metadata": {},
   "source": [
    "# Creando Clases"
   ]
  },
  {
   "cell_type": "code",
   "execution_count": 7,
   "id": "17ff7a5f",
   "metadata": {},
   "outputs": [],
   "source": [
    "class Car:\n",
    "    \n",
    "    def __init__(self, make, model, year): # constructor\n",
    "        self.make = make\n",
    "        self.model = model\n",
    "        self.year = year\n",
    "        print (\"Una instancia de la clase se ha creado exitosamente\")\n",
    "        \n",
    "    def print_attributes(self):\n",
    "        print(\"Marca: \", self.make)\n",
    "        print(\"Model: \", self.model)\n",
    "        print(\"Año: \", self.year)"
   ]
  },
  {
   "cell_type": "markdown",
   "id": "7709932a",
   "metadata": {},
   "source": [
    "# Creando Objetos"
   ]
  },
  {
   "cell_type": "code",
   "execution_count": 8,
   "id": "45f1ec91",
   "metadata": {},
   "outputs": [
    {
     "name": "stdout",
     "output_type": "stream",
     "text": [
      "Una instancia de la clase se ha creado exitosamente\n"
     ]
    }
   ],
   "source": [
    "car1 = Car(\"Tesla\", \"M3\", \"2020\")"
   ]
  },
  {
   "cell_type": "code",
   "execution_count": 10,
   "id": "fe1fe526",
   "metadata": {},
   "outputs": [
    {
     "name": "stdout",
     "output_type": "stream",
     "text": [
      "Marca:  Tesla\n",
      "Model:  M3\n",
      "Año:  2020\n"
     ]
    }
   ],
   "source": [
    "car1.print_attributes()"
   ]
  },
  {
   "cell_type": "code",
   "execution_count": 11,
   "id": "36e01c68",
   "metadata": {},
   "outputs": [
    {
     "name": "stdout",
     "output_type": "stream",
     "text": [
      "Una instancia de la clase se ha creado exitosamente\n"
     ]
    }
   ],
   "source": [
    "car2 = Car(\"GTM\", \"H8\", \"2050\")"
   ]
  },
  {
   "cell_type": "code",
   "execution_count": 13,
   "id": "1ed0a7b1",
   "metadata": {},
   "outputs": [
    {
     "name": "stdout",
     "output_type": "stream",
     "text": [
      "Marca:  GTM\n",
      "Model:  H8\n",
      "Año:  2050\n"
     ]
    }
   ],
   "source": [
    "car2.print_attributes()"
   ]
  },
  {
   "cell_type": "markdown",
   "id": "2bf9fa2e",
   "metadata": {},
   "source": [
    "# Accediendo a los atributos"
   ]
  },
  {
   "cell_type": "code",
   "execution_count": 14,
   "id": "3eeb58f4",
   "metadata": {},
   "outputs": [
    {
     "name": "stdout",
     "output_type": "stream",
     "text": [
      "Marca:  GTM\n",
      "Model:  H8\n",
      "Año:  2050\n"
     ]
    }
   ],
   "source": [
    "car2.print_attributes()"
   ]
  },
  {
   "cell_type": "code",
   "execution_count": 15,
   "id": "f19cf3cf",
   "metadata": {},
   "outputs": [
    {
     "data": {
      "text/plain": [
       "['__class__',\n",
       " '__delattr__',\n",
       " '__dict__',\n",
       " '__dir__',\n",
       " '__doc__',\n",
       " '__eq__',\n",
       " '__format__',\n",
       " '__ge__',\n",
       " '__getattribute__',\n",
       " '__getstate__',\n",
       " '__gt__',\n",
       " '__hash__',\n",
       " '__init__',\n",
       " '__init_subclass__',\n",
       " '__le__',\n",
       " '__lt__',\n",
       " '__module__',\n",
       " '__ne__',\n",
       " '__new__',\n",
       " '__reduce__',\n",
       " '__reduce_ex__',\n",
       " '__repr__',\n",
       " '__setattr__',\n",
       " '__sizeof__',\n",
       " '__str__',\n",
       " '__subclasshook__',\n",
       " '__weakref__',\n",
       " 'make',\n",
       " 'model',\n",
       " 'print_attributes',\n",
       " 'year']"
      ]
     },
     "execution_count": 15,
     "metadata": {},
     "output_type": "execute_result"
    }
   ],
   "source": [
    "dir(car2)"
   ]
  },
  {
   "cell_type": "code",
   "execution_count": 16,
   "id": "ef041cea",
   "metadata": {},
   "outputs": [
    {
     "name": "stdout",
     "output_type": "stream",
     "text": [
      "GTM\n"
     ]
    }
   ],
   "source": [
    "print(car2.make)"
   ]
  },
  {
   "cell_type": "code",
   "execution_count": 17,
   "id": "12ad4750",
   "metadata": {},
   "outputs": [
    {
     "name": "stdout",
     "output_type": "stream",
     "text": [
      "2020\n"
     ]
    }
   ],
   "source": [
    "print(car1.year)"
   ]
  },
  {
   "cell_type": "markdown",
   "id": "2c5e96ae",
   "metadata": {},
   "source": [
    "# Variables de clase"
   ]
  },
  {
   "cell_type": "code",
   "execution_count": 18,
   "id": "57e0504e",
   "metadata": {},
   "outputs": [],
   "source": [
    "class Car:\n",
    "    opus = 0\n",
    "    \n",
    "    def __init__(self, make, model, year): # constructor\n",
    "        Car.opus += 1\n",
    "        self.make = make\n",
    "        self.model = model\n",
    "        self.year = year\n",
    "        print (\"Una instancia de la clase se ha creado exitosamente\")\n",
    "        \n",
    "    def print_attributes(self):\n",
    "        print(\"Marca: \", self.make)\n",
    "        print(\"Model: \", self.model)\n",
    "        print(\"Año: \", self.year)"
   ]
  },
  {
   "cell_type": "code",
   "execution_count": 19,
   "id": "928eb224",
   "metadata": {},
   "outputs": [
    {
     "name": "stdout",
     "output_type": "stream",
     "text": [
      "Una instancia de la clase se ha creado exitosamente\n",
      "Una instancia de la clase se ha creado exitosamente\n"
     ]
    }
   ],
   "source": [
    "car1 = Car(\"Tesla\", \"M3\", \"2020\")\n",
    "car2 = Car(\"GTM\", \"H8\", \"2050\")"
   ]
  },
  {
   "cell_type": "code",
   "execution_count": 25,
   "id": "9322fe58",
   "metadata": {},
   "outputs": [
    {
     "name": "stdout",
     "output_type": "stream",
     "text": [
      "Hay 4 opus creados\n"
     ]
    }
   ],
   "source": [
    "print(\"Hay\", Car.opus, \"opus creados\")"
   ]
  },
  {
   "cell_type": "code",
   "execution_count": 26,
   "id": "610d68b3",
   "metadata": {},
   "outputs": [
    {
     "name": "stdout",
     "output_type": "stream",
     "text": [
      "Una instancia de la clase se ha creado exitosamente\n"
     ]
    }
   ],
   "source": [
    "car3 = Car(\"Dod\", \"Y4\", \"2032\")"
   ]
  },
  {
   "cell_type": "code",
   "execution_count": 27,
   "id": "1ccb2e7e",
   "metadata": {},
   "outputs": [
    {
     "name": "stdout",
     "output_type": "stream",
     "text": [
      "Hay 5 opus creados\n"
     ]
    }
   ],
   "source": [
    "print(\"Hay\", Car.opus, \"opus creados\")"
   ]
  },
  {
   "cell_type": "markdown",
   "id": "509afb6f",
   "metadata": {},
   "source": [
    "# Garbage collection"
   ]
  },
  {
   "cell_type": "code",
   "execution_count": 28,
   "id": "88fe74d2",
   "metadata": {},
   "outputs": [],
   "source": [
    "class Car:\n",
    "    total = 0\n",
    "    \n",
    "    def __init__(self, make, model, year): # constructor\n",
    "        Car.total += 1\n",
    "        self.make = make\n",
    "        self.model = model\n",
    "        self.year = year\n",
    "        print (\"Una instancia de la clase se ha creado exitosamente\")\n",
    "        \n",
    "    def __del__(self):\n",
    "            Car.total -= 1\n",
    "        \n",
    "    def print_attributes(self):\n",
    "        print(\"Marca: \", self.make)\n",
    "        print(\"Model: \", self.model)\n",
    "        print(\"Año: \", self.year)"
   ]
  },
  {
   "cell_type": "code",
   "execution_count": 29,
   "id": "3515b3e0",
   "metadata": {},
   "outputs": [
    {
     "name": "stdout",
     "output_type": "stream",
     "text": [
      "Una instancia de la clase se ha creado exitosamente\n",
      "Una instancia de la clase se ha creado exitosamente\n",
      "Una instancia de la clase se ha creado exitosamente\n",
      "Una instancia de la clase se ha creado exitosamente\n"
     ]
    }
   ],
   "source": [
    "car1 = Car(\"Tesla\", \"M3\", \"2020\")\n",
    "car2 = Car(\"GTM\", \"H8\", \"2050\")\n",
    "car3 = Car(\"Dod\", \"Y4\", \"2032\")\n",
    "car4 = Car(\"Chev\", \"On\", \"2090\")"
   ]
  },
  {
   "cell_type": "code",
   "execution_count": 30,
   "id": "9991dc43",
   "metadata": {},
   "outputs": [
    {
     "name": "stdout",
     "output_type": "stream",
     "text": [
      "Hay 4 opus creados\n"
     ]
    }
   ],
   "source": [
    "print(\"Hay\", Car.total, \"opus creados\")"
   ]
  },
  {
   "cell_type": "code",
   "execution_count": 31,
   "id": "83a30bbc",
   "metadata": {},
   "outputs": [],
   "source": [
    "del car4"
   ]
  },
  {
   "cell_type": "code",
   "execution_count": 33,
   "id": "056f8ef8",
   "metadata": {},
   "outputs": [
    {
     "name": "stdout",
     "output_type": "stream",
     "text": [
      "Hay 3 opus creados\n"
     ]
    }
   ],
   "source": [
    "print(\"Hay\", Car.total, \"opus creados\")"
   ]
  },
  {
   "cell_type": "markdown",
   "id": "f57aca59",
   "metadata": {},
   "source": [
    "# Herencia"
   ]
  },
  {
   "cell_type": "code",
   "execution_count": 11,
   "id": "e6dbbac5",
   "metadata": {},
   "outputs": [],
   "source": [
    "class Car:\n",
    "    super_attribute = \"Atributo de la super clase / daddy\"\n",
    "    def __init__ (self):\n",
    "        print (\"Inicializacion de la super clase / daddy\")\n",
    "    def super_method(self):\n",
    "        print (\"Método de la super clase / daddy\")\n",
    "\n",
    "class CollectionCar(Car): # children\n",
    "    sub_attribute = \"Atributo de la sub clase / child\"\n",
    "    def __init__ (self):\n",
    "        print (\"Inicializacion de la sub clase / child\")\n",
    "    def sub_method(self):\n",
    "        print (\"Método de la sub clase / child\")"
   ]
  },
  {
   "cell_type": "code",
   "execution_count": 12,
   "id": "a8eb38bf",
   "metadata": {},
   "outputs": [
    {
     "name": "stdout",
     "output_type": "stream",
     "text": [
      "Inicializacion de la sub clase / child\n"
     ]
    }
   ],
   "source": [
    "sub_car = CollectionCar()"
   ]
  },
  {
   "cell_type": "code",
   "execution_count": 15,
   "id": "6c3e6523",
   "metadata": {},
   "outputs": [
    {
     "name": "stdout",
     "output_type": "stream",
     "text": [
      "Método de la super clase / daddy\n",
      "Método de la sub clase / child\n",
      "Atributo de la super clase / daddy\n",
      "Atributo de la sub clase / child\n"
     ]
    }
   ],
   "source": [
    "sub_car.super_method()\n",
    "sub_car.sub_method()\n",
    "print(sub_car.super_attribute)\n",
    "print(sub_car.sub_attribute)"
   ]
  },
  {
   "cell_type": "markdown",
   "id": "7ab489fd",
   "metadata": {},
   "source": [
    "## Usando subClase como superClase"
   ]
  },
  {
   "cell_type": "code",
   "execution_count": 16,
   "id": "544e9972",
   "metadata": {},
   "outputs": [],
   "source": [
    "class Car:\n",
    "    super_attribute = \"Atributo de la super clase / daddy\"\n",
    "    def __init__ (self):\n",
    "        print (\"Inicializacion de la super clase / daddy\")\n",
    "    def super_method(self):\n",
    "        print (\"Método de la super clase / daddy\")\n",
    "\n",
    "class CollectionCar(Car): # children\n",
    "    sub_attribute = \"Atributo de la sub clase / child\"\n",
    "    def __init__ (self):\n",
    "        print (\"Inicializacion de la sub clase / child\")\n",
    "    def sub_method(self):\n",
    "        print (\"Método de la sub clase / child\")\n",
    "        \n",
    "class SubCollectionCar(CollectionCar): # grandchildren\n",
    "    sub_sub_attribute = \"Atributo de la sub clase / gd\"\n",
    "    def __init__ (self):\n",
    "        print (\"Inicializacion de la sub clase / gd\")\n",
    "    def sub_sub_method(self):\n",
    "        print (\"Método de la sub clase / gd\")"
   ]
  },
  {
   "cell_type": "code",
   "execution_count": 17,
   "id": "a62dffe0",
   "metadata": {},
   "outputs": [
    {
     "name": "stdout",
     "output_type": "stream",
     "text": [
      "Inicializacion de la sub clase / gd\n"
     ]
    }
   ],
   "source": [
    "sub_sub_car = SubCollectionCar()"
   ]
  },
  {
   "cell_type": "code",
   "execution_count": 18,
   "id": "89209957",
   "metadata": {},
   "outputs": [
    {
     "name": "stdout",
     "output_type": "stream",
     "text": [
      "Método de la super clase / daddy\n",
      "Método de la sub clase / child\n",
      "Método de la sub clase / gd\n",
      "Atributo de la super clase / daddy\n",
      "Atributo de la sub clase / child\n",
      "Atributo de la sub clase / gd\n"
     ]
    }
   ],
   "source": [
    "sub_sub_car.super_method()\n",
    "sub_sub_car.sub_method()\n",
    "sub_sub_car.sub_sub_method()\n",
    "print(sub_sub_car.super_attribute)\n",
    "print(sub_sub_car.sub_attribute)\n",
    "print(sub_sub_car.sub_sub_attribute)"
   ]
  },
  {
   "cell_type": "code",
   "execution_count": null,
   "id": "fa1ed17a",
   "metadata": {},
   "outputs": [],
   "source": []
  },
  {
   "cell_type": "code",
   "execution_count": null,
   "id": "c9211a6f",
   "metadata": {},
   "outputs": [],
   "source": []
  }
 ],
 "metadata": {
  "kernelspec": {
   "display_name": "Python 3 (ipykernel)",
   "language": "python",
   "name": "python3"
  },
  "language_info": {
   "codemirror_mode": {
    "name": "ipython",
    "version": 3
   },
   "file_extension": ".py",
   "mimetype": "text/x-python",
   "name": "python",
   "nbconvert_exporter": "python",
   "pygments_lexer": "ipython3",
   "version": "3.11.5"
  }
 },
 "nbformat": 4,
 "nbformat_minor": 5
}

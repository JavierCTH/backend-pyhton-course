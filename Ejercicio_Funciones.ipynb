{
 "cells": [
  {
   "cell_type": "code",
   "execution_count": 3,
   "id": "90b3b81d",
   "metadata": {},
   "outputs": [
    {
     "name": "stdout",
     "output_type": "stream",
     "text": [
      "Menu: \n",
      "\n",
      "1 -> Brownie : $63\n",
      "2 -> Cookie : $43\n",
      "3 -> Cake : $80\n",
      "4 -> Blondie : $65\n",
      "\n",
      "Enter the number for the item you want to order (1-4): 3\n",
      "\n",
      "The total of Cake is: $91.98\n"
     ]
    }
   ],
   "source": [
    "def grandTotal(products, prices, tax):\n",
    "    def taxApplied(price, calcTax):\n",
    "        return price * (1 + calcTax/100)\n",
    "\n",
    "    print(\"Menu: \\n\")\n",
    "    for i in range(len(products)):\n",
    "        print(\"{} -> {} : ${}\".format(i+1, products[i], prices[i]))\n",
    "\n",
    "    selection = int(input(\"\\nEnter the number for the item you want to order (1-{}): \".format(len(products))))\n",
    "\n",
    "    \n",
    "    if 1 <= selection <= len(prices):\n",
    "        priceSelected = prices[selection-1]  \n",
    "        finalPrice = taxApplied(priceSelected, tax)\n",
    "        print(\"\\nThe total of {} is: ${}\".format(products[selection-1], finalPrice))\n",
    "\n",
    "    else:\n",
    "        print(\"\\nThis item is not available\")\n",
    "\n",
    "products = [\"Brownie\", \"Cookie\", \"Cake\", \"Blondie\"]\n",
    "prices = [63, 43, 80, 65]\n",
    "tax = 14.975\n",
    "\n",
    "grandTotal(products, prices, tax)"
   ]
  },
  {
   "cell_type": "code",
   "execution_count": null,
   "id": "0df6bd09",
   "metadata": {},
   "outputs": [],
   "source": []
  }
 ],
 "metadata": {
  "kernelspec": {
   "display_name": "Python 3 (ipykernel)",
   "language": "python",
   "name": "python3"
  },
  "language_info": {
   "codemirror_mode": {
    "name": "ipython",
    "version": 3
   },
   "file_extension": ".py",
   "mimetype": "text/x-python",
   "name": "python",
   "nbconvert_exporter": "python",
   "pygments_lexer": "ipython3",
   "version": "3.11.5"
  }
 },
 "nbformat": 4,
 "nbformat_minor": 5
}

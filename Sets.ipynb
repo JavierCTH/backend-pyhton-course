{
 "cells": [
  {
   "cell_type": "markdown",
   "id": "07a2fa6e",
   "metadata": {},
   "source": [
    "## Creación y Modificación de sets"
   ]
  },
  {
   "cell_type": "code",
   "execution_count": 3,
   "id": "f135aaa0",
   "metadata": {},
   "outputs": [
    {
     "name": "stdout",
     "output_type": "stream",
     "text": [
      "<class 'set'>\n",
      "1\n",
      "{'Python'}\n"
     ]
    }
   ],
   "source": [
    "my_set = set()\n",
    "my_set.add(\"Python\")\n",
    "\n",
    "print(type(my_set))\n",
    "print(len(my_set))\n",
    "print(my_set)"
   ]
  },
  {
   "cell_type": "code",
   "execution_count": 4,
   "id": "ba5e8f42",
   "metadata": {},
   "outputs": [],
   "source": [
    "# List []\n",
    "# Tuple ()\n",
    "# Set {}"
   ]
  },
  {
   "cell_type": "code",
   "execution_count": 5,
   "id": "e4900f15",
   "metadata": {},
   "outputs": [
    {
     "name": "stdout",
     "output_type": "stream",
     "text": [
      "<class 'set'>\n",
      "4\n",
      "{'Backend', 23.12, 'Python', 23}\n"
     ]
    }
   ],
   "source": [
    "my_set = set()\n",
    "my_set.add(\"Python\")\n",
    "my_set.update((23, \"Backend\", 23.12))\n",
    "\n",
    "print(type(my_set))\n",
    "print(len(my_set))\n",
    "print(my_set)"
   ]
  },
  {
   "cell_type": "code",
   "execution_count": 6,
   "id": "5d55c44a",
   "metadata": {},
   "outputs": [
    {
     "name": "stdout",
     "output_type": "stream",
     "text": [
      "<class 'set'>\n",
      "5\n",
      "{'Python', 'Backend', 23, 23.12, 'python'}\n"
     ]
    }
   ],
   "source": [
    "my_set = set()\n",
    "my_set.add(\"Python\")\n",
    "my_set.update((23, \"Backend\", 23.12))\n",
    "\n",
    "my_set.add(\"Python\")\n",
    "my_set.add(\"Python\")\n",
    "my_set.add(\"python\")\n",
    "my_set.add(23)\n",
    "\n",
    "print(type(my_set))\n",
    "print(len(my_set))\n",
    "print(my_set)"
   ]
  },
  {
   "cell_type": "markdown",
   "id": "55a83fa3",
   "metadata": {},
   "source": [
    "## Métodos de manipulación"
   ]
  },
  {
   "cell_type": "markdown",
   "id": "59fc7905",
   "metadata": {},
   "source": [
    "### add\n",
    "Agregar un elemento a un set"
   ]
  },
  {
   "cell_type": "code",
   "execution_count": 10,
   "id": "f0ad5742",
   "metadata": {},
   "outputs": [
    {
     "name": "stdout",
     "output_type": "stream",
     "text": [
      "<class 'set'>\n",
      "5\n",
      "{1, 4, 24, 457, 14}\n"
     ]
    }
   ],
   "source": [
    "my_set = {1, 4, 24, 14, 457}\n",
    "\n",
    "print(type(my_set))\n",
    "print(len(my_set))\n",
    "print(my_set)"
   ]
  },
  {
   "cell_type": "code",
   "execution_count": 11,
   "id": "0aa6a68d",
   "metadata": {},
   "outputs": [
    {
     "name": "stdout",
     "output_type": "stream",
     "text": [
      "<class 'set'>\n",
      "7\n",
      "{1, 4, 7, 24, 457, 14, 79}\n"
     ]
    }
   ],
   "source": [
    "my_set.add(4)\n",
    "my_set.add(7)\n",
    "my_set.add(79)\n",
    "\n",
    "print(type(my_set))\n",
    "print(len(my_set))\n",
    "print(my_set)"
   ]
  },
  {
   "cell_type": "markdown",
   "id": "93d981f9",
   "metadata": {},
   "source": [
    "### clear\n",
    "Elimina todos los elementos"
   ]
  },
  {
   "cell_type": "code",
   "execution_count": 12,
   "id": "0e96e8bc",
   "metadata": {},
   "outputs": [
    {
     "name": "stdout",
     "output_type": "stream",
     "text": [
      "<class 'set'>\n",
      "5\n",
      "{1, 4, 24, 457, 14}\n"
     ]
    }
   ],
   "source": [
    "my_set = {1, 4, 24, 14, 457}\n",
    "\n",
    "print(type(my_set))\n",
    "print(len(my_set))\n",
    "print(my_set)"
   ]
  },
  {
   "cell_type": "code",
   "execution_count": 13,
   "id": "04e00c52",
   "metadata": {},
   "outputs": [
    {
     "name": "stdout",
     "output_type": "stream",
     "text": [
      "<class 'set'>\n",
      "0\n",
      "set()\n"
     ]
    }
   ],
   "source": [
    "my_set.clear()\n",
    "print(type(my_set))\n",
    "print(len(my_set))\n",
    "print(my_set)"
   ]
  },
  {
   "cell_type": "markdown",
   "id": "cc30741b",
   "metadata": {},
   "source": [
    "### copy\n",
    "Copia los elementos en un nuevo set"
   ]
  },
  {
   "cell_type": "code",
   "execution_count": 9,
   "id": "7ee890b4",
   "metadata": {},
   "outputs": [
    {
     "name": "stdout",
     "output_type": "stream",
     "text": [
      "<class 'set'>\n",
      "5\n",
      "{1, 4, 24, 457, 14} \n",
      "\n",
      "<class 'set'>\n",
      "5\n",
      "{1, 4, 24, 457, 14} \n",
      "\n",
      "<class 'set'>\n",
      "5\n",
      "{1, 4, 24, 457, 14} \n",
      "\n",
      "<class 'set'>\n",
      "0\n",
      "set() \n",
      "\n"
     ]
    }
   ],
   "source": [
    "my_set = {1, 4, 24, 14, 457}\n",
    "my_set2 = my_set.copy()\n",
    "\n",
    "print(type(my_set))\n",
    "print(len(my_set))\n",
    "print(my_set, \"\\n\")\n",
    "\n",
    "print(type(my_set2))\n",
    "print(len(my_set2))\n",
    "print(my_set2, \"\\n\")\n",
    "\n",
    "my_set2.clear()\n",
    "\n",
    "print(type(my_set))\n",
    "print(len(my_set))\n",
    "print(my_set, \"\\n\")\n",
    "\n",
    "print(type(my_set2))\n",
    "print(len(my_set2))\n",
    "print(my_set2, \"\\n\")"
   ]
  },
  {
   "cell_type": "markdown",
   "id": "a82a2f6b",
   "metadata": {},
   "source": [
    "### difference\n",
    "Obtiene los valores presentes en el primer set y faltantes en el segundo"
   ]
  },
  {
   "cell_type": "code",
   "execution_count": 4,
   "id": "f955becf",
   "metadata": {},
   "outputs": [
    {
     "name": "stdout",
     "output_type": "stream",
     "text": [
      "{8, 2, 4, 6}\n",
      "{9, 3, 5}\n"
     ]
    }
   ],
   "source": [
    "set_a = {1, 3, 5, 7, 9}\n",
    "set_b = {1, 2, 4, 6, 7, 8}\n",
    "\n",
    "# existentes en b y faltantes en a\n",
    "print(set_b.difference(set_a))\n",
    "\n",
    "# existentes en a y faltantes en b\n",
    "print(set_a.difference(set_b))"
   ]
  },
  {
   "cell_type": "markdown",
   "id": "9cefea1a",
   "metadata": {},
   "source": [
    "### difference_update\n",
    "Conserva los valores diferentes entre el set solicitado y el que es mandado como parámetro"
   ]
  },
  {
   "cell_type": "code",
   "execution_count": 6,
   "id": "e4d069d7",
   "metadata": {},
   "outputs": [
    {
     "name": "stdout",
     "output_type": "stream",
     "text": [
      "{2, 4, 6, 8}\n",
      "{1, 3, 5, 7, 9}\n"
     ]
    }
   ],
   "source": [
    "set_a = {1, 3, 5, 7, 9}\n",
    "set_b = {1, 2, 4, 6, 7, 8}\n",
    "\n",
    "# existentes en b y faltantes en a\n",
    "set_b.difference_update(set_a)\n",
    "print(set_b)\n",
    "\n",
    "# existentes en a y faltantes en b\n",
    "set_a.difference_update(set_b)\n",
    "print(set_a)"
   ]
  },
  {
   "cell_type": "code",
   "execution_count": 7,
   "id": "9e6373cf",
   "metadata": {},
   "outputs": [
    {
     "name": "stdout",
     "output_type": "stream",
     "text": [
      "{3, 5, 9}\n",
      "{1, 2, 4, 6, 7, 8}\n"
     ]
    }
   ],
   "source": [
    "set_a = {1, 3, 5, 7, 9}\n",
    "set_b = {1, 2, 4, 6, 7, 8}\n",
    "\n",
    "# existentes en a y faltantes en b\n",
    "set_a.difference_update(set_b)\n",
    "print(set_a)\n",
    "\n",
    "# existentes en b y faltantes en a\n",
    "set_b.difference_update(set_a)\n",
    "print(set_b)"
   ]
  },
  {
   "cell_type": "markdown",
   "id": "dbff03b8",
   "metadata": {},
   "source": [
    "### discard\n",
    "Elimina un elemento del set si esta presente"
   ]
  },
  {
   "cell_type": "code",
   "execution_count": 12,
   "id": "ced394b7",
   "metadata": {},
   "outputs": [
    {
     "name": "stdout",
     "output_type": "stream",
     "text": [
      "<class 'set'>\n",
      "7\n",
      "{1, 4, 24, 457, 'Go', 'Python', 14} \n",
      "\n",
      "<class 'set'>\n",
      "6\n",
      "{1, 24, 457, 'Go', 'Python', 14} \n",
      "\n",
      "<class 'set'>\n",
      "5\n",
      "{1, 24, 457, 'Go', 14} \n",
      "\n",
      "<class 'set'>\n",
      "5\n",
      "{1, 24, 457, 'Go', 14} \n",
      "\n"
     ]
    }
   ],
   "source": [
    "my_set = {1, 4, 24, 14, 457, \"Python\", \"Go\"}\n",
    "print(type(my_set))\n",
    "print(len(my_set))\n",
    "print(my_set, \"\\n\")\n",
    "      \n",
    "my_set.discard(4)\n",
    "print(type(my_set))\n",
    "print(len(my_set))\n",
    "print(my_set, \"\\n\")\n",
    "      \n",
    "my_set.discard(\"Python\")      \n",
    "print(type(my_set))\n",
    "print(len(my_set))\n",
    "print(my_set, \"\\n\")\n",
    "\n",
    "my_set.discard(5)      \n",
    "print(type(my_set))\n",
    "print(len(my_set))\n",
    "print(my_set, \"\\n\")"
   ]
  },
  {
   "cell_type": "markdown",
   "id": "c040acbf",
   "metadata": {},
   "source": [
    "### intersection\n",
    "Obtiene los valores en común en 2 sets"
   ]
  },
  {
   "cell_type": "code",
   "execution_count": 13,
   "id": "60680f92",
   "metadata": {},
   "outputs": [
    {
     "name": "stdout",
     "output_type": "stream",
     "text": [
      "{1, 7}\n",
      "{1, 7}\n"
     ]
    }
   ],
   "source": [
    "set_a = {1, 3, 5, 7, 9}\n",
    "set_b = {1, 2, 4, 7, 8}\n",
    "\n",
    "print(set_b.intersection(set_a))\n",
    "print(set_a.intersection(set_b))"
   ]
  },
  {
   "cell_type": "markdown",
   "id": "3df49908",
   "metadata": {},
   "source": [
    "### intersection_update\n",
    "Obtiene los valores en común en 2 sets y los asigna al set que manda a llamar el método"
   ]
  },
  {
   "cell_type": "code",
   "execution_count": 14,
   "id": "581c22a4",
   "metadata": {},
   "outputs": [
    {
     "name": "stdout",
     "output_type": "stream",
     "text": [
      "None\n",
      "<class 'set'>\n",
      "2\n",
      "{1, 7} \n",
      "\n",
      "<class 'set'>\n",
      "5\n",
      "{1, 2, 4, 7, 8} \n",
      "\n"
     ]
    }
   ],
   "source": [
    "set_a = {1, 3, 5, 7, 9}\n",
    "set_b = {1, 2, 4, 7, 8}\n",
    "\n",
    "print(set_a.intersection_update(set_b))\n",
    "print(type(set_a))\n",
    "print(len(set_a))\n",
    "print(set_a, \"\\n\")\n",
    "\n",
    "\n",
    "print(type(set_b))\n",
    "print(len(set_b))\n",
    "print(set_b, \"\\n\")"
   ]
  },
  {
   "cell_type": "markdown",
   "id": "982eac97",
   "metadata": {},
   "source": [
    "### isdisjoint\n",
    "True : si no hay valores compartidos por ambos sets\n",
    "\n",
    "False : si hay por lo menos un valor compartido por ambos sets"
   ]
  },
  {
   "cell_type": "code",
   "execution_count": 15,
   "id": "7173aa5a",
   "metadata": {},
   "outputs": [
    {
     "name": "stdout",
     "output_type": "stream",
     "text": [
      "False\n"
     ]
    }
   ],
   "source": [
    "set_a = {1, 3, 5, 7, 9}\n",
    "set_b = {1, 2, 4, 7, 8}\n",
    "\n",
    "print(set_a.isdisjoint(set_b))"
   ]
  },
  {
   "cell_type": "code",
   "execution_count": 16,
   "id": "df6cbda1",
   "metadata": {},
   "outputs": [
    {
     "name": "stdout",
     "output_type": "stream",
     "text": [
      "True\n"
     ]
    }
   ],
   "source": [
    "set_a = {1, 3, 5, 7, 9}\n",
    "set_b = {2, 4, 6, 8}\n",
    "\n",
    "print(set_a.isdisjoint(set_b))"
   ]
  },
  {
   "cell_type": "markdown",
   "id": "4b75faaa",
   "metadata": {},
   "source": [
    "### issubset\n",
    "True : si todos los valores del set llamado están en el set pasado como parámetro"
   ]
  },
  {
   "cell_type": "code",
   "execution_count": 17,
   "id": "2196e50d",
   "metadata": {},
   "outputs": [
    {
     "name": "stdout",
     "output_type": "stream",
     "text": [
      "True\n"
     ]
    }
   ],
   "source": [
    "set_a = {1, 8}\n",
    "set_b = {1, 2, 4, 7, 8}\n",
    "\n",
    "print(set_a.issubset(set_b))"
   ]
  },
  {
   "cell_type": "code",
   "execution_count": 18,
   "id": "7bb5c508",
   "metadata": {},
   "outputs": [
    {
     "name": "stdout",
     "output_type": "stream",
     "text": [
      "False\n"
     ]
    }
   ],
   "source": [
    "set_a = {1, 3, 5, 7, 9}\n",
    "set_b = {1, 2, 4, 7, 8}\n",
    "\n",
    "print(set_a.issubset(set_b))"
   ]
  },
  {
   "cell_type": "markdown",
   "id": "cb59d425",
   "metadata": {},
   "source": [
    "### issuperset\n",
    "Opuesto a \"issubset\"\n",
    "Analiza si todos los valores del set pasado como parámetro estan en el set llamado"
   ]
  },
  {
   "cell_type": "code",
   "execution_count": 19,
   "id": "ff967720",
   "metadata": {},
   "outputs": [
    {
     "name": "stdout",
     "output_type": "stream",
     "text": [
      "True\n"
     ]
    }
   ],
   "source": [
    "set_a = {1, 8}\n",
    "set_b = {1, 2, 4, 7, 8}\n",
    "\n",
    "print(set_b.issuperset(set_a))"
   ]
  },
  {
   "cell_type": "code",
   "execution_count": 20,
   "id": "235106fd",
   "metadata": {},
   "outputs": [
    {
     "name": "stdout",
     "output_type": "stream",
     "text": [
      "False\n"
     ]
    }
   ],
   "source": [
    "set_a = {1, 3, 5, 7, 9}\n",
    "set_b = {1, 2, 4, 7, 8}\n",
    "\n",
    "print(set_b.issuperset(set_a))"
   ]
  },
  {
   "cell_type": "markdown",
   "id": "7a36a75c",
   "metadata": {},
   "source": [
    "### pop\n",
    "Elimina el primer elemento del set"
   ]
  },
  {
   "cell_type": "code",
   "execution_count": 21,
   "id": "a704055a",
   "metadata": {},
   "outputs": [
    {
     "name": "stdout",
     "output_type": "stream",
     "text": [
      "1\n",
      "2\n",
      "4 \n",
      "\n",
      "2\n",
      "{7, 8}\n"
     ]
    }
   ],
   "source": [
    "my_set = {1, 2, 4, 7, 8}\n",
    "print(my_set.pop())\n",
    "print(my_set.pop())\n",
    "print(my_set.pop(), \"\\n\")\n",
    "\n",
    "print(len(my_set))\n",
    "print(my_set)"
   ]
  },
  {
   "cell_type": "markdown",
   "id": "d2459be9",
   "metadata": {},
   "source": [
    "## remove\n",
    "Elimina el elemento pasado como parámetro - debe estar presente en el set "
   ]
  },
  {
   "cell_type": "code",
   "execution_count": 23,
   "id": "cd64869f",
   "metadata": {},
   "outputs": [
    {
     "name": "stdout",
     "output_type": "stream",
     "text": [
      "6\n",
      "{1, 2, 4, 7, 8, 10} \n",
      "\n",
      "5\n",
      "{1, 2, 7, 8, 10} \n",
      "\n"
     ]
    },
    {
     "ename": "KeyError",
     "evalue": "3",
     "output_type": "error",
     "traceback": [
      "\u001b[0;31m---------------------------------------------------------------------------\u001b[0m",
      "\u001b[0;31mKeyError\u001b[0m                                  Traceback (most recent call last)",
      "Cell \u001b[0;32mIn[23], line 9\u001b[0m\n\u001b[1;32m      6\u001b[0m \u001b[38;5;28mprint\u001b[39m(\u001b[38;5;28mlen\u001b[39m(my_set))\n\u001b[1;32m      7\u001b[0m \u001b[38;5;28mprint\u001b[39m(my_set, \u001b[38;5;124m\"\u001b[39m\u001b[38;5;130;01m\\n\u001b[39;00m\u001b[38;5;124m\"\u001b[39m)\n\u001b[0;32m----> 9\u001b[0m my_set\u001b[38;5;241m.\u001b[39mremove (\u001b[38;5;241m3\u001b[39m)\n\u001b[1;32m     10\u001b[0m \u001b[38;5;28mprint\u001b[39m(\u001b[38;5;28mlen\u001b[39m(my_set))\n\u001b[1;32m     11\u001b[0m \u001b[38;5;28mprint\u001b[39m(my_set, \u001b[38;5;124m\"\u001b[39m\u001b[38;5;130;01m\\n\u001b[39;00m\u001b[38;5;124m\"\u001b[39m)\n",
      "\u001b[0;31mKeyError\u001b[0m: 3"
     ]
    }
   ],
   "source": [
    "my_set = {1, 2, 4, 7, 8, 10}\n",
    "print(len(my_set))\n",
    "print(my_set, \"\\n\")\n",
    "\n",
    "my_set.remove (4)\n",
    "print(len(my_set))\n",
    "print(my_set, \"\\n\")\n",
    "\n",
    "my_set.remove (3)\n",
    "print(len(my_set))\n",
    "print(my_set, \"\\n\")"
   ]
  },
  {
   "cell_type": "markdown",
   "id": "b6de6587",
   "metadata": {},
   "source": [
    "## union\n",
    "Cobina 2 sets"
   ]
  },
  {
   "cell_type": "code",
   "execution_count": 24,
   "id": "0aa79957",
   "metadata": {},
   "outputs": [
    {
     "name": "stdout",
     "output_type": "stream",
     "text": [
      "{1, 2, 3, 4, 7, 8}\n"
     ]
    }
   ],
   "source": [
    "set_a = {1, 3, 8}\n",
    "set_b = {1, 2, 4, 7, 8}\n",
    "\n",
    "set_c = set_a.union(set_b)\n",
    "print(set_c)"
   ]
  },
  {
   "cell_type": "markdown",
   "id": "d547c313",
   "metadata": {},
   "source": [
    "## update\n",
    "Añade los valores del set pasado como parámetro al set llamado"
   ]
  },
  {
   "cell_type": "code",
   "execution_count": 25,
   "id": "063ed5a6",
   "metadata": {},
   "outputs": [
    {
     "name": "stdout",
     "output_type": "stream",
     "text": [
      "{1, 2, 3, 4, 7, 8}\n"
     ]
    }
   ],
   "source": [
    "set_a = {1, 3, 8}\n",
    "set_b = {1, 2, 4, 7, 8}\n",
    "\n",
    "set_a.update(set_b)\n",
    "print(set_a)"
   ]
  },
  {
   "cell_type": "markdown",
   "id": "bc4674af",
   "metadata": {},
   "source": [
    "## symmetric_difference\n",
    "Obtiene todas las diferencias en ambos sets"
   ]
  },
  {
   "cell_type": "code",
   "execution_count": 27,
   "id": "70b4867a",
   "metadata": {},
   "outputs": [
    {
     "name": "stdout",
     "output_type": "stream",
     "text": [
      "{2, 3, 4, 5, 6, 8, 9}\n",
      "{2, 3, 4, 5, 6, 8, 9}\n"
     ]
    }
   ],
   "source": [
    "set_a = {1, 3, 5, 7, 9}\n",
    "set_b = {1, 2, 4, 6, 7, 8}\n",
    "\n",
    "print(set_b.symmetric_difference(set_a))\n",
    "print(set_a.symmetric_difference(set_b))"
   ]
  },
  {
   "cell_type": "markdown",
   "id": "87b62f6c",
   "metadata": {},
   "source": [
    "## symmetric_difference_update\n",
    "Obtiene todas las diferencias en ambos sets y asigna los valores al set llamado"
   ]
  },
  {
   "cell_type": "code",
   "execution_count": 28,
   "id": "cac41019",
   "metadata": {},
   "outputs": [
    {
     "name": "stdout",
     "output_type": "stream",
     "text": [
      "{2, 3, 4, 5, 6, 8, 9}\n",
      "{1, 2, 4, 6, 7, 8}\n"
     ]
    }
   ],
   "source": [
    "set_a = {1, 3, 5, 7, 9}\n",
    "set_b = {1, 2, 4, 6, 7, 8}\n",
    "\n",
    "set_a.symmetric_difference_update(set_b)\n",
    "print(set_a)\n",
    "print(set_b)"
   ]
  },
  {
   "cell_type": "markdown",
   "id": "0e6d2617",
   "metadata": {},
   "source": [
    "## Conversión"
   ]
  },
  {
   "cell_type": "markdown",
   "id": "57a611d2",
   "metadata": {},
   "source": [
    "### str -> set"
   ]
  },
  {
   "cell_type": "code",
   "execution_count": 29,
   "id": "bfdae40b",
   "metadata": {},
   "outputs": [
    {
     "name": "stdout",
     "output_type": "stream",
     "text": [
      "<class 'str'>\n",
      "Backend Python \n",
      "\n",
      "<class 'set'>\n",
      "{'n', 't', 'a', 'e', 'd', 'y', 'k', ' ', 'P', 'c', 'o', 'B', 'h'} \n",
      "\n"
     ]
    }
   ],
   "source": [
    "str1 = \"Backend Python\"\n",
    "my_set = set(str1)\n",
    "\n",
    "print(type(str1))\n",
    "print(str1, \"\\n\")\n",
    "\n",
    "print(type(my_set))\n",
    "print(my_set, \"\\n\")"
   ]
  },
  {
   "cell_type": "markdown",
   "id": "d33ccd07",
   "metadata": {},
   "source": [
    "### list -> set"
   ]
  },
  {
   "cell_type": "code",
   "execution_count": 30,
   "id": "07200250",
   "metadata": {},
   "outputs": [
    {
     "name": "stdout",
     "output_type": "stream",
     "text": [
      "<class 'list'>\n",
      "[1, 1, 3, 6, 8, 3, 9, 10] \n",
      "\n",
      "<class 'set'>\n",
      "{1, 3, 6, 8, 9, 10} \n",
      "\n"
     ]
    }
   ],
   "source": [
    "list1 = [1, 1, 3, 6, 8, 3, 9, 10]\n",
    "my_set = set(list1)\n",
    "\n",
    "print(type(list1))\n",
    "print(list1, \"\\n\")\n",
    "\n",
    "print(type(my_set))\n",
    "print(my_set, \"\\n\")"
   ]
  },
  {
   "cell_type": "markdown",
   "id": "b04ad9b5",
   "metadata": {},
   "source": [
    "### tuple -> set"
   ]
  },
  {
   "cell_type": "code",
   "execution_count": 31,
   "id": "2fdb0b45",
   "metadata": {},
   "outputs": [
    {
     "name": "stdout",
     "output_type": "stream",
     "text": [
      "<class 'tuple'>\n",
      "(1, 1, 3, 6, 8, 3, 9, 10) \n",
      "\n",
      "<class 'set'>\n",
      "{1, 3, 6, 8, 9, 10} \n",
      "\n"
     ]
    }
   ],
   "source": [
    "my_tuple = (1, 1, 3, 6, 8, 3, 9, 10)\n",
    "my_set = set(my_tuple)\n",
    "\n",
    "print(type(my_tuple))\n",
    "print(my_tuple, \"\\n\")\n",
    "\n",
    "print(type(my_set))\n",
    "print(my_set, \"\\n\")"
   ]
  },
  {
   "cell_type": "markdown",
   "id": "24c806ff",
   "metadata": {},
   "source": [
    "### set -> str"
   ]
  },
  {
   "cell_type": "code",
   "execution_count": 32,
   "id": "5d3ec8fd",
   "metadata": {},
   "outputs": [
    {
     "name": "stdout",
     "output_type": "stream",
     "text": [
      "<class 'str'>\n",
      "ntadeyk PcoBh\n"
     ]
    }
   ],
   "source": [
    "my_set = {'n', 't', 'a', 'e', 'd', 'y', 'k', ' ', 'P', 'c', 'o', 'B', 'h'} \n",
    "str1 = \"\".join(my_set)\n",
    "\n",
    "print(type(str1))\n",
    "print(str1)"
   ]
  },
  {
   "cell_type": "markdown",
   "id": "d6155247",
   "metadata": {},
   "source": [
    "### set -> list"
   ]
  },
  {
   "cell_type": "code",
   "execution_count": 33,
   "id": "69414963",
   "metadata": {},
   "outputs": [
    {
     "name": "stdout",
     "output_type": "stream",
     "text": [
      "<class 'set'>\n",
      "{1, 3, 6, 8, 9, 10} \n",
      "\n",
      "<class 'list'>\n",
      "[1, 3, 6, 8, 9, 10] \n",
      "\n"
     ]
    }
   ],
   "source": [
    "my_set = {1, 3, 6, 8, 9, 10} \n",
    "my_list = list(my_set)\n",
    "\n",
    "print(type(my_set))\n",
    "print(my_set, \"\\n\")\n",
    "\n",
    "print(type(my_list))\n",
    "print(my_list, \"\\n\")"
   ]
  },
  {
   "cell_type": "markdown",
   "id": "c7986f7a",
   "metadata": {},
   "source": [
    "### set -> tuple"
   ]
  },
  {
   "cell_type": "code",
   "execution_count": 35,
   "id": "77dc5972",
   "metadata": {},
   "outputs": [
    {
     "name": "stdout",
     "output_type": "stream",
     "text": [
      "<class 'set'>\n",
      "{1, 3, 6, 8, 9, 10} \n",
      "\n",
      "<class 'tuple'>\n",
      "(1, 3, 6, 8, 9, 10) \n",
      "\n"
     ]
    }
   ],
   "source": [
    "my_set = {1, 1, 3, 6, 8, 3, 9, 10}\n",
    "my_tuple = tuple(my_set)\n",
    "\n",
    "print(type(my_set))\n",
    "print(my_set, \"\\n\")\n",
    "\n",
    "print(type(my_tuple))\n",
    "print(my_tuple, \"\\n\")"
   ]
  },
  {
   "cell_type": "code",
   "execution_count": null,
   "id": "4d33c32f",
   "metadata": {},
   "outputs": [],
   "source": []
  }
 ],
 "metadata": {
  "kernelspec": {
   "display_name": "Python 3 (ipykernel)",
   "language": "python",
   "name": "python3"
  },
  "language_info": {
   "codemirror_mode": {
    "name": "ipython",
    "version": 3
   },
   "file_extension": ".py",
   "mimetype": "text/x-python",
   "name": "python",
   "nbconvert_exporter": "python",
   "pygments_lexer": "ipython3",
   "version": "3.11.5"
  }
 },
 "nbformat": 4,
 "nbformat_minor": 5
}

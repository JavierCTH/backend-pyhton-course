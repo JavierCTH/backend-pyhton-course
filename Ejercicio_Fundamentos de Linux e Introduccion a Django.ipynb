{
 "cells": [
  {
   "cell_type": "code",
   "execution_count": null,
   "id": "0a40535f",
   "metadata": {},
   "outputs": [],
   "source": [
    "import os\n",
    "\n",
    "from django import get_version\n",
    "from django.conf import settings\n",
    "from django.shortcuts import render\n",
    "\n",
    "\n",
    "def home(request):\n",
    "    context = {\n",
    "        \"debug\": settings.DEBUG,\n",
    "        \"django_ver\": get_version() + \" TEST1234\",\n",
    "        \"python_ver\": os.environ[\"PYTHON_VERSION\"] + \" MORE TESTS\",\n",
    "    }\n",
    "\n",
    "    return render(request, \"pages/home.html\", context)"
   ]
  }
 ],
 "metadata": {
  "kernelspec": {
   "display_name": "Python 3 (ipykernel)",
   "language": "python",
   "name": "python3"
  },
  "language_info": {
   "codemirror_mode": {
    "name": "ipython",
    "version": 3
   },
   "file_extension": ".py",
   "mimetype": "text/x-python",
   "name": "python",
   "nbconvert_exporter": "python",
   "pygments_lexer": "ipython3",
   "version": "3.11.5"
  }
 },
 "nbformat": 4,
 "nbformat_minor": 5
}

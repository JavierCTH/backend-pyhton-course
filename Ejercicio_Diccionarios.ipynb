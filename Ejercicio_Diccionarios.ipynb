{
 "cells": [
  {
   "cell_type": "code",
   "execution_count": 1,
   "id": "80c816d7",
   "metadata": {},
   "outputs": [
    {
     "name": "stdout",
     "output_type": "stream",
     "text": [
      "Collecting pokebase\n",
      "  Obtaining dependency information for pokebase from https://files.pythonhosted.org/packages/77/6f/c96b0855965a1d151fc930168ed2e78f7c414872531899036f0b4b5093d4/pokebase-1.4.1-py3-none-any.whl.metadata\n",
      "  Downloading pokebase-1.4.1-py3-none-any.whl.metadata (3.6 kB)\n",
      "Requirement already satisfied: requests in /Users/javier/anaconda3/lib/python3.11/site-packages (from pokebase) (2.31.0)\n",
      "Requirement already satisfied: charset-normalizer<4,>=2 in /Users/javier/anaconda3/lib/python3.11/site-packages (from requests->pokebase) (2.0.4)\n",
      "Requirement already satisfied: idna<4,>=2.5 in /Users/javier/anaconda3/lib/python3.11/site-packages (from requests->pokebase) (3.4)\n",
      "Requirement already satisfied: urllib3<3,>=1.21.1 in /Users/javier/anaconda3/lib/python3.11/site-packages (from requests->pokebase) (1.26.16)\n",
      "Requirement already satisfied: certifi>=2017.4.17 in /Users/javier/anaconda3/lib/python3.11/site-packages (from requests->pokebase) (2023.7.22)\n",
      "Downloading pokebase-1.4.1-py3-none-any.whl (11 kB)\n",
      "Installing collected packages: pokebase\n",
      "Successfully installed pokebase-1.4.1\n"
     ]
    }
   ],
   "source": [
    "!pip install pokebase"
   ]
  },
  {
   "cell_type": "code",
   "execution_count": 7,
   "id": "30bc2c23",
   "metadata": {},
   "outputs": [
    {
     "name": "stdout",
     "output_type": "stream",
     "text": [
      "Ingresa el nombre de un pokemon\n",
      "\n",
      "blastoise\n",
      "ID:  9\n",
      "Nombre:  blastoise\n",
      "Altura:  16\n",
      "Peso:  855\n",
      "Experiencia base:  265\n",
      "Descripción:  Encaja bien los ataques\n"
     ]
    }
   ],
   "source": [
    "import pokebase as pb\n",
    "import requests\n",
    "\n",
    "pokemon_to_search = input(\"Ingresa el nombre de un pokemon\\n\\n\")\n",
    "data = pb.pokemon(pokemon_to_search).__dict__\n",
    "id_ = data.get('id_')\n",
    "name = data.get('name')\n",
    "height = data.get('height')\n",
    "weight = data.get('weight')\n",
    "base_experience = data.get('base_experience')\n",
    "\n",
    "print(\"ID: \", id_)\n",
    "print(\"Nombre: \", name)\n",
    "print(\"Altura: \", height)\n",
    "print(\"Peso: \", weight)\n",
    "print(\"Experiencia base: \", base_experience)\n",
    "\n",
    "url = \"https://pokeapi.co/api/v2/characteristic/{id}/\".format(id=id_)\n",
    "response = requests.get(url)\n",
    "for description_dict in response.json().get(\"descriptions\"):\n",
    "    if description_dict.get(\"language\", {}).get(\"name\") == \"es\":\n",
    "        description = description_dict.get(\"description\")\n",
    "        print(\"Descripción: \",description)"
   ]
  },
  {
   "cell_type": "code",
   "execution_count": null,
   "id": "d3596253",
   "metadata": {},
   "outputs": [],
   "source": []
  },
  {
   "cell_type": "code",
   "execution_count": null,
   "id": "f92fe755",
   "metadata": {},
   "outputs": [],
   "source": []
  }
 ],
 "metadata": {
  "kernelspec": {
   "display_name": "Python 3 (ipykernel)",
   "language": "python",
   "name": "python3"
  },
  "language_info": {
   "codemirror_mode": {
    "name": "ipython",
    "version": 3
   },
   "file_extension": ".py",
   "mimetype": "text/x-python",
   "name": "python",
   "nbconvert_exporter": "python",
   "pygments_lexer": "ipython3",
   "version": "3.11.5"
  }
 },
 "nbformat": 4,
 "nbformat_minor": 5
}

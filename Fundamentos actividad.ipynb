{
 "cells": [
  {
   "cell_type": "markdown",
   "id": "1887a148",
   "metadata": {},
   "source": [
    "# Fundamentos actividad ###"
   ]
  },
  {
   "cell_type": "code",
   "execution_count": 4,
   "id": "a5e5e275",
   "metadata": {},
   "outputs": [
    {
     "name": "stdout",
     "output_type": "stream",
     "text": [
      "Enter your house number :78\n",
      "78\n",
      "<class 'int'>\n",
      "Enter the value of pi :3.1416\n",
      "3.1416\n",
      "<class 'float'>\n",
      "Enter your postal code :678 123\n",
      "678 123\n",
      "<class 'str'>\n"
     ]
    }
   ],
   "source": [
    "house_number = eval(input(\"Enter your house number :\"))\n",
    "print(house_number)\n",
    "print(type(house_number))\n",
    "\n",
    "pi_value = eval(input(\"Enter the value of pi :\"))\n",
    "print(pi_value)\n",
    "print(type(pi_value))\n",
    "\n",
    "postal_code = input(\"Enter your postal code :\")\n",
    "print(postal_code)\n",
    "print(type(postal_code))"
   ]
  },
  {
   "cell_type": "code",
   "execution_count": null,
   "id": "2da4f67e",
   "metadata": {},
   "outputs": [],
   "source": []
  }
 ],
 "metadata": {
  "kernelspec": {
   "display_name": "Python 3 (ipykernel)",
   "language": "python",
   "name": "python3"
  },
  "language_info": {
   "codemirror_mode": {
    "name": "ipython",
    "version": 3
   },
   "file_extension": ".py",
   "mimetype": "text/x-python",
   "name": "python",
   "nbconvert_exporter": "python",
   "pygments_lexer": "ipython3",
   "version": "3.11.5"
  }
 },
 "nbformat": 4,
 "nbformat_minor": 5
}

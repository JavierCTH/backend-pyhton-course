{
 "cells": [
  {
   "cell_type": "markdown",
   "id": "927ed334",
   "metadata": {},
   "source": [
    "# Panorama\n",
    "\n",
    "int - Integer/Enteros\n",
    "\n",
    "float - Float/Números con Decimales\n",
    "\n",
    "complex - Complex/Coplejos (Números con una parte real y una imaginaria)\n",
    "\n",
    "bool - Boolean/Valores Lógicos (True/False)(Verdadero/Falso)\n",
    "\n",
    "str - String/Cadena, Textos"
   ]
  },
  {
   "cell_type": "markdown",
   "id": "b24c1a68",
   "metadata": {},
   "source": [
    "## int - Integer/Enteros ##"
   ]
  },
  {
   "cell_type": "code",
   "execution_count": 3,
   "id": "f97c6961",
   "metadata": {},
   "outputs": [
    {
     "name": "stdout",
     "output_type": "stream",
     "text": [
      "The value of my_integer is:  99\n",
      "Type of my_integer is:  <class 'int'>\n"
     ]
    }
   ],
   "source": [
    "my_integer = 99\n",
    "print(\"The value of my_integer is: \", my_integer)\n",
    "print(\"Type of my_integer is: \", type(my_integer))"
   ]
  },
  {
   "cell_type": "code",
   "execution_count": 4,
   "id": "5330e1ce",
   "metadata": {},
   "outputs": [
    {
     "ename": "SyntaxError",
     "evalue": "invalid decimal literal (2843725682.py, line 1)",
     "output_type": "error",
     "traceback": [
      "\u001b[0;36m  Cell \u001b[0;32mIn[4], line 1\u001b[0;36m\u001b[0m\n\u001b[0;31m    my_integer = 99f\u001b[0m\n\u001b[0m                  ^\u001b[0m\n\u001b[0;31mSyntaxError\u001b[0m\u001b[0;31m:\u001b[0m invalid decimal literal\n"
     ]
    }
   ],
   "source": [
    "my_integer = 99f\n",
    "print(\"The value of my_integer is: \", my_integer)\n",
    "print(\"Type of my_integer is: \", type(my_integer))"
   ]
  },
  {
   "cell_type": "markdown",
   "id": "efd01271",
   "metadata": {},
   "source": [
    "## float - Float/Números con Decimales ##"
   ]
  },
  {
   "cell_type": "code",
   "execution_count": 6,
   "id": "877e35f7",
   "metadata": {},
   "outputs": [
    {
     "name": "stdout",
     "output_type": "stream",
     "text": [
      "The value of empanada is:  15.99\n",
      "Type of empanada is:  <class 'float'>\n"
     ]
    }
   ],
   "source": [
    "empanada = 15.99\n",
    "print(\"The value of empanada is: \", empanada)\n",
    "print(\"Type of empanada is: \", type(empanada))"
   ]
  },
  {
   "cell_type": "code",
   "execution_count": 7,
   "id": "080bad1c",
   "metadata": {},
   "outputs": [
    {
     "name": "stdout",
     "output_type": "stream",
     "text": [
      "The value of efloat is:  20000.0\n",
      "Type of efloat is:  <class 'float'>\n"
     ]
    }
   ],
   "source": [
    "# notacion científica\n",
    "efloat = 2e4\n",
    "print(\"The value of efloat is: \", efloat)\n",
    "print(\"Type of efloat is: \", type(efloat))"
   ]
  },
  {
   "cell_type": "markdown",
   "id": "ddedf611",
   "metadata": {},
   "source": [
    "## complex - Complejos (números con parte real y una imaginaria)\n",
    "\n",
    "complex = x + yj\n",
    "\n",
    "x = real\n",
    "yj = imaginaria"
   ]
  },
  {
   "cell_type": "code",
   "execution_count": 2,
   "id": "3534ad51",
   "metadata": {},
   "outputs": [
    {
     "name": "stdout",
     "output_type": "stream",
     "text": [
      "The value of empanada_complex is:  (5+9j)\n",
      "Type of empanada_complex is:  <class 'complex'>\n"
     ]
    }
   ],
   "source": [
    "empanada_complex = 5 + 9j\n",
    "print(\"The value of empanada_complex is: \", empanada_complex)\n",
    "print(\"Type of empanada_complex is: \", type(empanada_complex))"
   ]
  },
  {
   "cell_type": "markdown",
   "id": "cccd20f9",
   "metadata": {},
   "source": [
    "## bool - Boolean/Valores Lógicos (True/False)"
   ]
  },
  {
   "cell_type": "code",
   "execution_count": 3,
   "id": "cdf434fb",
   "metadata": {},
   "outputs": [
    {
     "name": "stdout",
     "output_type": "stream",
     "text": [
      "The value of driver_tip is:  False\n",
      "Type of driver_tip is:  <class 'bool'>\n"
     ]
    }
   ],
   "source": [
    "driver_tip = False\n",
    "print(\"The value of driver_tip is: \", driver_tip)\n",
    "print(\"Type of driver_tip is: \", type(driver_tip))"
   ]
  },
  {
   "cell_type": "code",
   "execution_count": 4,
   "id": "2c8f5998",
   "metadata": {},
   "outputs": [
    {
     "name": "stdout",
     "output_type": "stream",
     "text": [
      "The value of driver_tip is:  True\n",
      "Type of driver_tip is:  <class 'bool'>\n"
     ]
    }
   ],
   "source": [
    "driver_tip = True\n",
    "print(\"The value of driver_tip is: \", driver_tip)\n",
    "print(\"Type of driver_tip is: \", type(driver_tip))"
   ]
  },
  {
   "cell_type": "code",
   "execution_count": 5,
   "id": "4b059fb6",
   "metadata": {},
   "outputs": [],
   "source": [
    "# True = 1\n",
    "# False = 0"
   ]
  },
  {
   "cell_type": "code",
   "execution_count": 7,
   "id": "9b8f7200",
   "metadata": {},
   "outputs": [
    {
     "name": "stdout",
     "output_type": "stream",
     "text": [
      "3\n"
     ]
    }
   ],
   "source": [
    "#3\n",
    "print(True+True+True)"
   ]
  },
  {
   "cell_type": "code",
   "execution_count": 8,
   "id": "ef416927",
   "metadata": {},
   "outputs": [
    {
     "name": "stdout",
     "output_type": "stream",
     "text": [
      "2\n"
     ]
    }
   ],
   "source": [
    "#2\n",
    "print(True+False+True)"
   ]
  },
  {
   "cell_type": "code",
   "execution_count": 11,
   "id": "091da0e1",
   "metadata": {},
   "outputs": [
    {
     "name": "stdout",
     "output_type": "stream",
     "text": [
      "1\n"
     ]
    }
   ],
   "source": [
    "#1\n",
    "print(True-False-False)"
   ]
  },
  {
   "cell_type": "markdown",
   "id": "2d0417ea",
   "metadata": {},
   "source": [
    "## str - String / Cadena, Textos"
   ]
  },
  {
   "cell_type": "code",
   "execution_count": 15,
   "id": "7b286bcf",
   "metadata": {},
   "outputs": [
    {
     "name": "stdout",
     "output_type": "stream",
     "text": [
      "The value of address is:  \"\n",
      "123 st\n",
      "\n",
      "Av no av\n",
      "\n",
      "City Narnia\n",
      "\n",
      "Type of address is:  <class 'str'>\n"
     ]
    }
   ],
   "source": [
    "address = \"\"\"\"\n",
    "123 st\\n\n",
    "Av no av\\n\n",
    "City Narnia\n",
    "\"\"\"\n",
    "print(\"The value of address is: \", address)\n",
    "print(\"Type of address is: \", type(address))"
   ]
  },
  {
   "cell_type": "markdown",
   "id": "5f62e040",
   "metadata": {},
   "source": [
    "## Variables\n",
    "\n",
    "### Qué es una variable ?\n",
    "- Espacio temporal para guardar un valor con un nombre específico\n",
    "- No hay necesidad de declarar el tipo de dato específicamente\n",
    "- Python es un lenguaje tipado dinámicamente, el tipo de dato se define mientras corre el programa\n",
    "- Las variables funcionan diferente que otros lenguajes de programación\n",
    "- No necesitamos crear variable, solo asignamos un nombre a un valor usando el operador de asignación\n",
    "\n",
    "### Tipos:\n",
    "- Globales : utilizadas para todo el programa\n",
    "- Locales : utilizadas solo en un bloque específico"
   ]
  },
  {
   "cell_type": "markdown",
   "id": "90fd4a08",
   "metadata": {},
   "source": [
    "## Globales\n",
    "- Declaramos variables globales afuera de funciones\n",
    "- El valor de la variable puede ser constante para todo el programa\n",
    "- Cualquier función puede acceder a estas variables\n",
    "- Tienen un alcance global\n",
    "- Usadas para constantes, normalmente\n",
    "- Mantienen sus valores a través de la ejecución completa de tu programa\n",
    "- Puede ser accesada por cualquier función"
   ]
  },
  {
   "cell_type": "code",
   "execution_count": null,
   "id": "3fd3e90d",
   "metadata": {},
   "outputs": [],
   "source": [
    "#Variable Global\n",
    "my_global_variable=50\n",
    "\n",
    "def my_function_1():\n",
    "        pass\n",
    "\n",
    "def my_function_2():\n",
    "        pass"
   ]
  },
  {
   "cell_type": "code",
   "execution_count": null,
   "id": "3b2a8430",
   "metadata": {},
   "outputs": [],
   "source": [
    "def my_function_1():\n",
    "        my_local_variable=5\n",
    "\n",
    "def my_function_2():\n",
    "        my_local_variable=35"
   ]
  },
  {
   "cell_type": "code",
   "execution_count": 19,
   "id": "03acdd6e",
   "metadata": {},
   "outputs": [],
   "source": [
    "#Variable Global\n",
    "my_global_variable=50\n",
    "\n",
    "def my_function_1():\n",
    "    print(\"my_function_1 - El valor de my_global_variable es: \", my_global_variable)\n",
    "\n",
    "def my_function_2():\n",
    "    print(\"my_function_2 - El valor de my_global_variable es: \", my_global_variable)"
   ]
  },
  {
   "cell_type": "code",
   "execution_count": 20,
   "id": "70ca20bb",
   "metadata": {},
   "outputs": [
    {
     "name": "stdout",
     "output_type": "stream",
     "text": [
      "my_function_1 - El valor de my_global_variable es:  50\n"
     ]
    }
   ],
   "source": [
    "my_function_1()"
   ]
  },
  {
   "cell_type": "code",
   "execution_count": 22,
   "id": "0c129e4b",
   "metadata": {},
   "outputs": [
    {
     "name": "stdout",
     "output_type": "stream",
     "text": [
      "my_function_2 - El valor de my_global_variable es:  50\n"
     ]
    }
   ],
   "source": [
    "my_function_2()"
   ]
  },
  {
   "cell_type": "code",
   "execution_count": 25,
   "id": "f3fcf52f",
   "metadata": {},
   "outputs": [],
   "source": [
    "# Preferencia al valor local y después al global\n",
    "my_variable=50 # Global\n",
    "\n",
    "def my_function_1():\n",
    "    my_variable=10 # Local\n",
    "    print(\"my_function_1 - El valor de my_variable es: \", my_variable)\n",
    "\n",
    "def my_function_2():\n",
    "    my_variable=20 # Local\n",
    "    print(\"my_function_2 - El valor de my_variable es: \", my_variable)\n",
    "\n",
    "def my_function_3():\n",
    "    print(\"my_function_3 - El valor de my_variable es: \", my_variable)"
   ]
  },
  {
   "cell_type": "code",
   "execution_count": 26,
   "id": "76030ebb",
   "metadata": {},
   "outputs": [
    {
     "name": "stdout",
     "output_type": "stream",
     "text": [
      "my_function_1 - El valor de my_variable es:  10\n"
     ]
    }
   ],
   "source": [
    "my_function_1()"
   ]
  },
  {
   "cell_type": "code",
   "execution_count": 27,
   "id": "32e808c6",
   "metadata": {},
   "outputs": [
    {
     "name": "stdout",
     "output_type": "stream",
     "text": [
      "my_function_2 - El valor de my_variable es:  20\n"
     ]
    }
   ],
   "source": [
    "my_function_2()"
   ]
  },
  {
   "cell_type": "code",
   "execution_count": 28,
   "id": "6ff362fe",
   "metadata": {},
   "outputs": [
    {
     "name": "stdout",
     "output_type": "stream",
     "text": [
      "my_function_3 - El valor de my_variable es:  50\n"
     ]
    }
   ],
   "source": [
    "my_function_3()"
   ]
  },
  {
   "cell_type": "markdown",
   "id": "6985e204",
   "metadata": {},
   "source": [
    "## Locales\n",
    "- Uso dentro de una función\n",
    "- Tener restricción al acceder a una variable local desde otra función\n",
    "- No utilizables durante todo el programa\n",
    "- Alcance y visibilidad se limita al interior de la función\n",
    "- Lo que dure la función será lo que dure el alcance la variable"
   ]
  },
  {
   "cell_type": "code",
   "execution_count": 3,
   "id": "b97d68a6",
   "metadata": {},
   "outputs": [],
   "source": [
    "#Variable Global\n",
    "my_global_variable=50\n",
    "\n",
    "def my_function_1():\n",
    "        pass\n",
    "\n",
    "def my_function_2():\n",
    "        pass"
   ]
  },
  {
   "cell_type": "code",
   "execution_count": 4,
   "id": "09af53db",
   "metadata": {},
   "outputs": [],
   "source": [
    "#Variable Local\n",
    "def my_function_1():\n",
    "        my_local_variable=5\n",
    "\n",
    "def my_function_2():\n",
    "        my_local_variable=35"
   ]
  },
  {
   "cell_type": "code",
   "execution_count": 31,
   "id": "8f0c91b6",
   "metadata": {},
   "outputs": [],
   "source": [
    "def my_function_1():\n",
    "    my_variable=10 # Local\n",
    "    print(\"my_function_1 - El valor de my_variable es: \", my_variable)\n",
    "\n",
    "def my_function_2():\n",
    "    my_variable=20 # Local\n",
    "    print(\"my_function_2 - El valor de my_variable es: \", my_variable)\n",
    "\n",
    "def my_function_3():\n",
    "    print(\"my_function_3 - El valor de my_variable es: \", my_variable)"
   ]
  },
  {
   "cell_type": "code",
   "execution_count": 20,
   "id": "2c98fa5f",
   "metadata": {},
   "outputs": [
    {
     "name": "stdout",
     "output_type": "stream",
     "text": [
      "my_function_1 - El valor de my_variable es:  10\n"
     ]
    }
   ],
   "source": [
    "my_function_1()"
   ]
  },
  {
   "cell_type": "code",
   "execution_count": 21,
   "id": "f34fe9eb",
   "metadata": {},
   "outputs": [
    {
     "name": "stdout",
     "output_type": "stream",
     "text": [
      "my_function_2 - El valor de my_variable es:  20\n"
     ]
    }
   ],
   "source": [
    "my_function_2()"
   ]
  },
  {
   "cell_type": "code",
   "execution_count": 10,
   "id": "c81a35cf",
   "metadata": {},
   "outputs": [
    {
     "ename": "NameError",
     "evalue": "name 'my_function_3' is not defined",
     "output_type": "error",
     "traceback": [
      "\u001b[0;31m---------------------------------------------------------------------------\u001b[0m",
      "\u001b[0;31mNameError\u001b[0m                                 Traceback (most recent call last)",
      "Cell \u001b[0;32mIn[10], line 2\u001b[0m\n\u001b[1;32m      1\u001b[0m \u001b[38;5;66;03m# error\u001b[39;00m\n\u001b[0;32m----> 2\u001b[0m my_function_3()\n",
      "\u001b[0;31mNameError\u001b[0m: name 'my_function_3' is not defined"
     ]
    }
   ],
   "source": [
    "# error\n",
    "my_function_3()"
   ]
  },
  {
   "cell_type": "markdown",
   "id": "edf7700c",
   "metadata": {},
   "source": [
    "## Palabra reservada \"global\""
   ]
  },
  {
   "cell_type": "code",
   "execution_count": 22,
   "id": "b0dd9cb2",
   "metadata": {},
   "outputs": [
    {
     "ename": "SyntaxError",
     "evalue": "invalid syntax (19615183.py, line 6)",
     "output_type": "error",
     "traceback": [
      "\u001b[0;36m  Cell \u001b[0;32mIn[22], line 6\u001b[0;36m\u001b[0m\n\u001b[0;31m    global my_variable=20 # Global\u001b[0m\n\u001b[0m                      ^\u001b[0m\n\u001b[0;31mSyntaxError\u001b[0m\u001b[0;31m:\u001b[0m invalid syntax\n"
     ]
    }
   ],
   "source": [
    "def my_function_1():\n",
    "    my_variable=10 # Local\n",
    "    print(\"my_function_1 - El valor de my_variable es: \", my_variable)\n",
    "\n",
    "def my_function_2(): \n",
    "    global my_variable=20 # Global\n",
    "    print(\"my_function_2 - El valor de my_variable es: \", my_variable)\n",
    "\n",
    "def my_function_3():\n",
    "    print(\"my_function_3 - El valor de my_variable es: \", my_variable)"
   ]
  },
  {
   "cell_type": "code",
   "execution_count": 17,
   "id": "ea5ddfe3",
   "metadata": {},
   "outputs": [
    {
     "name": "stdout",
     "output_type": "stream",
     "text": [
      "my_function_1 - El valor de my_variable es:  10\n"
     ]
    }
   ],
   "source": [
    "my_function_1()"
   ]
  },
  {
   "cell_type": "code",
   "execution_count": 18,
   "id": "880a7ae0",
   "metadata": {},
   "outputs": [
    {
     "name": "stdout",
     "output_type": "stream",
     "text": [
      "my_function_2 - El valor de my_variable es:  20\n"
     ]
    }
   ],
   "source": [
    "my_function_2()"
   ]
  },
  {
   "cell_type": "code",
   "execution_count": 19,
   "id": "17c4fc40",
   "metadata": {},
   "outputs": [
    {
     "ename": "NameError",
     "evalue": "name 'my_variable' is not defined",
     "output_type": "error",
     "traceback": [
      "\u001b[0;31m---------------------------------------------------------------------------\u001b[0m",
      "\u001b[0;31mNameError\u001b[0m                                 Traceback (most recent call last)",
      "Cell \u001b[0;32mIn[19], line 1\u001b[0m\n\u001b[0;32m----> 1\u001b[0m my_function_3()\n",
      "Cell \u001b[0;32mIn[16], line 10\u001b[0m, in \u001b[0;36mmy_function_3\u001b[0;34m()\u001b[0m\n\u001b[1;32m      9\u001b[0m \u001b[38;5;28;01mdef\u001b[39;00m \u001b[38;5;21mmy_function_3\u001b[39m():\n\u001b[0;32m---> 10\u001b[0m     \u001b[38;5;28mprint\u001b[39m(\u001b[38;5;124m\"\u001b[39m\u001b[38;5;124mmy_function_3 - El valor de my_variable es: \u001b[39m\u001b[38;5;124m\"\u001b[39m, my_variable)\n",
      "\u001b[0;31mNameError\u001b[0m: name 'my_variable' is not defined"
     ]
    }
   ],
   "source": [
    "my_function_3()"
   ]
  },
  {
   "cell_type": "markdown",
   "id": "470afe4b",
   "metadata": {},
   "source": [
    "## Tipos de Enteros\n",
    "- Decimal\n",
    "- Binaria\n",
    "- Octal\n",
    "- Hexadecimal"
   ]
  },
  {
   "cell_type": "markdown",
   "id": "836a11c0",
   "metadata": {},
   "source": [
    "### Decimal"
   ]
  },
  {
   "cell_type": "code",
   "execution_count": 23,
   "id": "fb52531e",
   "metadata": {},
   "outputs": [
    {
     "name": "stdout",
     "output_type": "stream",
     "text": [
      "El valor de my_decimal_number es:  55\n"
     ]
    }
   ],
   "source": [
    "my_decimal_number = 55\n",
    "print (\"El valor de my_decimal_number es: \", my_decimal_number)"
   ]
  },
  {
   "cell_type": "markdown",
   "id": "5f6503d1",
   "metadata": {},
   "source": [
    "### Binaria\n",
    "- Código organizado en bytes\n",
    "- Lenguaje Binario (máquinas)\n",
    "- Usa 1 y 0\n",
    "\n",
    "#### Valor base: 2\n",
    "- Solo acepta dos dígitos (1 y 0)\n",
    "- Prefijo 0b o 0B"
   ]
  },
  {
   "cell_type": "code",
   "execution_count": 26,
   "id": "82b07b3b",
   "metadata": {},
   "outputs": [
    {
     "name": "stdout",
     "output_type": "stream",
     "text": [
      "El valor de my_decimal_number es:  3\n"
     ]
    }
   ],
   "source": [
    "my_binary_number = 0b11 # (1 *2**1) + (1*2**0)\n",
    "print (\"El valor de my_decimal_number es: \", my_binary_number)"
   ]
  },
  {
   "cell_type": "code",
   "execution_count": 28,
   "id": "b6aa8195",
   "metadata": {},
   "outputs": [
    {
     "name": "stdout",
     "output_type": "stream",
     "text": [
      "El valor de my_decimal_number es:  7\n"
     ]
    }
   ],
   "source": [
    "my_binary_number = 0b111 # (1 *2**2) + (1 *2**1) + (1*2**0)\n",
    "print (\"El valor de my_decimal_number es: \", my_binary_number)"
   ]
  },
  {
   "cell_type": "markdown",
   "id": "bd434f1f",
   "metadata": {},
   "source": [
    "## Octal\n",
    "\n",
    "#### Valor base: 8\n",
    "- Acepta dígitos 0 -> 7\n",
    "- Prefijo 0o o 0O"
   ]
  },
  {
   "cell_type": "code",
   "execution_count": 29,
   "id": "a45e9068",
   "metadata": {},
   "outputs": [
    {
     "name": "stdout",
     "output_type": "stream",
     "text": [
      "El valor de my_decimal_number es:  15\n"
     ]
    }
   ],
   "source": [
    "my_octal_number = 0o17 # (1 *8**1) + (7*8**0)\n",
    "print (\"El valor de my_decimal_number es: \", my_octal_number)"
   ]
  },
  {
   "cell_type": "code",
   "execution_count": 30,
   "id": "8ab98bb2",
   "metadata": {},
   "outputs": [
    {
     "name": "stdout",
     "output_type": "stream",
     "text": [
      "El valor de my_decimal_number es:  107\n"
     ]
    }
   ],
   "source": [
    "my_octal_number = 0o153 # (1 *8**2) + (5*8**1) + (3*8**0)\n",
    "print (\"El valor de my_decimal_number es: \", my_octal_number)"
   ]
  },
  {
   "cell_type": "markdown",
   "id": "b913e92f",
   "metadata": {},
   "source": [
    "### Hexadecimal\n",
    "\n",
    "#### Valor base: 16\n",
    "- Acepta dígitos 0 -> 9\n",
    "- Acepta letras a/A -> f/F\n",
    "- Prefijo 0x o 0X\n",
    "\n",
    "- 0\n",
    "- 1\n",
    "- 2\n",
    "- 3\n",
    "- 4\n",
    "- 5\n",
    "- 6\n",
    "- 7\n",
    "- 8\n",
    "- 9\n",
    "- a = 10\n",
    "- b = 11\n",
    "- c = 12\n",
    "- d = 13\n",
    "- e = 14\n",
    "- f = 15"
   ]
  },
  {
   "cell_type": "code",
   "execution_count": 33,
   "id": "b7f3d7ac",
   "metadata": {},
   "outputs": [
    {
     "name": "stdout",
     "output_type": "stream",
     "text": [
      "El valor de my_decimal_number es:  23\n"
     ]
    }
   ],
   "source": [
    "my_hex_number = 0x17 # (1 *16**1) + (7 *16**0)\n",
    "print (\"El valor de my_decimal_number es: \", my_hex_number)"
   ]
  },
  {
   "cell_type": "code",
   "execution_count": 34,
   "id": "9bb6fc11",
   "metadata": {},
   "outputs": [
    {
     "name": "stdout",
     "output_type": "stream",
     "text": [
      "El valor de my_decimal_number es:  28\n"
     ]
    }
   ],
   "source": [
    "my_hex_number = 0x1c # (1 *16**1) + (12 *16**0)\n",
    "print (\"El valor de my_decimal_number es: \", my_hex_number)"
   ]
  },
  {
   "cell_type": "code",
   "execution_count": null,
   "id": "71e3ba75",
   "metadata": {},
   "outputs": [],
   "source": []
  }
 ],
 "metadata": {
  "kernelspec": {
   "display_name": "Python 3 (ipykernel)",
   "language": "python",
   "name": "python3"
  },
  "language_info": {
   "codemirror_mode": {
    "name": "ipython",
    "version": 3
   },
   "file_extension": ".py",
   "mimetype": "text/x-python",
   "name": "python",
   "nbconvert_exporter": "python",
   "pygments_lexer": "ipython3",
   "version": "3.11.5"
  }
 },
 "nbformat": 4,
 "nbformat_minor": 5
}

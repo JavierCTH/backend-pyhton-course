{
 "cells": [
  {
   "cell_type": "markdown",
   "id": "927ed334",
   "metadata": {},
   "source": [
    "# Panorama\n",
    "\n",
    "int - Integer/Enteros\n",
    "\n",
    "float - Float/Números con Decimales\n",
    "\n",
    "complex - Complex/Coplejos (Números con una parte real y una imaginaria)\n",
    "\n",
    "bool - Boolean/Valores Lógicos (True/False)(Verdadero/Falso)\n",
    "\n",
    "str - String/Cadena, Textos"
   ]
  },
  {
   "cell_type": "markdown",
   "id": "b24c1a68",
   "metadata": {},
   "source": [
    "## int - Integer/Enteros ##"
   ]
  },
  {
   "cell_type": "code",
   "execution_count": 3,
   "id": "f97c6961",
   "metadata": {},
   "outputs": [
    {
     "name": "stdout",
     "output_type": "stream",
     "text": [
      "The value of my_integer is:  99\n",
      "Type of my_integer is:  <class 'int'>\n"
     ]
    }
   ],
   "source": [
    "my_integer = 99\n",
    "print(\"The value of my_integer is: \", my_integer)\n",
    "print(\"Type of my_integer is: \", type(my_integer))"
   ]
  },
  {
   "cell_type": "code",
   "execution_count": 4,
   "id": "5330e1ce",
   "metadata": {},
   "outputs": [
    {
     "ename": "SyntaxError",
     "evalue": "invalid decimal literal (2843725682.py, line 1)",
     "output_type": "error",
     "traceback": [
      "\u001b[0;36m  Cell \u001b[0;32mIn[4], line 1\u001b[0;36m\u001b[0m\n\u001b[0;31m    my_integer = 99f\u001b[0m\n\u001b[0m                  ^\u001b[0m\n\u001b[0;31mSyntaxError\u001b[0m\u001b[0;31m:\u001b[0m invalid decimal literal\n"
     ]
    }
   ],
   "source": [
    "my_integer = 99f\n",
    "print(\"The value of my_integer is: \", my_integer)\n",
    "print(\"Type of my_integer is: \", type(my_integer))"
   ]
  },
  {
   "cell_type": "markdown",
   "id": "efd01271",
   "metadata": {},
   "source": [
    "## float - Float/Números con Decimales ##"
   ]
  },
  {
   "cell_type": "code",
   "execution_count": 6,
   "id": "877e35f7",
   "metadata": {},
   "outputs": [
    {
     "name": "stdout",
     "output_type": "stream",
     "text": [
      "The value of empanada is:  15.99\n",
      "Type of empanada is:  <class 'float'>\n"
     ]
    }
   ],
   "source": [
    "empanada = 15.99\n",
    "print(\"The value of empanada is: \", empanada)\n",
    "print(\"Type of empanada is: \", type(empanada))"
   ]
  },
  {
   "cell_type": "code",
   "execution_count": 7,
   "id": "080bad1c",
   "metadata": {},
   "outputs": [
    {
     "name": "stdout",
     "output_type": "stream",
     "text": [
      "The value of efloat is:  20000.0\n",
      "Type of efloat is:  <class 'float'>\n"
     ]
    }
   ],
   "source": [
    "# notacion científica\n",
    "efloat = 2e4\n",
    "print(\"The value of efloat is: \", efloat)\n",
    "print(\"Type of efloat is: \", type(efloat))"
   ]
  },
  {
   "cell_type": "markdown",
   "id": "5f52f4ed",
   "metadata": {},
   "source": [
    "## complex - Complejos (números con parte real y una imaginaria)\n",
    "\n",
    "complex = x + yj\n",
    "\n",
    "x = real\n",
    "yj = imaginaria"
   ]
  },
  {
   "cell_type": "code",
   "execution_count": 2,
   "id": "f7d4ddc4",
   "metadata": {},
   "outputs": [
    {
     "name": "stdout",
     "output_type": "stream",
     "text": [
      "The value of empanada_complex is:  (5+9j)\n",
      "Type of empanada_complex is:  <class 'complex'>\n"
     ]
    }
   ],
   "source": [
    "empanada_complex = 5 + 9j\n",
    "print(\"The value of empanada_complex is: \", empanada_complex)\n",
    "print(\"Type of empanada_complex is: \", type(empanada_complex))"
   ]
  },
  {
   "cell_type": "markdown",
   "id": "67b19661",
   "metadata": {},
   "source": [
    "## bool - Boolean/Valores Lógicos (True/False)"
   ]
  },
  {
   "cell_type": "code",
   "execution_count": 3,
   "id": "8fc3bf2b",
   "metadata": {},
   "outputs": [
    {
     "name": "stdout",
     "output_type": "stream",
     "text": [
      "The value of driver_tip is:  False\n",
      "Type of driver_tip is:  <class 'bool'>\n"
     ]
    }
   ],
   "source": [
    "driver_tip = False\n",
    "print(\"The value of driver_tip is: \", driver_tip)\n",
    "print(\"Type of driver_tip is: \", type(driver_tip))"
   ]
  },
  {
   "cell_type": "code",
   "execution_count": 4,
   "id": "f6ef73d3",
   "metadata": {},
   "outputs": [
    {
     "name": "stdout",
     "output_type": "stream",
     "text": [
      "The value of driver_tip is:  True\n",
      "Type of driver_tip is:  <class 'bool'>\n"
     ]
    }
   ],
   "source": [
    "driver_tip = True\n",
    "print(\"The value of driver_tip is: \", driver_tip)\n",
    "print(\"Type of driver_tip is: \", type(driver_tip))"
   ]
  },
  {
   "cell_type": "code",
   "execution_count": 5,
   "id": "21dde661",
   "metadata": {},
   "outputs": [],
   "source": [
    "# True = 1\n",
    "# False = 0"
   ]
  },
  {
   "cell_type": "code",
   "execution_count": 7,
   "id": "27501f8c",
   "metadata": {},
   "outputs": [
    {
     "name": "stdout",
     "output_type": "stream",
     "text": [
      "3\n"
     ]
    }
   ],
   "source": [
    "#3\n",
    "print(True+True+True)"
   ]
  },
  {
   "cell_type": "code",
   "execution_count": 8,
   "id": "b9b9df8f",
   "metadata": {},
   "outputs": [
    {
     "name": "stdout",
     "output_type": "stream",
     "text": [
      "2\n"
     ]
    }
   ],
   "source": [
    "#2\n",
    "print(True+False+True)"
   ]
  },
  {
   "cell_type": "code",
   "execution_count": 11,
   "id": "9b5ca14b",
   "metadata": {},
   "outputs": [
    {
     "name": "stdout",
     "output_type": "stream",
     "text": [
      "1\n"
     ]
    }
   ],
   "source": [
    "#1\n",
    "print(True-False-False)"
   ]
  },
  {
   "cell_type": "markdown",
   "id": "f4500d70",
   "metadata": {},
   "source": [
    "## str - String / Cadena, Textos"
   ]
  },
  {
   "cell_type": "code",
   "execution_count": 15,
   "id": "7bef2864",
   "metadata": {},
   "outputs": [
    {
     "name": "stdout",
     "output_type": "stream",
     "text": [
      "The value of address is:  \"\n",
      "123 st\n",
      "\n",
      "Av no av\n",
      "\n",
      "City Narnia\n",
      "\n",
      "Type of address is:  <class 'str'>\n"
     ]
    }
   ],
   "source": [
    "address = \"\"\"\"\n",
    "123 st\\n\n",
    "Av no av\\n\n",
    "City Narnia\n",
    "\"\"\"\n",
    "print(\"The value of address is: \", address)\n",
    "print(\"Type of address is: \", type(address))"
   ]
  },
  {
   "cell_type": "markdown",
   "id": "7b18a1ab",
   "metadata": {},
   "source": [
    "## Variables\n",
    "\n",
    "### Qué es una variable ?\n",
    "- Espacio temporal para guardar un valor con un nombre específico\n",
    "- No hay necesidad de declarar el tipo de dato específicamente\n",
    "- Python es un lenguaje tipado dinámicamente, el tipo de dato se define mientras corre el programa\n",
    "- Las variables funcionan diferente que otros lenguajes de programación\n",
    "- No necesitamos crear variable, solo asignamos un nombre a un valor usando el operador de asignación\n",
    "\n",
    "### Tipos:\n",
    "- Globales : utilizadas para todo el programa\n",
    "- Locales : utilizadas solo en un bloque específico"
   ]
  },
  {
   "cell_type": "markdown",
   "id": "4adce566",
   "metadata": {},
   "source": [
    "## Globales\n",
    "- Declaramos variables globales afuera de funciones\n",
    "- El valor de la variable puede ser constante para todo el programa\n",
    "- Cualquier función puede acceder a estas variables\n",
    "- Tienen un alcance global\n",
    "- Usadas para constantes, normalmente\n",
    "- Mantienen sus valores a través de la ejecución completa de tu programa\n",
    "- Puede ser accesada por cualquier función"
   ]
  },
  {
   "cell_type": "code",
   "execution_count": null,
   "id": "adbd9868",
   "metadata": {},
   "outputs": [],
   "source": [
    "#Variable Global\n",
    "my_global_variable=50\n",
    "\n",
    "def my_function_1():\n",
    "        pass\n",
    "\n",
    "def my_function_2():\n",
    "        pass"
   ]
  },
  {
   "cell_type": "code",
   "execution_count": null,
   "id": "86339510",
   "metadata": {},
   "outputs": [],
   "source": [
    "def my_function_1():\n",
    "        my_local_variable=5\n",
    "\n",
    "def my_function_2():\n",
    "        my_local_variable=35"
   ]
  },
  {
   "cell_type": "code",
   "execution_count": 19,
   "id": "aeb31a54",
   "metadata": {},
   "outputs": [],
   "source": [
    "#Variable Global\n",
    "my_global_variable=50\n",
    "\n",
    "def my_function_1():\n",
    "    print(\"my_function_1 - El valor de my_global_variable es: \", my_global_variable)\n",
    "\n",
    "def my_function_2():\n",
    "    print(\"my_function_2 - El valor de my_global_variable es: \", my_global_variable)"
   ]
  },
  {
   "cell_type": "code",
   "execution_count": 20,
   "id": "c73b8d6f",
   "metadata": {},
   "outputs": [
    {
     "name": "stdout",
     "output_type": "stream",
     "text": [
      "my_function_1 - El valor de my_global_variable es:  50\n"
     ]
    }
   ],
   "source": [
    "my_function_1()"
   ]
  },
  {
   "cell_type": "code",
   "execution_count": 22,
   "id": "918fcefb",
   "metadata": {},
   "outputs": [
    {
     "name": "stdout",
     "output_type": "stream",
     "text": [
      "my_function_2 - El valor de my_global_variable es:  50\n"
     ]
    }
   ],
   "source": [
    "my_function_2()"
   ]
  },
  {
   "cell_type": "code",
   "execution_count": 25,
   "id": "7b0d5592",
   "metadata": {},
   "outputs": [],
   "source": [
    "# Preferencia al valor local y después al global\n",
    "my_variable=50 # Global\n",
    "\n",
    "def my_function_1():\n",
    "    my_variable=10 # Local\n",
    "    print(\"my_function_1 - El valor de my_variable es: \", my_variable)\n",
    "\n",
    "def my_function_2():\n",
    "    my_variable=20 # Local\n",
    "    print(\"my_function_2 - El valor de my_variable es: \", my_variable)\n",
    "\n",
    "def my_function_3():\n",
    "    print(\"my_function_3 - El valor de my_variable es: \", my_variable)"
   ]
  },
  {
   "cell_type": "code",
   "execution_count": 26,
   "id": "0ca3de47",
   "metadata": {},
   "outputs": [
    {
     "name": "stdout",
     "output_type": "stream",
     "text": [
      "my_function_1 - El valor de my_variable es:  10\n"
     ]
    }
   ],
   "source": [
    "my_function_1()"
   ]
  },
  {
   "cell_type": "code",
   "execution_count": 27,
   "id": "d7402f76",
   "metadata": {},
   "outputs": [
    {
     "name": "stdout",
     "output_type": "stream",
     "text": [
      "my_function_2 - El valor de my_variable es:  20\n"
     ]
    }
   ],
   "source": [
    "my_function_2()"
   ]
  },
  {
   "cell_type": "code",
   "execution_count": 28,
   "id": "7ab18d10",
   "metadata": {},
   "outputs": [
    {
     "name": "stdout",
     "output_type": "stream",
     "text": [
      "my_function_3 - El valor de my_variable es:  50\n"
     ]
    }
   ],
   "source": [
    "my_function_3()"
   ]
  },
  {
   "cell_type": "markdown",
   "id": "4474a813",
   "metadata": {},
   "source": [
    "## Locales\n",
    "- Uso dentro de una función\n",
    "- Tener restricción al acceder a una variable local desde otra función\n",
    "- No utilizables durante todo el programa\n",
    "- Alcance y visibilidad se limita al interior de la función\n",
    "- Lo que dure la función será lo que dure el alcance la variable"
   ]
  },
  {
   "cell_type": "code",
   "execution_count": 3,
   "id": "e13be098",
   "metadata": {},
   "outputs": [],
   "source": [
    "#Variable Global\n",
    "my_global_variable=50\n",
    "\n",
    "def my_function_1():\n",
    "        pass\n",
    "\n",
    "def my_function_2():\n",
    "        pass"
   ]
  },
  {
   "cell_type": "code",
   "execution_count": 4,
   "id": "9453185f",
   "metadata": {},
   "outputs": [],
   "source": [
    "#Variable Local\n",
    "def my_function_1():\n",
    "        my_local_variable=5\n",
    "\n",
    "def my_function_2():\n",
    "        my_local_variable=35"
   ]
  },
  {
   "cell_type": "code",
   "execution_count": 31,
   "id": "79f93f5c",
   "metadata": {},
   "outputs": [],
   "source": [
    "def my_function_1():\n",
    "    my_variable=10 # Local\n",
    "    print(\"my_function_1 - El valor de my_variable es: \", my_variable)\n",
    "\n",
    "def my_function_2():\n",
    "    my_variable=20 # Local\n",
    "    print(\"my_function_2 - El valor de my_variable es: \", my_variable)\n",
    "\n",
    "def my_function_3():\n",
    "    print(\"my_function_3 - El valor de my_variable es: \", my_variable)"
   ]
  },
  {
   "cell_type": "code",
   "execution_count": 20,
   "id": "b9b60eb5",
   "metadata": {},
   "outputs": [
    {
     "name": "stdout",
     "output_type": "stream",
     "text": [
      "my_function_1 - El valor de my_variable es:  10\n"
     ]
    }
   ],
   "source": [
    "my_function_1()"
   ]
  },
  {
   "cell_type": "code",
   "execution_count": 21,
   "id": "9692a43b",
   "metadata": {},
   "outputs": [
    {
     "name": "stdout",
     "output_type": "stream",
     "text": [
      "my_function_2 - El valor de my_variable es:  20\n"
     ]
    }
   ],
   "source": [
    "my_function_2()"
   ]
  },
  {
   "cell_type": "code",
   "execution_count": 10,
   "id": "839ac00d",
   "metadata": {},
   "outputs": [
    {
     "ename": "NameError",
     "evalue": "name 'my_function_3' is not defined",
     "output_type": "error",
     "traceback": [
      "\u001b[0;31m---------------------------------------------------------------------------\u001b[0m",
      "\u001b[0;31mNameError\u001b[0m                                 Traceback (most recent call last)",
      "Cell \u001b[0;32mIn[10], line 2\u001b[0m\n\u001b[1;32m      1\u001b[0m \u001b[38;5;66;03m# error\u001b[39;00m\n\u001b[0;32m----> 2\u001b[0m my_function_3()\n",
      "\u001b[0;31mNameError\u001b[0m: name 'my_function_3' is not defined"
     ]
    }
   ],
   "source": [
    "# error\n",
    "my_function_3()"
   ]
  },
  {
   "cell_type": "markdown",
   "id": "0c81a908",
   "metadata": {},
   "source": [
    "## Palabra reservada \"global\""
   ]
  },
  {
   "cell_type": "code",
   "execution_count": 36,
   "id": "5146279f",
   "metadata": {},
   "outputs": [],
   "source": [
    "def my_function_1():\n",
    "    my_variable=10 # Local\n",
    "    print(\"my_function_1 - El valor de my_variable es: \", my_variable)\n",
    "\n",
    "def my_function_2():\n",
    "    global my_variable # Global\n",
    "    my_variable=20\n",
    "    print(\"my_function_2 - El valor de my_variable es: \", my_variable)\n",
    "\n",
    "def my_function_3():\n",
    "    print(\"my_function_3 - El valor de my_variable es: \", my_variable)"
   ]
  },
  {
   "cell_type": "code",
   "execution_count": 37,
   "id": "a8ddaa23",
   "metadata": {},
   "outputs": [
    {
     "name": "stdout",
     "output_type": "stream",
     "text": [
      "my_function_1 - El valor de my_variable es:  10\n"
     ]
    }
   ],
   "source": [
    "my_function_1()"
   ]
  },
  {
   "cell_type": "code",
   "execution_count": 38,
   "id": "b633a1fb",
   "metadata": {},
   "outputs": [
    {
     "name": "stdout",
     "output_type": "stream",
     "text": [
      "my_function_2 - El valor de my_variable es:  20\n"
     ]
    }
   ],
   "source": [
    "my_function_2()"
   ]
  },
  {
   "cell_type": "code",
   "execution_count": 39,
   "id": "d8c71198",
   "metadata": {},
   "outputs": [
    {
     "name": "stdout",
     "output_type": "stream",
     "text": [
      "my_function_3 - El valor de my_variable es:  20\n"
     ]
    }
   ],
   "source": [
    "my_function_3()"
   ]
  },
  {
   "cell_type": "markdown",
   "id": "31f688fa",
   "metadata": {},
   "source": [
    "## Tipos de Enteros\n",
    "- Decimal\n",
    "- Binaria\n",
    "- Octal\n",
    "- Hexadecimal"
   ]
  },
  {
   "cell_type": "markdown",
   "id": "5f994cf6",
   "metadata": {},
   "source": [
    "### Decimal"
   ]
  },
  {
   "cell_type": "code",
   "execution_count": 23,
   "id": "15719511",
   "metadata": {},
   "outputs": [
    {
     "name": "stdout",
     "output_type": "stream",
     "text": [
      "El valor de my_decimal_number es:  55\n"
     ]
    }
   ],
   "source": [
    "my_decimal_number = 55\n",
    "print (\"El valor de my_decimal_number es: \", my_decimal_number)"
   ]
  },
  {
   "cell_type": "markdown",
   "id": "d287fc72",
   "metadata": {},
   "source": [
    "### Binaria\n",
    "- Código organizado en bytes\n",
    "- Lenguaje Binario (máquinas)\n",
    "- Usa 1 y 0\n",
    "\n",
    "#### Valor base: 2\n",
    "- Solo acepta dos dígitos (1 y 0)\n",
    "- Prefijo 0b o 0B"
   ]
  },
  {
   "cell_type": "code",
   "execution_count": 26,
   "id": "426f8205",
   "metadata": {},
   "outputs": [
    {
     "name": "stdout",
     "output_type": "stream",
     "text": [
      "El valor de my_decimal_number es:  3\n"
     ]
    }
   ],
   "source": [
    "my_binary_number = 0b11 # (1 *2**1) + (1*2**0)\n",
    "print (\"El valor de my_decimal_number es: \", my_binary_number)"
   ]
  },
  {
   "cell_type": "code",
   "execution_count": 28,
   "id": "ea73926f",
   "metadata": {},
   "outputs": [
    {
     "name": "stdout",
     "output_type": "stream",
     "text": [
      "El valor de my_decimal_number es:  7\n"
     ]
    }
   ],
   "source": [
    "my_binary_number = 0b111 # (1 *2**2) + (1 *2**1) + (1*2**0)\n",
    "print (\"El valor de my_decimal_number es: \", my_binary_number)"
   ]
  },
  {
   "cell_type": "markdown",
   "id": "6bd2fb44",
   "metadata": {},
   "source": [
    "## Octal\n",
    "\n",
    "#### Valor base: 8\n",
    "- Acepta dígitos 0 -> 7\n",
    "- Prefijo 0o o 0O"
   ]
  },
  {
   "cell_type": "code",
   "execution_count": 29,
   "id": "a135f376",
   "metadata": {},
   "outputs": [
    {
     "name": "stdout",
     "output_type": "stream",
     "text": [
      "El valor de my_decimal_number es:  15\n"
     ]
    }
   ],
   "source": [
    "my_octal_number = 0o17 # (1 *8**1) + (7*8**0)\n",
    "print (\"El valor de my_decimal_number es: \", my_octal_number)"
   ]
  },
  {
   "cell_type": "code",
   "execution_count": 30,
   "id": "d4919c39",
   "metadata": {},
   "outputs": [
    {
     "name": "stdout",
     "output_type": "stream",
     "text": [
      "El valor de my_decimal_number es:  107\n"
     ]
    }
   ],
   "source": [
    "my_octal_number = 0o153 # (1 *8**2) + (5*8**1) + (3*8**0)\n",
    "print (\"El valor de my_decimal_number es: \", my_octal_number)"
   ]
  },
  {
   "cell_type": "markdown",
   "id": "9ef1f3ef",
   "metadata": {},
   "source": [
    "### Hexadecimal\n",
    "\n",
    "#### Valor base: 16\n",
    "- Acepta dígitos 0 -> 9\n",
    "- Acepta letras a/A -> f/F\n",
    "- Prefijo 0x o 0X\n",
    "\n",
    "- 0\n",
    "- 1\n",
    "- 2\n",
    "- 3\n",
    "- 4\n",
    "- 5\n",
    "- 6\n",
    "- 7\n",
    "- 8\n",
    "- 9\n",
    "- a = 10\n",
    "- b = 11\n",
    "- c = 12\n",
    "- d = 13\n",
    "- e = 14\n",
    "- f = 15"
   ]
  },
  {
   "cell_type": "code",
   "execution_count": 33,
   "id": "8e3a806a",
   "metadata": {},
   "outputs": [
    {
     "name": "stdout",
     "output_type": "stream",
     "text": [
      "El valor de my_decimal_number es:  23\n"
     ]
    }
   ],
   "source": [
    "my_hex_number = 0x17 # (1 *16**1) + (7 *16**0)\n",
    "print (\"El valor de my_decimal_number es: \", my_hex_number)"
   ]
  },
  {
   "cell_type": "code",
   "execution_count": 34,
   "id": "bba3e99d",
   "metadata": {},
   "outputs": [
    {
     "name": "stdout",
     "output_type": "stream",
     "text": [
      "El valor de my_decimal_number es:  28\n"
     ]
    }
   ],
   "source": [
    "my_hex_number = 0x1c # (1 *16**1) + (12 *16**0)\n",
    "print (\"El valor de my_decimal_number es: \", my_hex_number)"
   ]
  },
  {
   "cell_type": "code",
   "execution_count": null,
   "id": "6d75b8d9",
   "metadata": {},
   "outputs": [],
   "source": []
  }
 ],
 "metadata": {
  "kernelspec": {
   "display_name": "Python 3 (ipykernel)",
   "language": "python",
   "name": "python3"
  },
  "language_info": {
   "codemirror_mode": {
    "name": "ipython",
    "version": 3
   },
   "file_extension": ".py",
   "mimetype": "text/x-python",
   "name": "python",
   "nbconvert_exporter": "python",
   "pygments_lexer": "ipython3",
   "version": "3.11.5"
  }
 },
 "nbformat": 4,
 "nbformat_minor": 5
}

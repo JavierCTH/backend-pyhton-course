{
 "cells": [
  {
   "cell_type": "code",
   "execution_count": 1,
   "id": "7df2c10e",
   "metadata": {},
   "outputs": [
    {
     "name": "stdout",
     "output_type": "stream",
     "text": [
      "Operaciones\n",
      "1 +\n",
      "2 -\n",
      "3 *\n",
      "4 /\n",
      "5 **\n"
     ]
    },
    {
     "ename": "NameError",
     "evalue": "name 'sumar' is not defined",
     "output_type": "error",
     "traceback": [
      "\u001b[0;31m---------------------------------------------------------------------------\u001b[0m",
      "\u001b[0;31mNameError\u001b[0m                                 Traceback (most recent call last)",
      "Cell \u001b[0;32mIn[1], line 9\u001b[0m\n\u001b[1;32m      1\u001b[0m \u001b[38;5;28mprint\u001b[39m(\u001b[38;5;124m\"\u001b[39m\u001b[38;5;124mOperaciones\u001b[39m\u001b[38;5;124m\"\u001b[39m)\n\u001b[1;32m      2\u001b[0m \u001b[38;5;28mprint\u001b[39m(\n\u001b[1;32m      3\u001b[0m     \u001b[38;5;124m\"\u001b[39m\u001b[38;5;124m1 +\u001b[39m\u001b[38;5;130;01m\\n\u001b[39;00m\u001b[38;5;124m\"\u001b[39m\n\u001b[1;32m      4\u001b[0m     \u001b[38;5;124m\"\u001b[39m\u001b[38;5;124m2 -\u001b[39m\u001b[38;5;130;01m\\n\u001b[39;00m\u001b[38;5;124m\"\u001b[39m\n\u001b[1;32m      5\u001b[0m     \u001b[38;5;124m\"\u001b[39m\u001b[38;5;124m3 *\u001b[39m\u001b[38;5;130;01m\\n\u001b[39;00m\u001b[38;5;124m\"\u001b[39m\n\u001b[1;32m      6\u001b[0m     \u001b[38;5;124m\"\u001b[39m\u001b[38;5;124m4 /\u001b[39m\u001b[38;5;130;01m\\n\u001b[39;00m\u001b[38;5;124m\"\u001b[39m\n\u001b[1;32m      7\u001b[0m     \u001b[38;5;124m\"\u001b[39m\u001b[38;5;124m5 **\u001b[39m\u001b[38;5;124m\"\u001b[39m)\n\u001b[0;32m----> 9\u001b[0m Ops \u001b[38;5;241m=\u001b[39m {\u001b[38;5;124m\"\u001b[39m\u001b[38;5;124m+\u001b[39m\u001b[38;5;124m\"\u001b[39m:sumar, \u001b[38;5;124m\"\u001b[39m\u001b[38;5;124m-\u001b[39m\u001b[38;5;124m\"\u001b[39m:resta}\n\u001b[1;32m     10\u001b[0m \u001b[38;5;28mprint\u001b[39m(Ops)\n\u001b[1;32m     11\u001b[0m \u001b[38;5;28mprint\u001b[39m(\u001b[38;5;28mtype\u001b[39m(Ops))\n",
      "\u001b[0;31mNameError\u001b[0m: name 'sumar' is not defined"
     ]
    }
   ],
   "source": [
    "print(\"Operaciones\")\n",
    "print(\n",
    "    \"1 +\\n\"\n",
    "    \"2 -\\n\"\n",
    "    \"3 *\\n\"\n",
    "    \"4 /\\n\"\n",
    "    \"5 **\")\n",
    "\n",
    "operation = str(input(\"Pick an operation: \\n + \\n - \\n * \\n / \\n \"))\n",
    "print(Ops)\n",
    "print(type(Ops))\n",
    "\n",
    "operacion = int(input(\"Selecciona el número de operación: \"))\n",
    "\n",
    "print(\"Números\")\n",
    "n1 = int(input(\"Escriba el primer número: \"))\n",
    "n2 = int(input(\"Escriba el segundo número: \"))\n",
    "n3 = int(input(\"Escriba el tercer número: \"))\n",
    "n4 = int(input(\"Escriba el cuarto número: \"))\n",
    "n5 = int(input(\"Escriba el quinto número: \"))\n",
    "\n",
    "numbers = {n1, n2, n3, n4, n5}\n",
    "print(numbers)\n",
    "print(type(numbers))\n",
    "\n",
    "print(\"Resultados\", list(nums))\n"
   ]
  }
 ],
 "metadata": {
  "kernelspec": {
   "display_name": "Python 3 (ipykernel)",
   "language": "python",
   "name": "python3"
  },
  "language_info": {
   "codemirror_mode": {
    "name": "ipython",
    "version": 3
   },
   "file_extension": ".py",
   "mimetype": "text/x-python",
   "name": "python",
   "nbconvert_exporter": "python",
   "pygments_lexer": "ipython3",
   "version": "3.11.5"
  }
 },
 "nbformat": 4,
 "nbformat_minor": 5
}

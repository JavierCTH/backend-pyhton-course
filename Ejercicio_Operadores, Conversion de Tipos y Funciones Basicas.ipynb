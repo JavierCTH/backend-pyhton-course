{
 "cells": [
  {
   "cell_type": "code",
   "execution_count": 2,
   "id": "7df2c10e",
   "metadata": {},
   "outputs": [
    {
     "name": "stdout",
     "output_type": "stream",
     "text": [
      "Números\n",
      "Escriba el primer número: 1\n",
      "Escriba el segundo número: 2\n",
      "Escriba el tercer número: 4\n",
      "Escriba el cuarto número: 6\n",
      "Escriba el quinto número: 8\n",
      "Operación\n",
      "Selecciona una operación: \n",
      " + \n",
      " - \n",
      " * \n",
      " / \n",
      " **\n",
      "+\n"
     ]
    },
    {
     "ename": "TypeError",
     "evalue": "'str' object is not callable",
     "output_type": "error",
     "traceback": [
      "\u001b[0;31m---------------------------------------------------------------------------\u001b[0m",
      "\u001b[0;31mTypeError\u001b[0m                                 Traceback (most recent call last)",
      "Cell \u001b[0;32mIn[2], line 41\u001b[0m\n\u001b[1;32m     39\u001b[0m \u001b[38;5;28mdict\u001b[39m \u001b[38;5;241m=\u001b[39m {\u001b[38;5;124m\"\u001b[39m\u001b[38;5;124m+\u001b[39m\u001b[38;5;124m\"\u001b[39m: \u001b[38;5;124m\"\u001b[39m\u001b[38;5;124msuma\u001b[39m\u001b[38;5;124m\"\u001b[39m, \u001b[38;5;124m\"\u001b[39m\u001b[38;5;124m-\u001b[39m\u001b[38;5;124m\"\u001b[39m: \u001b[38;5;124m\"\u001b[39m\u001b[38;5;124mresta\u001b[39m\u001b[38;5;124m\"\u001b[39m, \u001b[38;5;124m\"\u001b[39m\u001b[38;5;124m*\u001b[39m\u001b[38;5;124m\"\u001b[39m: \u001b[38;5;124m\"\u001b[39m\u001b[38;5;124mmultiplicacion\u001b[39m\u001b[38;5;124m\"\u001b[39m, \u001b[38;5;124m\"\u001b[39m\u001b[38;5;124m/\u001b[39m\u001b[38;5;124m\"\u001b[39m: \u001b[38;5;124m\"\u001b[39m\u001b[38;5;124mdivision\u001b[39m\u001b[38;5;124m\"\u001b[39m, \u001b[38;5;124m\"\u001b[39m\u001b[38;5;124m**\u001b[39m\u001b[38;5;124m\"\u001b[39m: \u001b[38;5;124m\"\u001b[39m\u001b[38;5;124mpotencia\u001b[39m\u001b[38;5;124m\"\u001b[39m}\n\u001b[1;32m     40\u001b[0m funcion \u001b[38;5;241m=\u001b[39m \u001b[38;5;28mdict\u001b[39m[operacion]\n\u001b[0;32m---> 41\u001b[0m resultado \u001b[38;5;241m=\u001b[39m funcion(n1,n2,n3,n4,n5)\n",
      "\u001b[0;31mTypeError\u001b[0m: 'str' object is not callable"
     ]
    }
   ],
   "source": [
    "# Definiciones\n",
    "\n",
    "def sumar(n1,n2,n3,n4,n5):\n",
    "    suma=n1+n2+n3+n4+n5\n",
    "    print(\"La suma es: \",suma)\n",
    "\n",
    "def restar(n1,n2,n3,n4,n5):\n",
    "    resta = n1-n2-n3-n3-n5\n",
    "    print(\"La resta es: \",resta)\n",
    "\n",
    "def multiplicar(n1,n2,n3,n4,n5):\n",
    "    multiplicacion = n1*n2*n3*n4*n5\n",
    "    print(\"La multiplicación es: \",multiplicacion)\n",
    "\n",
    "def dividir(n1,n2,n3,n4,n5):\n",
    "    division = n1/n2/n3/n4/b5\n",
    "    print(\"La división es: \",division)\n",
    "    \n",
    "def potencia(n1,n2,n3,n4,n5):\n",
    "    potencia = n1**n2**n3**n4*n5\n",
    "    print(\"La potencia es: \",potencia)\n",
    "\n",
    "# Entrada de numeros    \n",
    "\n",
    "print(\"Números\")\n",
    "n1 = int(input(\"Escriba el primer número: \"))\n",
    "n2 = int(input(\"Escriba el segundo número: \"))\n",
    "n3 = int(input(\"Escriba el tercer número: \"))\n",
    "n4 = int(input(\"Escriba el cuarto número: \"))\n",
    "n5 = int(input(\"Escriba el quinto número: \"))\n",
    "    \n",
    "# Operaciones\n",
    "    \n",
    "print(\"Operación\")\n",
    "operacion = str(input(\"Selecciona una operación: \\n + \\n - \\n * \\n / \\n **\\n\"))\n",
    "\n",
    "# Resultado\n",
    "\n",
    "dict = {\"+\": \"suma\", \"-\": \"resta\", \"*\": \"multiplicacion\", \"/\": \"division\", \"**\": \"potencia\"}\n",
    "funcion = dict[operacion]\n",
    "resultado = funcion(n1,n2,n3,n4,n5) \n",
    "\n",
    "# A partir de este punto no logré continuar - Quisiera obtener correcciones/ayuda para hacer llamar el resultado"
   ]
  }
 ],
 "metadata": {
  "kernelspec": {
   "display_name": "Python 3 (ipykernel)",
   "language": "python",
   "name": "python3"
  },
  "language_info": {
   "codemirror_mode": {
    "name": "ipython",
    "version": 3
   },
   "file_extension": ".py",
   "mimetype": "text/x-python",
   "name": "python",
   "nbconvert_exporter": "python",
   "pygments_lexer": "ipython3",
   "version": "3.11.5"
  }
 },
 "nbformat": 4,
 "nbformat_minor": 5
}
